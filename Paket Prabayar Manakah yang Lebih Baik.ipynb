{
 "cells": [
  {
   "cell_type": "markdown",
   "metadata": {},
   "source": [
    "# Paket Prabayar Manakah yang Lebih Baik?"
   ]
  },
  {
   "cell_type": "markdown",
   "metadata": {},
   "source": [
    "# Konten\n",
    "<span style = 'color:green'>\n",
    "    \n",
    "1. Paket Prabayar Makanakah yang lebih baik?\n",
    "    \n",
    "    1.1 Inisialisasi\n",
    "    \n",
    "    1.2 Memuat Data\n",
    "    \n",
    "    1.3 Mempersiapkan Data\n",
    "    \n",
    "    1.4 Paket Prabayar\n",
    "    \n",
    "    1.5 Memperbaiki Data\n",
    "    \n",
    "    1.6 Memperkaya Kualitas Data\n",
    "    \n",
    "    1.7 Pengguna\n",
    "        \n",
    "        1.7.1 Memperbaiki Data\n",
    "        \n",
    "        1.7.2 Memperkaya Kualitas Data\n",
    "    \n",
    "    1.8 Panggilan\n",
    "        \n",
    "        1.8.1 Memperbaiki Data\n",
    "        \n",
    "        1.8.2 Memperkaya Kualitas Data\n",
    "    \n",
    "    1.9 SMS\n",
    "    \n",
    "        1.9.1 Memperbaiki Data\n",
    "        \n",
    "        1.9.2 Memperkaya Kualitas Data\n",
    "    \n",
    "    1.10 Internet\n",
    "        \n",
    "        1.10.1 Memperbaiki Data\n",
    "        \n",
    "        1.10.2 Memperkaya Kualitas Data\n",
    "    \n",
    "    1.11 Mempelajari Syarat dan Kondisi Terkait Paket Prabayar\n",
    "    \n",
    "    1.12 Mengagregasi Data per Pengguna\n",
    "    \n",
    "    1.13 Mempelajari Perilaku Pengguna\n",
    "    \n",
    "        1.13.1 Panggilan\n",
    "        \n",
    "        1.13.2 SMS\n",
    "        \n",
    "# Pendahuluan dan Tujuan\n",
    "Sebagai seorang analis di perusahaan operator telekomunikasi bernama Megaline. Perusahaan menawarkan dua jenis paket prabayar yaitu Surf dan Ultimate. Departemen periklanan dari perusahaan ini ingin mengetahui pendapatan yang lebih banyak dihasilakn dari paket jenis yang mana, sehingga dapat membuat anggaran iklan yang sesuai. \n",
    "\n",
    "Tujuan dari project ini dari 500 data Megaline pada tahun 2018, melalui analisa data dapat mengetahui:\n",
    "- perilaku pengguna serta paket mana yang lebih banyak menghasilkan pendapatan, \n",
    "- sehingga departemen periklanan perusahaan Megaline mendapatkan gambaran dalam membuat anggaran iklan yang sesuai.\n",
    "\n",
    "Langkah yang dilakukan dalam menganalisa data:\n",
    "1. Terdapat 5 file path, kelimanya dipelajari informasi umumnya.\n",
    "2. Menyiapkan data, kemudian mengoversi data menjadi tipe data yang dibutuhkan, kemudian menemukan dan mengeliminasi kesalahan data. Setiap pengguna perlu menemukan jumlah panggilan dan menit yang digunakan per bulan, jumlah SMS per bulan, volume data per bulan, serta pendapatan bulanan dari setiap pengguna.\n",
    "3. Menganalisa data, mendeskripsikan perilaku konsumen dan memvisualisaikannya melalui grafik yang sesuai.\n",
    "4. Uji hipotesisnya\n",
    "5. Kesimpulan yang menyeluruh.\n",
    "    \n",
    "</span>"
   ]
  },
  {
   "cell_type": "markdown",
   "metadata": {},
   "source": [
    "## Inisialisasi"
   ]
  },
  {
   "cell_type": "markdown",
   "metadata": {},
   "source": []
  },
  {
   "cell_type": "code",
   "execution_count": 175,
   "metadata": {},
   "outputs": [],
   "source": [
    "# Muat semua library\n",
    "import pandas as pd\n",
    "import matplotlib.pyplot as plt\n",
    "import seaborn as sns\n",
    "import numpy as np\n",
    "import random\n",
    "from datetime import datetime, timedelta\n",
    "from scipy import stats as st"
   ]
  },
  {
   "cell_type": "markdown",
   "metadata": {},
   "source": [
    "## Memuat Data"
   ]
  },
  {
   "cell_type": "markdown",
   "metadata": {},
   "source": []
  },
  {
   "cell_type": "code",
   "execution_count": 176,
   "metadata": {},
   "outputs": [],
   "source": [
    "# Muat file data ke dalam DataFrame yang berbeda\n",
    "df_calls = pd.read_csv('/datasets/megaline_calls.csv')\n",
    "df_internet = pd.read_csv('/datasets/megaline_internet.csv')\n",
    "df_messages = pd.read_csv('/datasets/megaline_messages.csv')\n",
    "df_plans = pd.read_csv('/datasets/megaline_plans.csv')\n",
    "df_users = pd.read_csv('/datasets/megaline_users.csv')"
   ]
  },
  {
   "cell_type": "markdown",
   "metadata": {},
   "source": [
    "## Mempersiapkan Data"
   ]
  },
  {
   "cell_type": "code",
   "execution_count": 177,
   "metadata": {},
   "outputs": [
    {
     "name": "stdout",
     "output_type": "stream",
     "text": [
      "<class 'pandas.core.frame.DataFrame'>\n",
      "RangeIndex: 137735 entries, 0 to 137734\n",
      "Data columns (total 4 columns):\n",
      " #   Column     Non-Null Count   Dtype  \n",
      "---  ------     --------------   -----  \n",
      " 0   id         137735 non-null  object \n",
      " 1   user_id    137735 non-null  int64  \n",
      " 2   call_date  137735 non-null  object \n",
      " 3   duration   137735 non-null  float64\n",
      "dtypes: float64(1), int64(1), object(2)\n",
      "memory usage: 4.2+ MB\n"
     ]
    }
   ],
   "source": [
    "df_calls.info()"
   ]
  },
  {
   "cell_type": "code",
   "execution_count": 178,
   "metadata": {},
   "outputs": [
    {
     "data": {
      "text/html": [
       "<div>\n",
       "<style scoped>\n",
       "    .dataframe tbody tr th:only-of-type {\n",
       "        vertical-align: middle;\n",
       "    }\n",
       "\n",
       "    .dataframe tbody tr th {\n",
       "        vertical-align: top;\n",
       "    }\n",
       "\n",
       "    .dataframe thead th {\n",
       "        text-align: right;\n",
       "    }\n",
       "</style>\n",
       "<table border=\"1\" class=\"dataframe\">\n",
       "  <thead>\n",
       "    <tr style=\"text-align: right;\">\n",
       "      <th></th>\n",
       "      <th>id</th>\n",
       "      <th>user_id</th>\n",
       "      <th>call_date</th>\n",
       "      <th>duration</th>\n",
       "    </tr>\n",
       "  </thead>\n",
       "  <tbody>\n",
       "    <tr>\n",
       "      <th>14228</th>\n",
       "      <td>1059_456</td>\n",
       "      <td>1059</td>\n",
       "      <td>2018-06-08</td>\n",
       "      <td>0.0</td>\n",
       "    </tr>\n",
       "  </tbody>\n",
       "</table>\n",
       "</div>"
      ],
      "text/plain": [
       "             id  user_id   call_date  duration\n",
       "14228  1059_456     1059  2018-06-08       0.0"
      ]
     },
     "execution_count": 178,
     "metadata": {},
     "output_type": "execute_result"
    }
   ],
   "source": [
    "df_calls.sample()"
   ]
  },
  {
   "cell_type": "markdown",
   "metadata": {},
   "source": [
    "<span style = 'color:green'>\n",
    "Data panggilan terdapat 4 kolom id, user_id, call_date, dan duration, pada data ini:\n",
    "    \n",
    "- Tidak ada nilai yang hilang, karena jumlah barisnya sudah sama untuk semua kolom\n",
    "- Kolom call_date dapat diubah dari object menjadi datetime\n",
    "</span>"
   ]
  },
  {
   "cell_type": "code",
   "execution_count": 179,
   "metadata": {},
   "outputs": [
    {
     "name": "stdout",
     "output_type": "stream",
     "text": [
      "<class 'pandas.core.frame.DataFrame'>\n",
      "RangeIndex: 104825 entries, 0 to 104824\n",
      "Data columns (total 4 columns):\n",
      " #   Column        Non-Null Count   Dtype  \n",
      "---  ------        --------------   -----  \n",
      " 0   id            104825 non-null  object \n",
      " 1   user_id       104825 non-null  int64  \n",
      " 2   session_date  104825 non-null  object \n",
      " 3   mb_used       104825 non-null  float64\n",
      "dtypes: float64(1), int64(1), object(2)\n",
      "memory usage: 3.2+ MB\n"
     ]
    }
   ],
   "source": [
    "df_internet.info()"
   ]
  },
  {
   "cell_type": "code",
   "execution_count": 180,
   "metadata": {},
   "outputs": [
    {
     "data": {
      "text/html": [
       "<div>\n",
       "<style scoped>\n",
       "    .dataframe tbody tr th:only-of-type {\n",
       "        vertical-align: middle;\n",
       "    }\n",
       "\n",
       "    .dataframe tbody tr th {\n",
       "        vertical-align: top;\n",
       "    }\n",
       "\n",
       "    .dataframe thead th {\n",
       "        text-align: right;\n",
       "    }\n",
       "</style>\n",
       "<table border=\"1\" class=\"dataframe\">\n",
       "  <thead>\n",
       "    <tr style=\"text-align: right;\">\n",
       "      <th></th>\n",
       "      <th>id</th>\n",
       "      <th>user_id</th>\n",
       "      <th>session_date</th>\n",
       "      <th>mb_used</th>\n",
       "    </tr>\n",
       "  </thead>\n",
       "  <tbody>\n",
       "    <tr>\n",
       "      <th>46223</th>\n",
       "      <td>1205_38</td>\n",
       "      <td>1205</td>\n",
       "      <td>2018-12-09</td>\n",
       "      <td>0.0</td>\n",
       "    </tr>\n",
       "  </tbody>\n",
       "</table>\n",
       "</div>"
      ],
      "text/plain": [
       "            id  user_id session_date  mb_used\n",
       "46223  1205_38     1205   2018-12-09      0.0"
      ]
     },
     "execution_count": 180,
     "metadata": {},
     "output_type": "execute_result"
    }
   ],
   "source": [
    "df_internet.sample()"
   ]
  },
  {
   "cell_type": "markdown",
   "metadata": {},
   "source": [
    "<span style = 'color:green'>\n",
    "Data internet terdapat 4 kolom id, user_id, session_date, dan mb_used, pada data ini:\n",
    "\n",
    "- Tidak ada nilai yang hilang, karena jumlah barisnya sudah sama untuk semua kolom\n",
    "- Kolom session_date dapat diubah dari object menjadi datetime\n",
    "</span>"
   ]
  },
  {
   "cell_type": "code",
   "execution_count": 181,
   "metadata": {},
   "outputs": [
    {
     "name": "stdout",
     "output_type": "stream",
     "text": [
      "<class 'pandas.core.frame.DataFrame'>\n",
      "RangeIndex: 76051 entries, 0 to 76050\n",
      "Data columns (total 3 columns):\n",
      " #   Column        Non-Null Count  Dtype \n",
      "---  ------        --------------  ----- \n",
      " 0   id            76051 non-null  object\n",
      " 1   user_id       76051 non-null  int64 \n",
      " 2   message_date  76051 non-null  object\n",
      "dtypes: int64(1), object(2)\n",
      "memory usage: 1.7+ MB\n"
     ]
    }
   ],
   "source": [
    "df_messages.info()"
   ]
  },
  {
   "cell_type": "code",
   "execution_count": 182,
   "metadata": {},
   "outputs": [
    {
     "data": {
      "text/html": [
       "<div>\n",
       "<style scoped>\n",
       "    .dataframe tbody tr th:only-of-type {\n",
       "        vertical-align: middle;\n",
       "    }\n",
       "\n",
       "    .dataframe tbody tr th {\n",
       "        vertical-align: top;\n",
       "    }\n",
       "\n",
       "    .dataframe thead th {\n",
       "        text-align: right;\n",
       "    }\n",
       "</style>\n",
       "<table border=\"1\" class=\"dataframe\">\n",
       "  <thead>\n",
       "    <tr style=\"text-align: right;\">\n",
       "      <th></th>\n",
       "      <th>id</th>\n",
       "      <th>user_id</th>\n",
       "      <th>message_date</th>\n",
       "    </tr>\n",
       "  </thead>\n",
       "  <tbody>\n",
       "    <tr>\n",
       "      <th>15837</th>\n",
       "      <td>1105_36</td>\n",
       "      <td>1105</td>\n",
       "      <td>2018-12-01</td>\n",
       "    </tr>\n",
       "  </tbody>\n",
       "</table>\n",
       "</div>"
      ],
      "text/plain": [
       "            id  user_id message_date\n",
       "15837  1105_36     1105   2018-12-01"
      ]
     },
     "execution_count": 182,
     "metadata": {},
     "output_type": "execute_result"
    }
   ],
   "source": [
    "df_messages.sample()"
   ]
  },
  {
   "cell_type": "markdown",
   "metadata": {},
   "source": [
    "<span style = 'color:green'>\n",
    "Data pesan terdapat 3 kolom id, user_id, messages_date, pada data ini:\n",
    "\n",
    "- Tidak ada nilai yang hilang, karena jumlah barisnya sudah sama untuk semua kolom\n",
    "- Kolom messages_date dapat diubah dari object menjadi datetime\n",
    "</span>"
   ]
  },
  {
   "cell_type": "code",
   "execution_count": 183,
   "metadata": {},
   "outputs": [
    {
     "name": "stdout",
     "output_type": "stream",
     "text": [
      "<class 'pandas.core.frame.DataFrame'>\n",
      "RangeIndex: 2 entries, 0 to 1\n",
      "Data columns (total 8 columns):\n",
      " #   Column                 Non-Null Count  Dtype  \n",
      "---  ------                 --------------  -----  \n",
      " 0   messages_included      2 non-null      int64  \n",
      " 1   mb_per_month_included  2 non-null      int64  \n",
      " 2   minutes_included       2 non-null      int64  \n",
      " 3   usd_monthly_pay        2 non-null      int64  \n",
      " 4   usd_per_gb             2 non-null      int64  \n",
      " 5   usd_per_message        2 non-null      float64\n",
      " 6   usd_per_minute         2 non-null      float64\n",
      " 7   plan_name              2 non-null      object \n",
      "dtypes: float64(2), int64(5), object(1)\n",
      "memory usage: 256.0+ bytes\n"
     ]
    }
   ],
   "source": [
    "df_plans.info()"
   ]
  },
  {
   "cell_type": "code",
   "execution_count": 184,
   "metadata": {},
   "outputs": [
    {
     "data": {
      "text/html": [
       "<div>\n",
       "<style scoped>\n",
       "    .dataframe tbody tr th:only-of-type {\n",
       "        vertical-align: middle;\n",
       "    }\n",
       "\n",
       "    .dataframe tbody tr th {\n",
       "        vertical-align: top;\n",
       "    }\n",
       "\n",
       "    .dataframe thead th {\n",
       "        text-align: right;\n",
       "    }\n",
       "</style>\n",
       "<table border=\"1\" class=\"dataframe\">\n",
       "  <thead>\n",
       "    <tr style=\"text-align: right;\">\n",
       "      <th></th>\n",
       "      <th>messages_included</th>\n",
       "      <th>mb_per_month_included</th>\n",
       "      <th>minutes_included</th>\n",
       "      <th>usd_monthly_pay</th>\n",
       "      <th>usd_per_gb</th>\n",
       "      <th>usd_per_message</th>\n",
       "      <th>usd_per_minute</th>\n",
       "      <th>plan_name</th>\n",
       "    </tr>\n",
       "  </thead>\n",
       "  <tbody>\n",
       "    <tr>\n",
       "      <th>0</th>\n",
       "      <td>50</td>\n",
       "      <td>15360</td>\n",
       "      <td>500</td>\n",
       "      <td>20</td>\n",
       "      <td>10</td>\n",
       "      <td>0.03</td>\n",
       "      <td>0.03</td>\n",
       "      <td>surf</td>\n",
       "    </tr>\n",
       "    <tr>\n",
       "      <th>1</th>\n",
       "      <td>1000</td>\n",
       "      <td>30720</td>\n",
       "      <td>3000</td>\n",
       "      <td>70</td>\n",
       "      <td>7</td>\n",
       "      <td>0.01</td>\n",
       "      <td>0.01</td>\n",
       "      <td>ultimate</td>\n",
       "    </tr>\n",
       "  </tbody>\n",
       "</table>\n",
       "</div>"
      ],
      "text/plain": [
       "   messages_included  mb_per_month_included  minutes_included  \\\n",
       "0                 50                  15360               500   \n",
       "1               1000                  30720              3000   \n",
       "\n",
       "   usd_monthly_pay  usd_per_gb  usd_per_message  usd_per_minute plan_name  \n",
       "0               20          10             0.03            0.03      surf  \n",
       "1               70           7             0.01            0.01  ultimate  "
      ]
     },
     "execution_count": 184,
     "metadata": {},
     "output_type": "execute_result"
    }
   ],
   "source": [
    "df_plans"
   ]
  },
  {
   "cell_type": "markdown",
   "metadata": {},
   "source": [
    "<span style = 'color:green'>\n",
    "Data paket prabayar sesuai dengan jumlah jenis paket yaitu Surf dan Ultimate\n",
    "</span>"
   ]
  },
  {
   "cell_type": "code",
   "execution_count": 185,
   "metadata": {},
   "outputs": [
    {
     "name": "stdout",
     "output_type": "stream",
     "text": [
      "<class 'pandas.core.frame.DataFrame'>\n",
      "RangeIndex: 500 entries, 0 to 499\n",
      "Data columns (total 8 columns):\n",
      " #   Column      Non-Null Count  Dtype \n",
      "---  ------      --------------  ----- \n",
      " 0   user_id     500 non-null    int64 \n",
      " 1   first_name  500 non-null    object\n",
      " 2   last_name   500 non-null    object\n",
      " 3   age         500 non-null    int64 \n",
      " 4   city        500 non-null    object\n",
      " 5   reg_date    500 non-null    object\n",
      " 6   plan        500 non-null    object\n",
      " 7   churn_date  34 non-null     object\n",
      "dtypes: int64(2), object(6)\n",
      "memory usage: 31.4+ KB\n"
     ]
    }
   ],
   "source": [
    "df_users.info()"
   ]
  },
  {
   "cell_type": "code",
   "execution_count": 186,
   "metadata": {},
   "outputs": [
    {
     "data": {
      "text/html": [
       "<div>\n",
       "<style scoped>\n",
       "    .dataframe tbody tr th:only-of-type {\n",
       "        vertical-align: middle;\n",
       "    }\n",
       "\n",
       "    .dataframe tbody tr th {\n",
       "        vertical-align: top;\n",
       "    }\n",
       "\n",
       "    .dataframe thead th {\n",
       "        text-align: right;\n",
       "    }\n",
       "</style>\n",
       "<table border=\"1\" class=\"dataframe\">\n",
       "  <thead>\n",
       "    <tr style=\"text-align: right;\">\n",
       "      <th></th>\n",
       "      <th>user_id</th>\n",
       "      <th>first_name</th>\n",
       "      <th>last_name</th>\n",
       "      <th>age</th>\n",
       "      <th>city</th>\n",
       "      <th>reg_date</th>\n",
       "      <th>plan</th>\n",
       "      <th>churn_date</th>\n",
       "    </tr>\n",
       "  </thead>\n",
       "  <tbody>\n",
       "    <tr>\n",
       "      <th>499</th>\n",
       "      <td>1499</td>\n",
       "      <td>Shena</td>\n",
       "      <td>Dickson</td>\n",
       "      <td>37</td>\n",
       "      <td>Orlando-Kissimmee-Sanford, FL MSA</td>\n",
       "      <td>2018-05-06</td>\n",
       "      <td>surf</td>\n",
       "      <td>NaN</td>\n",
       "    </tr>\n",
       "    <tr>\n",
       "      <th>202</th>\n",
       "      <td>1202</td>\n",
       "      <td>Osvaldo</td>\n",
       "      <td>Mayer</td>\n",
       "      <td>36</td>\n",
       "      <td>Minneapolis-St. Paul-Bloomington, MN-WI MSA</td>\n",
       "      <td>2018-09-30</td>\n",
       "      <td>ultimate</td>\n",
       "      <td>NaN</td>\n",
       "    </tr>\n",
       "    <tr>\n",
       "      <th>359</th>\n",
       "      <td>1359</td>\n",
       "      <td>Sherley</td>\n",
       "      <td>Norris</td>\n",
       "      <td>33</td>\n",
       "      <td>Colorado Springs, CO MSA</td>\n",
       "      <td>2018-02-08</td>\n",
       "      <td>surf</td>\n",
       "      <td>NaN</td>\n",
       "    </tr>\n",
       "    <tr>\n",
       "      <th>460</th>\n",
       "      <td>1460</td>\n",
       "      <td>Winford</td>\n",
       "      <td>Underwood</td>\n",
       "      <td>46</td>\n",
       "      <td>Fresno, CA MSA</td>\n",
       "      <td>2018-05-28</td>\n",
       "      <td>ultimate</td>\n",
       "      <td>NaN</td>\n",
       "    </tr>\n",
       "    <tr>\n",
       "      <th>454</th>\n",
       "      <td>1454</td>\n",
       "      <td>Kymberly</td>\n",
       "      <td>Cohen</td>\n",
       "      <td>56</td>\n",
       "      <td>San Antonio-New Braunfels, TX MSA</td>\n",
       "      <td>2018-05-30</td>\n",
       "      <td>ultimate</td>\n",
       "      <td>NaN</td>\n",
       "    </tr>\n",
       "  </tbody>\n",
       "</table>\n",
       "</div>"
      ],
      "text/plain": [
       "     user_id first_name  last_name  age  \\\n",
       "499     1499      Shena    Dickson   37   \n",
       "202     1202    Osvaldo      Mayer   36   \n",
       "359     1359    Sherley     Norris   33   \n",
       "460     1460    Winford  Underwood   46   \n",
       "454     1454   Kymberly      Cohen   56   \n",
       "\n",
       "                                            city    reg_date      plan  \\\n",
       "499            Orlando-Kissimmee-Sanford, FL MSA  2018-05-06      surf   \n",
       "202  Minneapolis-St. Paul-Bloomington, MN-WI MSA  2018-09-30  ultimate   \n",
       "359                     Colorado Springs, CO MSA  2018-02-08      surf   \n",
       "460                               Fresno, CA MSA  2018-05-28  ultimate   \n",
       "454            San Antonio-New Braunfels, TX MSA  2018-05-30  ultimate   \n",
       "\n",
       "    churn_date  \n",
       "499        NaN  \n",
       "202        NaN  \n",
       "359        NaN  \n",
       "460        NaN  \n",
       "454        NaN  "
      ]
     },
     "execution_count": 186,
     "metadata": {},
     "output_type": "execute_result"
    }
   ],
   "source": [
    "df_users.sample(5)"
   ]
  },
  {
   "cell_type": "markdown",
   "metadata": {},
   "source": [
    "<span style = 'color:green'>\n",
    "\n",
    "Data pengguna:\n",
    "- totalnya terdiri dari 500 baris\n",
    "- terdapat 8 kolom\n",
    "- kolom reg_date dan churn_date dapat diubah dari object ke datetime\n",
    "- terdapat nilai yang hilang di churn_date, ini menandakan pengguna masih menggunakan layanan paket saat data ini ditarik, perlu dipertimbangkan nilai pengganti NaN. Secara jumlah patut dipertahankan karena persentase NaN cukup besar yakni 93.2%\n",
    "- kolom city perlu difilter untuk menentukan analisa di kota tertentu.\n",
    "    \n",
    "</span>"
   ]
  },
  {
   "cell_type": "markdown",
   "metadata": {},
   "source": [
    "## Paket Prabayar"
   ]
  },
  {
   "cell_type": "code",
   "execution_count": 187,
   "metadata": {
    "scrolled": true
   },
   "outputs": [
    {
     "name": "stdout",
     "output_type": "stream",
     "text": [
      "<class 'pandas.core.frame.DataFrame'>\n",
      "RangeIndex: 2 entries, 0 to 1\n",
      "Data columns (total 8 columns):\n",
      " #   Column                 Non-Null Count  Dtype  \n",
      "---  ------                 --------------  -----  \n",
      " 0   messages_included      2 non-null      int64  \n",
      " 1   mb_per_month_included  2 non-null      int64  \n",
      " 2   minutes_included       2 non-null      int64  \n",
      " 3   usd_monthly_pay        2 non-null      int64  \n",
      " 4   usd_per_gb             2 non-null      int64  \n",
      " 5   usd_per_message        2 non-null      float64\n",
      " 6   usd_per_minute         2 non-null      float64\n",
      " 7   plan_name              2 non-null      object \n",
      "dtypes: float64(2), int64(5), object(1)\n",
      "memory usage: 256.0+ bytes\n"
     ]
    }
   ],
   "source": [
    "# Tampilkan informasi/rangkuman umum tentang DataFrame paket-paket prabayar\n",
    "df_plans.info()"
   ]
  },
  {
   "cell_type": "code",
   "execution_count": 188,
   "metadata": {},
   "outputs": [
    {
     "data": {
      "text/html": [
       "<div>\n",
       "<style scoped>\n",
       "    .dataframe tbody tr th:only-of-type {\n",
       "        vertical-align: middle;\n",
       "    }\n",
       "\n",
       "    .dataframe tbody tr th {\n",
       "        vertical-align: top;\n",
       "    }\n",
       "\n",
       "    .dataframe thead th {\n",
       "        text-align: right;\n",
       "    }\n",
       "</style>\n",
       "<table border=\"1\" class=\"dataframe\">\n",
       "  <thead>\n",
       "    <tr style=\"text-align: right;\">\n",
       "      <th></th>\n",
       "      <th>messages_included</th>\n",
       "      <th>mb_per_month_included</th>\n",
       "      <th>minutes_included</th>\n",
       "      <th>usd_monthly_pay</th>\n",
       "      <th>usd_per_gb</th>\n",
       "      <th>usd_per_message</th>\n",
       "      <th>usd_per_minute</th>\n",
       "      <th>plan_name</th>\n",
       "    </tr>\n",
       "  </thead>\n",
       "  <tbody>\n",
       "    <tr>\n",
       "      <th>0</th>\n",
       "      <td>50</td>\n",
       "      <td>15360</td>\n",
       "      <td>500</td>\n",
       "      <td>20</td>\n",
       "      <td>10</td>\n",
       "      <td>0.03</td>\n",
       "      <td>0.03</td>\n",
       "      <td>surf</td>\n",
       "    </tr>\n",
       "    <tr>\n",
       "      <th>1</th>\n",
       "      <td>1000</td>\n",
       "      <td>30720</td>\n",
       "      <td>3000</td>\n",
       "      <td>70</td>\n",
       "      <td>7</td>\n",
       "      <td>0.01</td>\n",
       "      <td>0.01</td>\n",
       "      <td>ultimate</td>\n",
       "    </tr>\n",
       "  </tbody>\n",
       "</table>\n",
       "</div>"
      ],
      "text/plain": [
       "   messages_included  mb_per_month_included  minutes_included  \\\n",
       "0                 50                  15360               500   \n",
       "1               1000                  30720              3000   \n",
       "\n",
       "   usd_monthly_pay  usd_per_gb  usd_per_message  usd_per_minute plan_name  \n",
       "0               20          10             0.03            0.03      surf  \n",
       "1               70           7             0.01            0.01  ultimate  "
      ]
     },
     "execution_count": 188,
     "metadata": {},
     "output_type": "execute_result"
    }
   ],
   "source": [
    "# Tampilkan sampel data untuk paket-paket tersebut\n",
    "df_plans"
   ]
  },
  {
   "cell_type": "markdown",
   "metadata": {},
   "source": [
    "<span style = 'color:green'>\n",
    "      \n",
    "Tipe data dari plan ini sepertinya sudah sesuai dengan kolom yang mewakilinya, tidak ada nilai yang hilang. Namun untuk perubahan memungkinkan, seperti di kolom plan_name, ini memungkinkan diubah menjadi nilai kategori untuk efisiensi analisa berikutnya. Sementara kolom ini dipertahankan dulu dengan tipe object.\n",
    "               \n",
    "</span>"
   ]
  },
  {
   "cell_type": "markdown",
   "metadata": {},
   "source": [
    "## Memperbaiki Data"
   ]
  },
  {
   "cell_type": "markdown",
   "metadata": {},
   "source": [
    "<span style = 'color:green'>\n",
    "      \n",
    "Pada data paket prabayar, belum ada perubahan tipe data, sejauh ini sudah mewakili tipe data, seperti int dan float untuk kolom numerik.\n",
    "               \n",
    "</span>"
   ]
  },
  {
   "cell_type": "markdown",
   "metadata": {},
   "source": [
    "\n",
    "## Memperkaya Kualitas Data"
   ]
  },
  {
   "cell_type": "markdown",
   "metadata": {},
   "source": [
    "<span style = 'color:green'>\n",
    "      \n",
    "Pada tabel paket prabayar tidak ada penambahan kualitas data.\n",
    "               \n",
    "</span>"
   ]
  },
  {
   "cell_type": "markdown",
   "metadata": {},
   "source": [
    "## Pengguna"
   ]
  },
  {
   "cell_type": "code",
   "execution_count": 189,
   "metadata": {},
   "outputs": [
    {
     "name": "stdout",
     "output_type": "stream",
     "text": [
      "<class 'pandas.core.frame.DataFrame'>\n",
      "RangeIndex: 500 entries, 0 to 499\n",
      "Data columns (total 8 columns):\n",
      " #   Column      Non-Null Count  Dtype \n",
      "---  ------      --------------  ----- \n",
      " 0   user_id     500 non-null    int64 \n",
      " 1   first_name  500 non-null    object\n",
      " 2   last_name   500 non-null    object\n",
      " 3   age         500 non-null    int64 \n",
      " 4   city        500 non-null    object\n",
      " 5   reg_date    500 non-null    object\n",
      " 6   plan        500 non-null    object\n",
      " 7   churn_date  34 non-null     object\n",
      "dtypes: int64(2), object(6)\n",
      "memory usage: 31.4+ KB\n"
     ]
    }
   ],
   "source": [
    "# Tampilkan informasi/rangkuman umum tentang DataFrame pengguna\n",
    "df_users.info()"
   ]
  },
  {
   "cell_type": "code",
   "execution_count": 190,
   "metadata": {},
   "outputs": [
    {
     "data": {
      "text/html": [
       "<div>\n",
       "<style scoped>\n",
       "    .dataframe tbody tr th:only-of-type {\n",
       "        vertical-align: middle;\n",
       "    }\n",
       "\n",
       "    .dataframe tbody tr th {\n",
       "        vertical-align: top;\n",
       "    }\n",
       "\n",
       "    .dataframe thead th {\n",
       "        text-align: right;\n",
       "    }\n",
       "</style>\n",
       "<table border=\"1\" class=\"dataframe\">\n",
       "  <thead>\n",
       "    <tr style=\"text-align: right;\">\n",
       "      <th></th>\n",
       "      <th>user_id</th>\n",
       "      <th>first_name</th>\n",
       "      <th>last_name</th>\n",
       "      <th>age</th>\n",
       "      <th>city</th>\n",
       "      <th>reg_date</th>\n",
       "      <th>plan</th>\n",
       "      <th>churn_date</th>\n",
       "    </tr>\n",
       "  </thead>\n",
       "  <tbody>\n",
       "    <tr>\n",
       "      <th>134</th>\n",
       "      <td>1134</td>\n",
       "      <td>Shannon</td>\n",
       "      <td>Nichols</td>\n",
       "      <td>71</td>\n",
       "      <td>Chicago-Naperville-Elgin, IL-IN-WI MSA</td>\n",
       "      <td>2018-09-03</td>\n",
       "      <td>surf</td>\n",
       "      <td>NaN</td>\n",
       "    </tr>\n",
       "    <tr>\n",
       "      <th>447</th>\n",
       "      <td>1447</td>\n",
       "      <td>Ramon</td>\n",
       "      <td>Hester</td>\n",
       "      <td>62</td>\n",
       "      <td>Orlando-Kissimmee-Sanford, FL MSA</td>\n",
       "      <td>2018-05-01</td>\n",
       "      <td>surf</td>\n",
       "      <td>NaN</td>\n",
       "    </tr>\n",
       "    <tr>\n",
       "      <th>430</th>\n",
       "      <td>1430</td>\n",
       "      <td>Myung</td>\n",
       "      <td>Pugh</td>\n",
       "      <td>63</td>\n",
       "      <td>New York-Newark-Jersey City, NY-NJ-PA MSA</td>\n",
       "      <td>2018-12-07</td>\n",
       "      <td>surf</td>\n",
       "      <td>NaN</td>\n",
       "    </tr>\n",
       "    <tr>\n",
       "      <th>15</th>\n",
       "      <td>1015</td>\n",
       "      <td>Beata</td>\n",
       "      <td>Carpenter</td>\n",
       "      <td>26</td>\n",
       "      <td>Pittsburgh, PA MSA</td>\n",
       "      <td>2018-12-05</td>\n",
       "      <td>surf</td>\n",
       "      <td>NaN</td>\n",
       "    </tr>\n",
       "    <tr>\n",
       "      <th>385</th>\n",
       "      <td>1385</td>\n",
       "      <td>Nohemi</td>\n",
       "      <td>Erickson</td>\n",
       "      <td>52</td>\n",
       "      <td>New York-Newark-Jersey City, NY-NJ-PA MSA</td>\n",
       "      <td>2018-01-19</td>\n",
       "      <td>surf</td>\n",
       "      <td>NaN</td>\n",
       "    </tr>\n",
       "  </tbody>\n",
       "</table>\n",
       "</div>"
      ],
      "text/plain": [
       "     user_id first_name  last_name  age  \\\n",
       "134     1134    Shannon    Nichols   71   \n",
       "447     1447      Ramon     Hester   62   \n",
       "430     1430      Myung       Pugh   63   \n",
       "15      1015      Beata  Carpenter   26   \n",
       "385     1385     Nohemi   Erickson   52   \n",
       "\n",
       "                                          city    reg_date  plan churn_date  \n",
       "134     Chicago-Naperville-Elgin, IL-IN-WI MSA  2018-09-03  surf        NaN  \n",
       "447          Orlando-Kissimmee-Sanford, FL MSA  2018-05-01  surf        NaN  \n",
       "430  New York-Newark-Jersey City, NY-NJ-PA MSA  2018-12-07  surf        NaN  \n",
       "15                          Pittsburgh, PA MSA  2018-12-05  surf        NaN  \n",
       "385  New York-Newark-Jersey City, NY-NJ-PA MSA  2018-01-19  surf        NaN  "
      ]
     },
     "execution_count": 190,
     "metadata": {},
     "output_type": "execute_result"
    }
   ],
   "source": [
    "# Tampilkan sampel data pengguna\n",
    "df_users.sample(5)"
   ]
  },
  {
   "cell_type": "markdown",
   "metadata": {},
   "source": [
    " <span style = 'color:green'>\n",
    "\n",
    "Data pengguna:\n",
    "- kolom reg_date dan churn_date dapat diubah dari object ke datetime\n",
    "- terdapat nilai yang hilang di churn_date, ini menandakan pengguna masih menggunakan layanan paket saat data ini ditarik, perlu dipertimbangkan nilai pengganti NaN. Secara jumlah patut dipertahankan karena persentase NaN cukup besar yakni 93.2%.\n",
    "- mempertimbangkan nilai duration yang 0.0, perlu dicheck persentase apakah nilainya cukup banyak atau tidak dalam mempengaruhi analisa selanjutnya.\n",
    "    \n",
    "</span>"
   ]
  },
  {
   "cell_type": "markdown",
   "metadata": {},
   "source": [
    "### Memperbaiki Data"
   ]
  },
  {
   "cell_type": "code",
   "execution_count": 191,
   "metadata": {},
   "outputs": [
    {
     "data": {
      "text/html": [
       "<div>\n",
       "<style scoped>\n",
       "    .dataframe tbody tr th:only-of-type {\n",
       "        vertical-align: middle;\n",
       "    }\n",
       "\n",
       "    .dataframe tbody tr th {\n",
       "        vertical-align: top;\n",
       "    }\n",
       "\n",
       "    .dataframe thead th {\n",
       "        text-align: right;\n",
       "    }\n",
       "</style>\n",
       "<table border=\"1\" class=\"dataframe\">\n",
       "  <thead>\n",
       "    <tr style=\"text-align: right;\">\n",
       "      <th></th>\n",
       "      <th>user_id</th>\n",
       "      <th>first_name</th>\n",
       "      <th>last_name</th>\n",
       "      <th>age</th>\n",
       "      <th>city</th>\n",
       "      <th>reg_date</th>\n",
       "      <th>plan</th>\n",
       "      <th>churn_date</th>\n",
       "      <th>month</th>\n",
       "    </tr>\n",
       "  </thead>\n",
       "  <tbody>\n",
       "    <tr>\n",
       "      <th>305</th>\n",
       "      <td>1305</td>\n",
       "      <td>Gwenn</td>\n",
       "      <td>Gross</td>\n",
       "      <td>18</td>\n",
       "      <td>Los Angeles-Long Beach-Anaheim, CA MSA</td>\n",
       "      <td>2018-05-08</td>\n",
       "      <td>surf</td>\n",
       "      <td>2018-02-23</td>\n",
       "      <td>2018-05</td>\n",
       "    </tr>\n",
       "    <tr>\n",
       "      <th>365</th>\n",
       "      <td>1365</td>\n",
       "      <td>Milford</td>\n",
       "      <td>Rush</td>\n",
       "      <td>19</td>\n",
       "      <td>Grand Rapids-Kentwood, MI MSA</td>\n",
       "      <td>2018-02-09</td>\n",
       "      <td>surf</td>\n",
       "      <td>2018-04-12</td>\n",
       "      <td>2018-02</td>\n",
       "    </tr>\n",
       "    <tr>\n",
       "      <th>21</th>\n",
       "      <td>1021</td>\n",
       "      <td>Ricarda</td>\n",
       "      <td>Booker</td>\n",
       "      <td>37</td>\n",
       "      <td>Los Angeles-Long Beach-Anaheim, CA MSA</td>\n",
       "      <td>2018-12-21</td>\n",
       "      <td>surf</td>\n",
       "      <td>2018-05-07</td>\n",
       "      <td>2018-12</td>\n",
       "    </tr>\n",
       "    <tr>\n",
       "      <th>355</th>\n",
       "      <td>1355</td>\n",
       "      <td>Digna</td>\n",
       "      <td>Tyson</td>\n",
       "      <td>57</td>\n",
       "      <td>Los Angeles-Long Beach-Anaheim, CA MSA</td>\n",
       "      <td>2018-10-07</td>\n",
       "      <td>surf</td>\n",
       "      <td>2018-11-11</td>\n",
       "      <td>2018-10</td>\n",
       "    </tr>\n",
       "    <tr>\n",
       "      <th>260</th>\n",
       "      <td>1260</td>\n",
       "      <td>Alia</td>\n",
       "      <td>Aguilar</td>\n",
       "      <td>36</td>\n",
       "      <td>Los Angeles-Long Beach-Anaheim, CA MSA</td>\n",
       "      <td>2018-12-02</td>\n",
       "      <td>surf</td>\n",
       "      <td>2018-07-04</td>\n",
       "      <td>2018-12</td>\n",
       "    </tr>\n",
       "    <tr>\n",
       "      <th>325</th>\n",
       "      <td>1325</td>\n",
       "      <td>Cleora</td>\n",
       "      <td>Lyons</td>\n",
       "      <td>43</td>\n",
       "      <td>Dallas-Fort Worth-Arlington, TX MSA</td>\n",
       "      <td>2018-06-26</td>\n",
       "      <td>surf</td>\n",
       "      <td>2018-01-13</td>\n",
       "      <td>2018-06</td>\n",
       "    </tr>\n",
       "    <tr>\n",
       "      <th>333</th>\n",
       "      <td>1333</td>\n",
       "      <td>Macy</td>\n",
       "      <td>David</td>\n",
       "      <td>57</td>\n",
       "      <td>Los Angeles-Long Beach-Anaheim, CA MSA</td>\n",
       "      <td>2018-11-24</td>\n",
       "      <td>ultimate</td>\n",
       "      <td>2018-06-08</td>\n",
       "      <td>2018-11</td>\n",
       "    </tr>\n",
       "    <tr>\n",
       "      <th>393</th>\n",
       "      <td>1393</td>\n",
       "      <td>Wilfredo</td>\n",
       "      <td>Rosa</td>\n",
       "      <td>44</td>\n",
       "      <td>Knoxville, TN MSA</td>\n",
       "      <td>2018-10-29</td>\n",
       "      <td>surf</td>\n",
       "      <td>2018-02-10</td>\n",
       "      <td>2018-10</td>\n",
       "    </tr>\n",
       "    <tr>\n",
       "      <th>114</th>\n",
       "      <td>1114</td>\n",
       "      <td>Esta</td>\n",
       "      <td>Estes</td>\n",
       "      <td>55</td>\n",
       "      <td>New York-Newark-Jersey City, NY-NJ-PA MSA</td>\n",
       "      <td>2018-07-21</td>\n",
       "      <td>surf</td>\n",
       "      <td>2018-09-08</td>\n",
       "      <td>2018-07</td>\n",
       "    </tr>\n",
       "    <tr>\n",
       "      <th>119</th>\n",
       "      <td>1119</td>\n",
       "      <td>Anderson</td>\n",
       "      <td>Palmer</td>\n",
       "      <td>60</td>\n",
       "      <td>Louisville/Jefferson County, KY-IN MSA</td>\n",
       "      <td>2018-10-05</td>\n",
       "      <td>surf</td>\n",
       "      <td>2018-07-21</td>\n",
       "      <td>2018-10</td>\n",
       "    </tr>\n",
       "  </tbody>\n",
       "</table>\n",
       "</div>"
      ],
      "text/plain": [
       "     user_id first_name last_name  age  \\\n",
       "305     1305      Gwenn     Gross   18   \n",
       "365     1365    Milford      Rush   19   \n",
       "21      1021    Ricarda    Booker   37   \n",
       "355     1355      Digna     Tyson   57   \n",
       "260     1260       Alia   Aguilar   36   \n",
       "325     1325     Cleora     Lyons   43   \n",
       "333     1333       Macy     David   57   \n",
       "393     1393   Wilfredo      Rosa   44   \n",
       "114     1114       Esta     Estes   55   \n",
       "119     1119   Anderson    Palmer   60   \n",
       "\n",
       "                                          city   reg_date      plan  \\\n",
       "305     Los Angeles-Long Beach-Anaheim, CA MSA 2018-05-08      surf   \n",
       "365              Grand Rapids-Kentwood, MI MSA 2018-02-09      surf   \n",
       "21      Los Angeles-Long Beach-Anaheim, CA MSA 2018-12-21      surf   \n",
       "355     Los Angeles-Long Beach-Anaheim, CA MSA 2018-10-07      surf   \n",
       "260     Los Angeles-Long Beach-Anaheim, CA MSA 2018-12-02      surf   \n",
       "325        Dallas-Fort Worth-Arlington, TX MSA 2018-06-26      surf   \n",
       "333     Los Angeles-Long Beach-Anaheim, CA MSA 2018-11-24  ultimate   \n",
       "393                          Knoxville, TN MSA 2018-10-29      surf   \n",
       "114  New York-Newark-Jersey City, NY-NJ-PA MSA 2018-07-21      surf   \n",
       "119     Louisville/Jefferson County, KY-IN MSA 2018-10-05      surf   \n",
       "\n",
       "    churn_date    month  \n",
       "305 2018-02-23  2018-05  \n",
       "365 2018-04-12  2018-02  \n",
       "21  2018-05-07  2018-12  \n",
       "355 2018-11-11  2018-10  \n",
       "260 2018-07-04  2018-12  \n",
       "325 2018-01-13  2018-06  \n",
       "333 2018-06-08  2018-11  \n",
       "393 2018-02-10  2018-10  \n",
       "114 2018-09-08  2018-07  \n",
       "119 2018-07-21  2018-10  "
      ]
     },
     "execution_count": 191,
     "metadata": {},
     "output_type": "execute_result"
    }
   ],
   "source": [
    "#Memperbaiki data pengguna di kolom reg_date diubah menjadi datetime\n",
    "df_users['reg_date'] = pd.to_datetime(df_users['reg_date'])\n",
    "df_users['month'] = df_users['reg_date'].dt.to_period('M')\n",
    "#Memperbaiki data pengguna di kolom churn_date diubah menjadi datetime\n",
    "df_users['churn_date'] = pd.to_datetime(df_users['churn_date'])\n",
    "\n",
    "#Mengganti nilai hilang pada data pengguna di kolom churn_date dengan nilai tanggal random pada tahun 2018\n",
    "start_date = datetime(2018, 1, 1)\n",
    "end_date = datetime(2018, 12, 31)\n",
    "date_range = [start_date + timedelta(days = random.randint(0, (end_date - start_date).days)) for _ in range(len(df_users))]\n",
    "\n",
    "df_users['churn_date'].fillna(pd.Series(date_range), inplace = True)\n",
    "df_users.sample(10)"
   ]
  },
  {
   "cell_type": "code",
   "execution_count": 192,
   "metadata": {},
   "outputs": [
    {
     "name": "stdout",
     "output_type": "stream",
     "text": [
      "<class 'pandas.core.frame.DataFrame'>\n",
      "RangeIndex: 500 entries, 0 to 499\n",
      "Data columns (total 9 columns):\n",
      " #   Column      Non-Null Count  Dtype         \n",
      "---  ------      --------------  -----         \n",
      " 0   user_id     500 non-null    int64         \n",
      " 1   first_name  500 non-null    object        \n",
      " 2   last_name   500 non-null    object        \n",
      " 3   age         500 non-null    int64         \n",
      " 4   city        500 non-null    object        \n",
      " 5   reg_date    500 non-null    datetime64[ns]\n",
      " 6   plan        500 non-null    object        \n",
      " 7   churn_date  500 non-null    datetime64[ns]\n",
      " 8   month       500 non-null    period[M]     \n",
      "dtypes: datetime64[ns](2), int64(2), object(4), period[M](1)\n",
      "memory usage: 35.3+ KB\n"
     ]
    }
   ],
   "source": [
    "df_users.info()"
   ]
  },
  {
   "cell_type": "code",
   "execution_count": 193,
   "metadata": {},
   "outputs": [
    {
     "data": {
      "text/plain": [
       "New York-Newark-Jersey City, NY-NJ-PA MSA          80\n",
       "Los Angeles-Long Beach-Anaheim, CA MSA             29\n",
       "Dallas-Fort Worth-Arlington, TX MSA                21\n",
       "Chicago-Naperville-Elgin, IL-IN-WI MSA             19\n",
       "Philadelphia-Camden-Wilmington, PA-NJ-DE-MD MSA    17\n",
       "                                                   ..\n",
       "Albany-Schenectady-Troy, NY MSA                     1\n",
       "Cape Coral-Fort Myers, FL MSA                       1\n",
       "Stockton, CA MSA                                    1\n",
       "El Paso, TX MSA                                     1\n",
       "Greensboro-High Point, NC MSA                       1\n",
       "Name: city, Length: 73, dtype: int64"
      ]
     },
     "execution_count": 193,
     "metadata": {},
     "output_type": "execute_result"
    }
   ],
   "source": [
    "# Merapihkan data city pada data pengguna\n",
    "df_users['city'].value_counts()"
   ]
  },
  {
   "cell_type": "code",
   "execution_count": 194,
   "metadata": {},
   "outputs": [
    {
     "data": {
      "text/html": [
       "<div>\n",
       "<style scoped>\n",
       "    .dataframe tbody tr th:only-of-type {\n",
       "        vertical-align: middle;\n",
       "    }\n",
       "\n",
       "    .dataframe tbody tr th {\n",
       "        vertical-align: top;\n",
       "    }\n",
       "\n",
       "    .dataframe thead th {\n",
       "        text-align: right;\n",
       "    }\n",
       "</style>\n",
       "<table border=\"1\" class=\"dataframe\">\n",
       "  <thead>\n",
       "    <tr style=\"text-align: right;\">\n",
       "      <th></th>\n",
       "      <th>user_id</th>\n",
       "      <th>first_name</th>\n",
       "      <th>last_name</th>\n",
       "      <th>age</th>\n",
       "      <th>city</th>\n",
       "      <th>reg_date</th>\n",
       "      <th>plan</th>\n",
       "      <th>churn_date</th>\n",
       "      <th>month</th>\n",
       "      <th>new_column_city</th>\n",
       "    </tr>\n",
       "  </thead>\n",
       "  <tbody>\n",
       "    <tr>\n",
       "      <th>262</th>\n",
       "      <td>1262</td>\n",
       "      <td>Michelina</td>\n",
       "      <td>Hamilton</td>\n",
       "      <td>34</td>\n",
       "      <td>Dallas-Fort Worth-Arlington, TX MSA</td>\n",
       "      <td>2018-02-09</td>\n",
       "      <td>surf</td>\n",
       "      <td>2018-05-19</td>\n",
       "      <td>2018-02</td>\n",
       "      <td>TX</td>\n",
       "    </tr>\n",
       "    <tr>\n",
       "      <th>166</th>\n",
       "      <td>1166</td>\n",
       "      <td>Kaycee</td>\n",
       "      <td>Bryant</td>\n",
       "      <td>26</td>\n",
       "      <td>Baltimore-Columbia-Towson, MD MSA</td>\n",
       "      <td>2018-05-07</td>\n",
       "      <td>surf</td>\n",
       "      <td>2018-06-12</td>\n",
       "      <td>2018-05</td>\n",
       "      <td>MD</td>\n",
       "    </tr>\n",
       "    <tr>\n",
       "      <th>346</th>\n",
       "      <td>1346</td>\n",
       "      <td>Emmie</td>\n",
       "      <td>Gonzalez</td>\n",
       "      <td>59</td>\n",
       "      <td>Tucson, AZ MSA</td>\n",
       "      <td>2018-04-26</td>\n",
       "      <td>ultimate</td>\n",
       "      <td>2018-04-18</td>\n",
       "      <td>2018-04</td>\n",
       "      <td>AZ</td>\n",
       "    </tr>\n",
       "    <tr>\n",
       "      <th>37</th>\n",
       "      <td>1037</td>\n",
       "      <td>Reena</td>\n",
       "      <td>Velazquez</td>\n",
       "      <td>20</td>\n",
       "      <td>Seattle-Tacoma-Bellevue, WA MSA</td>\n",
       "      <td>2018-08-11</td>\n",
       "      <td>ultimate</td>\n",
       "      <td>2018-06-15</td>\n",
       "      <td>2018-08</td>\n",
       "      <td>WA</td>\n",
       "    </tr>\n",
       "    <tr>\n",
       "      <th>46</th>\n",
       "      <td>1046</td>\n",
       "      <td>Beata</td>\n",
       "      <td>Hooper</td>\n",
       "      <td>67</td>\n",
       "      <td>Boston-Cambridge-Newton, MA-NH MSA</td>\n",
       "      <td>2018-02-19</td>\n",
       "      <td>surf</td>\n",
       "      <td>2018-06-29</td>\n",
       "      <td>2018-02</td>\n",
       "      <td>MA-NH</td>\n",
       "    </tr>\n",
       "  </tbody>\n",
       "</table>\n",
       "</div>"
      ],
      "text/plain": [
       "     user_id first_name  last_name  age                                 city  \\\n",
       "262     1262  Michelina   Hamilton   34  Dallas-Fort Worth-Arlington, TX MSA   \n",
       "166     1166     Kaycee     Bryant   26    Baltimore-Columbia-Towson, MD MSA   \n",
       "346     1346      Emmie   Gonzalez   59                       Tucson, AZ MSA   \n",
       "37      1037      Reena  Velazquez   20      Seattle-Tacoma-Bellevue, WA MSA   \n",
       "46      1046      Beata     Hooper   67   Boston-Cambridge-Newton, MA-NH MSA   \n",
       "\n",
       "      reg_date      plan churn_date    month new_column_city  \n",
       "262 2018-02-09      surf 2018-05-19  2018-02              TX  \n",
       "166 2018-05-07      surf 2018-06-12  2018-05              MD  \n",
       "346 2018-04-26  ultimate 2018-04-18  2018-04              AZ  \n",
       "37  2018-08-11  ultimate 2018-06-15  2018-08              WA  \n",
       "46  2018-02-19      surf 2018-06-29  2018-02           MA-NH  "
      ]
     },
     "execution_count": 194,
     "metadata": {},
     "output_type": "execute_result"
    }
   ],
   "source": [
    "# Menambah kolom city yang sudah dirapihkan\n",
    "df_users['new_column_city'] = df_users['city'].str.split(', ').str[1]\n",
    "df_users['new_column_city'] = df_users['new_column_city'].str.replace(' MSA', '')\n",
    "df_users.sample(5)"
   ]
  },
  {
   "cell_type": "markdown",
   "metadata": {},
   "source": [
    "<span style = 'color:green'>\n",
    "\n",
    "Data pengguna:\n",
    "- sudah diganti tipe datanya untuk reg_date dan churn_date menjadi tipe datetime\n",
    "- jumlah baris churn_date sudah sama dengan kolom lain, artinya nilai NaN sudah diganti dengan tanggal acak di tahun 2018\n",
    "    \n",
    "</span>"
   ]
  },
  {
   "cell_type": "markdown",
   "metadata": {},
   "source": [
    "### Memperkaya Kualitas Data"
   ]
  },
  {
   "cell_type": "code",
   "execution_count": 195,
   "metadata": {},
   "outputs": [
    {
     "data": {
      "text/html": [
       "<div>\n",
       "<style scoped>\n",
       "    .dataframe tbody tr th:only-of-type {\n",
       "        vertical-align: middle;\n",
       "    }\n",
       "\n",
       "    .dataframe tbody tr th {\n",
       "        vertical-align: top;\n",
       "    }\n",
       "\n",
       "    .dataframe thead th {\n",
       "        text-align: right;\n",
       "    }\n",
       "</style>\n",
       "<table border=\"1\" class=\"dataframe\">\n",
       "  <thead>\n",
       "    <tr style=\"text-align: right;\">\n",
       "      <th></th>\n",
       "      <th>user_id</th>\n",
       "      <th>first_name</th>\n",
       "      <th>last_name</th>\n",
       "      <th>age</th>\n",
       "      <th>city</th>\n",
       "      <th>reg_date</th>\n",
       "      <th>plan</th>\n",
       "      <th>churn_date</th>\n",
       "      <th>month</th>\n",
       "      <th>new_column_city</th>\n",
       "      <th>category_nynj</th>\n",
       "    </tr>\n",
       "  </thead>\n",
       "  <tbody>\n",
       "    <tr>\n",
       "      <th>309</th>\n",
       "      <td>1309</td>\n",
       "      <td>Winfred</td>\n",
       "      <td>Zimmerman</td>\n",
       "      <td>19</td>\n",
       "      <td>San Diego-Chula Vista-Carlsbad, CA MSA</td>\n",
       "      <td>2018-07-04</td>\n",
       "      <td>surf</td>\n",
       "      <td>2018-08-16</td>\n",
       "      <td>2018-07</td>\n",
       "      <td>CA</td>\n",
       "      <td>0</td>\n",
       "    </tr>\n",
       "    <tr>\n",
       "      <th>67</th>\n",
       "      <td>1067</td>\n",
       "      <td>Robt</td>\n",
       "      <td>Allen</td>\n",
       "      <td>37</td>\n",
       "      <td>Grand Rapids-Kentwood, MI MSA</td>\n",
       "      <td>2018-09-24</td>\n",
       "      <td>surf</td>\n",
       "      <td>2018-11-24</td>\n",
       "      <td>2018-09</td>\n",
       "      <td>MI</td>\n",
       "      <td>0</td>\n",
       "    </tr>\n",
       "    <tr>\n",
       "      <th>202</th>\n",
       "      <td>1202</td>\n",
       "      <td>Osvaldo</td>\n",
       "      <td>Mayer</td>\n",
       "      <td>36</td>\n",
       "      <td>Minneapolis-St. Paul-Bloomington, MN-WI MSA</td>\n",
       "      <td>2018-09-30</td>\n",
       "      <td>ultimate</td>\n",
       "      <td>2018-05-12</td>\n",
       "      <td>2018-09</td>\n",
       "      <td>MN-WI</td>\n",
       "      <td>0</td>\n",
       "    </tr>\n",
       "    <tr>\n",
       "      <th>60</th>\n",
       "      <td>1060</td>\n",
       "      <td>Denisse</td>\n",
       "      <td>Santos</td>\n",
       "      <td>53</td>\n",
       "      <td>Atlanta-Sandy Springs-Roswell, GA MSA</td>\n",
       "      <td>2018-04-07</td>\n",
       "      <td>surf</td>\n",
       "      <td>2018-08-20</td>\n",
       "      <td>2018-04</td>\n",
       "      <td>GA</td>\n",
       "      <td>0</td>\n",
       "    </tr>\n",
       "    <tr>\n",
       "      <th>195</th>\n",
       "      <td>1195</td>\n",
       "      <td>Roy</td>\n",
       "      <td>Velez</td>\n",
       "      <td>60</td>\n",
       "      <td>Portland-Vancouver-Hillsboro, OR-WA MSA</td>\n",
       "      <td>2018-06-09</td>\n",
       "      <td>surf</td>\n",
       "      <td>2018-02-25</td>\n",
       "      <td>2018-06</td>\n",
       "      <td>OR-WA</td>\n",
       "      <td>0</td>\n",
       "    </tr>\n",
       "  </tbody>\n",
       "</table>\n",
       "</div>"
      ],
      "text/plain": [
       "     user_id first_name  last_name  age  \\\n",
       "309     1309    Winfred  Zimmerman   19   \n",
       "67      1067       Robt      Allen   37   \n",
       "202     1202    Osvaldo      Mayer   36   \n",
       "60      1060    Denisse     Santos   53   \n",
       "195     1195        Roy      Velez   60   \n",
       "\n",
       "                                            city   reg_date      plan  \\\n",
       "309       San Diego-Chula Vista-Carlsbad, CA MSA 2018-07-04      surf   \n",
       "67                 Grand Rapids-Kentwood, MI MSA 2018-09-24      surf   \n",
       "202  Minneapolis-St. Paul-Bloomington, MN-WI MSA 2018-09-30  ultimate   \n",
       "60         Atlanta-Sandy Springs-Roswell, GA MSA 2018-04-07      surf   \n",
       "195      Portland-Vancouver-Hillsboro, OR-WA MSA 2018-06-09      surf   \n",
       "\n",
       "    churn_date    month new_column_city  category_nynj  \n",
       "309 2018-08-16  2018-07              CA              0  \n",
       "67  2018-11-24  2018-09              MI              0  \n",
       "202 2018-05-12  2018-09           MN-WI              0  \n",
       "60  2018-08-20  2018-04              GA              0  \n",
       "195 2018-02-25  2018-06           OR-WA              0  "
      ]
     },
     "execution_count": 195,
     "metadata": {},
     "output_type": "execute_result"
    }
   ],
   "source": [
    "# Menambah kolom penanda kategori NYNJ\n",
    "df_users['category_nynj'] = df_users['new_column_city'].str.contains('NY-NJ', regex=True)\n",
    "df_users['category_nynj'] = df_users['category_nynj'].replace(True, 1).replace(False, 0)\n",
    "df_users.sample(5)"
   ]
  },
  {
   "cell_type": "markdown",
   "metadata": {},
   "source": [
    "<span style = 'color:green'>\n",
    "\n",
    "Data pengguna ditambahkan dengan kolom baru untuk membersihkan data city agar lebih mudah dan sederhana dibaca (new_column_city) serta juga diberikan kolom kategori (category_nynj) untuk memudahkan nantinya saat menganalisa.\n",
    "    \n",
    "</span>"
   ]
  },
  {
   "cell_type": "markdown",
   "metadata": {},
   "source": [
    "## Panggilan"
   ]
  },
  {
   "cell_type": "code",
   "execution_count": 196,
   "metadata": {},
   "outputs": [
    {
     "name": "stdout",
     "output_type": "stream",
     "text": [
      "<class 'pandas.core.frame.DataFrame'>\n",
      "RangeIndex: 137735 entries, 0 to 137734\n",
      "Data columns (total 4 columns):\n",
      " #   Column     Non-Null Count   Dtype  \n",
      "---  ------     --------------   -----  \n",
      " 0   id         137735 non-null  object \n",
      " 1   user_id    137735 non-null  int64  \n",
      " 2   call_date  137735 non-null  object \n",
      " 3   duration   137735 non-null  float64\n",
      "dtypes: float64(1), int64(1), object(2)\n",
      "memory usage: 4.2+ MB\n"
     ]
    }
   ],
   "source": [
    "# Tampilkan informasi/rangkuman umum tentang DataFrame panggilan\n",
    "df_calls.info()"
   ]
  },
  {
   "cell_type": "code",
   "execution_count": 197,
   "metadata": {},
   "outputs": [
    {
     "data": {
      "text/html": [
       "<div>\n",
       "<style scoped>\n",
       "    .dataframe tbody tr th:only-of-type {\n",
       "        vertical-align: middle;\n",
       "    }\n",
       "\n",
       "    .dataframe tbody tr th {\n",
       "        vertical-align: top;\n",
       "    }\n",
       "\n",
       "    .dataframe thead th {\n",
       "        text-align: right;\n",
       "    }\n",
       "</style>\n",
       "<table border=\"1\" class=\"dataframe\">\n",
       "  <thead>\n",
       "    <tr style=\"text-align: right;\">\n",
       "      <th></th>\n",
       "      <th>id</th>\n",
       "      <th>user_id</th>\n",
       "      <th>call_date</th>\n",
       "      <th>duration</th>\n",
       "    </tr>\n",
       "  </thead>\n",
       "  <tbody>\n",
       "    <tr>\n",
       "      <th>36907</th>\n",
       "      <td>1140_191</td>\n",
       "      <td>1140</td>\n",
       "      <td>2018-08-13</td>\n",
       "      <td>10.79</td>\n",
       "    </tr>\n",
       "    <tr>\n",
       "      <th>67117</th>\n",
       "      <td>1240_975</td>\n",
       "      <td>1240</td>\n",
       "      <td>2018-10-05</td>\n",
       "      <td>5.42</td>\n",
       "    </tr>\n",
       "    <tr>\n",
       "      <th>66690</th>\n",
       "      <td>1240_548</td>\n",
       "      <td>1240</td>\n",
       "      <td>2018-08-14</td>\n",
       "      <td>7.98</td>\n",
       "    </tr>\n",
       "    <tr>\n",
       "      <th>115899</th>\n",
       "      <td>1406_125</td>\n",
       "      <td>1406</td>\n",
       "      <td>2018-12-13</td>\n",
       "      <td>0.87</td>\n",
       "    </tr>\n",
       "    <tr>\n",
       "      <th>74364</th>\n",
       "      <td>1263_348</td>\n",
       "      <td>1263</td>\n",
       "      <td>2018-04-22</td>\n",
       "      <td>4.62</td>\n",
       "    </tr>\n",
       "    <tr>\n",
       "      <th>50772</th>\n",
       "      <td>1183_116</td>\n",
       "      <td>1183</td>\n",
       "      <td>2018-11-30</td>\n",
       "      <td>9.12</td>\n",
       "    </tr>\n",
       "    <tr>\n",
       "      <th>53453</th>\n",
       "      <td>1192_215</td>\n",
       "      <td>1192</td>\n",
       "      <td>2018-12-13</td>\n",
       "      <td>4.48</td>\n",
       "    </tr>\n",
       "    <tr>\n",
       "      <th>98188</th>\n",
       "      <td>1352_615</td>\n",
       "      <td>1352</td>\n",
       "      <td>2018-11-06</td>\n",
       "      <td>6.07</td>\n",
       "    </tr>\n",
       "    <tr>\n",
       "      <th>21630</th>\n",
       "      <td>1079_343</td>\n",
       "      <td>1079</td>\n",
       "      <td>2018-10-03</td>\n",
       "      <td>0.70</td>\n",
       "    </tr>\n",
       "    <tr>\n",
       "      <th>118959</th>\n",
       "      <td>1415_7</td>\n",
       "      <td>1415</td>\n",
       "      <td>2018-08-19</td>\n",
       "      <td>7.15</td>\n",
       "    </tr>\n",
       "  </tbody>\n",
       "</table>\n",
       "</div>"
      ],
      "text/plain": [
       "              id  user_id   call_date  duration\n",
       "36907   1140_191     1140  2018-08-13     10.79\n",
       "67117   1240_975     1240  2018-10-05      5.42\n",
       "66690   1240_548     1240  2018-08-14      7.98\n",
       "115899  1406_125     1406  2018-12-13      0.87\n",
       "74364   1263_348     1263  2018-04-22      4.62\n",
       "50772   1183_116     1183  2018-11-30      9.12\n",
       "53453   1192_215     1192  2018-12-13      4.48\n",
       "98188   1352_615     1352  2018-11-06      6.07\n",
       "21630   1079_343     1079  2018-10-03      0.70\n",
       "118959    1415_7     1415  2018-08-19      7.15"
      ]
     },
     "execution_count": 197,
     "metadata": {},
     "output_type": "execute_result"
    }
   ],
   "source": [
    "# Tampilkan sampel data berisi panggilan\n",
    "df_calls.sample(10)"
   ]
  },
  {
   "cell_type": "markdown",
   "metadata": {},
   "source": [
    " <span style = 'color:green'>\n",
    "Data panggilan terdapat 4 kolom id, user_id, call_date, dan duration, pada data ini kolom call_date dapat diubah dari object menjadi datetime\n",
    "</span>"
   ]
  },
  {
   "cell_type": "markdown",
   "metadata": {},
   "source": [
    "### Memperbaiki Data"
   ]
  },
  {
   "cell_type": "code",
   "execution_count": 198,
   "metadata": {},
   "outputs": [
    {
     "name": "stdout",
     "output_type": "stream",
     "text": [
      "<class 'pandas.core.frame.DataFrame'>\n",
      "RangeIndex: 137735 entries, 0 to 137734\n",
      "Data columns (total 5 columns):\n",
      " #   Column     Non-Null Count   Dtype         \n",
      "---  ------     --------------   -----         \n",
      " 0   id         137735 non-null  object        \n",
      " 1   user_id    137735 non-null  int64         \n",
      " 2   call_date  137735 non-null  datetime64[ns]\n",
      " 3   duration   137735 non-null  float64       \n",
      " 4   month      137735 non-null  period[M]     \n",
      "dtypes: datetime64[ns](1), float64(1), int64(1), object(1), period[M](1)\n",
      "memory usage: 5.3+ MB\n"
     ]
    }
   ],
   "source": [
    "# Memperbaiki data calls di kolom call_date diubah dari object menjadi datetime\n",
    "df_calls['call_date'] = pd.to_datetime(df_calls['call_date'])\n",
    "df_calls['month'] = df_calls['call_date'].dt.to_period('M')\n",
    "df_calls['duration'] = np.ceil(df_calls['duration'])\n",
    "df_calls.info()"
   ]
  },
  {
   "cell_type": "markdown",
   "metadata": {},
   "source": [
    "### Memperkaya Kualitas Data"
   ]
  },
  {
   "cell_type": "code",
   "execution_count": 199,
   "metadata": {},
   "outputs": [
    {
     "data": {
      "text/plain": [
       "19.482339274694162"
      ]
     },
     "execution_count": 199,
     "metadata": {},
     "output_type": "execute_result"
    }
   ],
   "source": [
    "# Memeriksa durasi panggilan dengan durasi 0.0 menit\n",
    "zero_duration = (df_calls['duration']==0.0).sum()/ df_calls['duration'].shape[0]*100\n",
    "zero_duration"
   ]
  },
  {
   "cell_type": "markdown",
   "metadata": {},
   "source": [
    "<span style = 'color:green'>\n",
    "\n",
    "- Terdapat 137735 panggilan pengguna\n",
    "\n",
    "- Terdapat durasi panggilan 0.0 menit sebanyak 19.48%, sementara data ini tetap dipertahankan, memungkinkan durasi ini terjadi karena panggilan tidak berhasil diangkat oleh penerima.\n",
    "</span>"
   ]
  },
  {
   "cell_type": "markdown",
   "metadata": {},
   "source": [
    "## Pesan/SMS"
   ]
  },
  {
   "cell_type": "code",
   "execution_count": 200,
   "metadata": {},
   "outputs": [
    {
     "name": "stdout",
     "output_type": "stream",
     "text": [
      "<class 'pandas.core.frame.DataFrame'>\n",
      "RangeIndex: 76051 entries, 0 to 76050\n",
      "Data columns (total 3 columns):\n",
      " #   Column        Non-Null Count  Dtype \n",
      "---  ------        --------------  ----- \n",
      " 0   id            76051 non-null  object\n",
      " 1   user_id       76051 non-null  int64 \n",
      " 2   message_date  76051 non-null  object\n",
      "dtypes: int64(1), object(2)\n",
      "memory usage: 1.7+ MB\n"
     ]
    }
   ],
   "source": [
    "# Tampilkan informasi/rangkuman umum tentang DataFrame SMS\n",
    "df_messages.info()"
   ]
  },
  {
   "cell_type": "code",
   "execution_count": 201,
   "metadata": {},
   "outputs": [
    {
     "data": {
      "text/html": [
       "<div>\n",
       "<style scoped>\n",
       "    .dataframe tbody tr th:only-of-type {\n",
       "        vertical-align: middle;\n",
       "    }\n",
       "\n",
       "    .dataframe tbody tr th {\n",
       "        vertical-align: top;\n",
       "    }\n",
       "\n",
       "    .dataframe thead th {\n",
       "        text-align: right;\n",
       "    }\n",
       "</style>\n",
       "<table border=\"1\" class=\"dataframe\">\n",
       "  <thead>\n",
       "    <tr style=\"text-align: right;\">\n",
       "      <th></th>\n",
       "      <th>id</th>\n",
       "      <th>user_id</th>\n",
       "      <th>message_date</th>\n",
       "    </tr>\n",
       "  </thead>\n",
       "  <tbody>\n",
       "    <tr>\n",
       "      <th>48643</th>\n",
       "      <td>1326_180</td>\n",
       "      <td>1326</td>\n",
       "      <td>2018-08-29</td>\n",
       "    </tr>\n",
       "    <tr>\n",
       "      <th>71343</th>\n",
       "      <td>1465_343</td>\n",
       "      <td>1465</td>\n",
       "      <td>2018-07-22</td>\n",
       "    </tr>\n",
       "    <tr>\n",
       "      <th>65379</th>\n",
       "      <td>1419_188</td>\n",
       "      <td>1419</td>\n",
       "      <td>2018-11-29</td>\n",
       "    </tr>\n",
       "    <tr>\n",
       "      <th>71842</th>\n",
       "      <td>1467_174</td>\n",
       "      <td>1467</td>\n",
       "      <td>2018-09-10</td>\n",
       "    </tr>\n",
       "    <tr>\n",
       "      <th>13723</th>\n",
       "      <td>1091_40</td>\n",
       "      <td>1091</td>\n",
       "      <td>2018-10-24</td>\n",
       "    </tr>\n",
       "  </tbody>\n",
       "</table>\n",
       "</div>"
      ],
      "text/plain": [
       "             id  user_id message_date\n",
       "48643  1326_180     1326   2018-08-29\n",
       "71343  1465_343     1465   2018-07-22\n",
       "65379  1419_188     1419   2018-11-29\n",
       "71842  1467_174     1467   2018-09-10\n",
       "13723   1091_40     1091   2018-10-24"
      ]
     },
     "execution_count": 201,
     "metadata": {},
     "output_type": "execute_result"
    }
   ],
   "source": [
    "# Tampilkan sampel data untuk SMS\n",
    "df_messages.sample(5)"
   ]
  },
  {
   "cell_type": "markdown",
   "metadata": {},
   "source": [
    " <span style = 'color:green'>\n",
    "Data pesan terdapat 3 kolom id, user_id, messages_date, pada data ini:\n",
    "\n",
    "- Kolom messages_date dapat diubah dari object menjadi datetime\n",
    "</span>"
   ]
  },
  {
   "cell_type": "markdown",
   "metadata": {},
   "source": [
    "### Memperbaiki Data"
   ]
  },
  {
   "cell_type": "code",
   "execution_count": 202,
   "metadata": {},
   "outputs": [],
   "source": [
    "#Memperbaiki data pesan di kolom messages_date diubah menjadi datetime\n",
    "df_messages['message_date'] = pd.to_datetime(df_messages['message_date'])"
   ]
  },
  {
   "cell_type": "code",
   "execution_count": 203,
   "metadata": {},
   "outputs": [
    {
     "name": "stdout",
     "output_type": "stream",
     "text": [
      "<class 'pandas.core.frame.DataFrame'>\n",
      "RangeIndex: 76051 entries, 0 to 76050\n",
      "Data columns (total 3 columns):\n",
      " #   Column        Non-Null Count  Dtype         \n",
      "---  ------        --------------  -----         \n",
      " 0   id            76051 non-null  object        \n",
      " 1   user_id       76051 non-null  int64         \n",
      " 2   message_date  76051 non-null  datetime64[ns]\n",
      "dtypes: datetime64[ns](1), int64(1), object(1)\n",
      "memory usage: 1.7+ MB\n"
     ]
    }
   ],
   "source": [
    "df_messages.info()"
   ]
  },
  {
   "cell_type": "markdown",
   "metadata": {},
   "source": [
    "<span style = 'color:green'>\n",
    "Kolom messages_date sudah menjadi tipe data datetime\n",
    "</span>"
   ]
  },
  {
   "cell_type": "markdown",
   "metadata": {},
   "source": [
    "### Memperkaya Kualitas Data"
   ]
  },
  {
   "cell_type": "code",
   "execution_count": 204,
   "metadata": {},
   "outputs": [
    {
     "name": "stdout",
     "output_type": "stream",
     "text": [
      "<class 'pandas.core.frame.DataFrame'>\n",
      "RangeIndex: 76051 entries, 0 to 76050\n",
      "Data columns (total 4 columns):\n",
      " #   Column        Non-Null Count  Dtype         \n",
      "---  ------        --------------  -----         \n",
      " 0   id            76051 non-null  object        \n",
      " 1   user_id       76051 non-null  int64         \n",
      " 2   message_date  76051 non-null  datetime64[ns]\n",
      " 3   month         76051 non-null  period[M]     \n",
      "dtypes: datetime64[ns](1), int64(1), object(1), period[M](1)\n",
      "memory usage: 2.3+ MB\n"
     ]
    }
   ],
   "source": [
    "# kolom baru untuk mengubah message_date untuk menyimpan bulan\n",
    "df_messages['month'] = df_messages['message_date'].dt.to_period('M')\n",
    "df_messages.info()"
   ]
  },
  {
   "cell_type": "markdown",
   "metadata": {},
   "source": [
    "<span style = 'color:green'>\n",
    "Data pesan ditambahkan kolom month, untuk memudahkan dalam menganalisa selanjutnya dalam mengamati perilaku pengguna.\n",
    "\n",
    "</span>"
   ]
  },
  {
   "cell_type": "markdown",
   "metadata": {},
   "source": [
    "## Internet"
   ]
  },
  {
   "cell_type": "code",
   "execution_count": 205,
   "metadata": {},
   "outputs": [
    {
     "name": "stdout",
     "output_type": "stream",
     "text": [
      "<class 'pandas.core.frame.DataFrame'>\n",
      "RangeIndex: 104825 entries, 0 to 104824\n",
      "Data columns (total 4 columns):\n",
      " #   Column        Non-Null Count   Dtype  \n",
      "---  ------        --------------   -----  \n",
      " 0   id            104825 non-null  object \n",
      " 1   user_id       104825 non-null  int64  \n",
      " 2   session_date  104825 non-null  object \n",
      " 3   mb_used       104825 non-null  float64\n",
      "dtypes: float64(1), int64(1), object(2)\n",
      "memory usage: 3.2+ MB\n"
     ]
    }
   ],
   "source": [
    "# Tampilkan informasi/rangkuman umum tentang DataFrame internet\n",
    "df_internet.info()"
   ]
  },
  {
   "cell_type": "code",
   "execution_count": 206,
   "metadata": {},
   "outputs": [
    {
     "data": {
      "text/html": [
       "<div>\n",
       "<style scoped>\n",
       "    .dataframe tbody tr th:only-of-type {\n",
       "        vertical-align: middle;\n",
       "    }\n",
       "\n",
       "    .dataframe tbody tr th {\n",
       "        vertical-align: top;\n",
       "    }\n",
       "\n",
       "    .dataframe thead th {\n",
       "        text-align: right;\n",
       "    }\n",
       "</style>\n",
       "<table border=\"1\" class=\"dataframe\">\n",
       "  <thead>\n",
       "    <tr style=\"text-align: right;\">\n",
       "      <th></th>\n",
       "      <th>id</th>\n",
       "      <th>user_id</th>\n",
       "      <th>session_date</th>\n",
       "      <th>mb_used</th>\n",
       "    </tr>\n",
       "  </thead>\n",
       "  <tbody>\n",
       "    <tr>\n",
       "      <th>56629</th>\n",
       "      <td>1256_256</td>\n",
       "      <td>1256</td>\n",
       "      <td>2018-11-10</td>\n",
       "      <td>1053.83</td>\n",
       "    </tr>\n",
       "    <tr>\n",
       "      <th>15183</th>\n",
       "      <td>1068_299</td>\n",
       "      <td>1068</td>\n",
       "      <td>2018-09-07</td>\n",
       "      <td>146.90</td>\n",
       "    </tr>\n",
       "    <tr>\n",
       "      <th>35574</th>\n",
       "      <td>1160_278</td>\n",
       "      <td>1160</td>\n",
       "      <td>2018-05-29</td>\n",
       "      <td>391.51</td>\n",
       "    </tr>\n",
       "    <tr>\n",
       "      <th>52847</th>\n",
       "      <td>1238_81</td>\n",
       "      <td>1238</td>\n",
       "      <td>2018-12-03</td>\n",
       "      <td>238.44</td>\n",
       "    </tr>\n",
       "    <tr>\n",
       "      <th>29114</th>\n",
       "      <td>1133_110</td>\n",
       "      <td>1133</td>\n",
       "      <td>2018-09-22</td>\n",
       "      <td>417.56</td>\n",
       "    </tr>\n",
       "  </tbody>\n",
       "</table>\n",
       "</div>"
      ],
      "text/plain": [
       "             id  user_id session_date  mb_used\n",
       "56629  1256_256     1256   2018-11-10  1053.83\n",
       "15183  1068_299     1068   2018-09-07   146.90\n",
       "35574  1160_278     1160   2018-05-29   391.51\n",
       "52847   1238_81     1238   2018-12-03   238.44\n",
       "29114  1133_110     1133   2018-09-22   417.56"
      ]
     },
     "execution_count": 206,
     "metadata": {},
     "output_type": "execute_result"
    }
   ],
   "source": [
    "# Tampilkan sampel data untuk traffic internet\n",
    "df_internet.sample(5)"
   ]
  },
  {
   "cell_type": "markdown",
   "metadata": {},
   "source": [
    "<span style = 'color:green'>\n",
    "Data internet terdapat 4 kolom id, user_id, session_date, dan mb_used, pada data ini:\n",
    "\n",
    "- Kolom session_date dapat diubah dari object menjadi datetime\n",
    "</span>"
   ]
  },
  {
   "cell_type": "markdown",
   "metadata": {},
   "source": [
    "### Memperbaiki Data"
   ]
  },
  {
   "cell_type": "code",
   "execution_count": 207,
   "metadata": {},
   "outputs": [
    {
     "name": "stdout",
     "output_type": "stream",
     "text": [
      "<class 'pandas.core.frame.DataFrame'>\n",
      "RangeIndex: 104825 entries, 0 to 104824\n",
      "Data columns (total 4 columns):\n",
      " #   Column        Non-Null Count   Dtype         \n",
      "---  ------        --------------   -----         \n",
      " 0   id            104825 non-null  object        \n",
      " 1   user_id       104825 non-null  int64         \n",
      " 2   session_date  104825 non-null  datetime64[ns]\n",
      " 3   mb_used       104825 non-null  float64       \n",
      "dtypes: datetime64[ns](1), float64(1), int64(1), object(1)\n",
      "memory usage: 3.2+ MB\n"
     ]
    }
   ],
   "source": [
    "#Memperbaiki data internet di kolom session_date diubah menjadi datetime\n",
    "df_internet['session_date'] = pd.to_datetime(df_internet['session_date'])\n",
    "df_internet.info()"
   ]
  },
  {
   "cell_type": "markdown",
   "metadata": {},
   "source": [
    "<span style = 'color:green'>\n",
    "Kolom session_date sudah menjadi tipe data datetime dan menambah serta membulatkan kolom gb_used\n",
    "</span>"
   ]
  },
  {
   "cell_type": "markdown",
   "metadata": {},
   "source": [
    "### Memperkaya Kualitas Data"
   ]
  },
  {
   "cell_type": "code",
   "execution_count": 208,
   "metadata": {},
   "outputs": [
    {
     "data": {
      "text/html": [
       "<div>\n",
       "<style scoped>\n",
       "    .dataframe tbody tr th:only-of-type {\n",
       "        vertical-align: middle;\n",
       "    }\n",
       "\n",
       "    .dataframe tbody tr th {\n",
       "        vertical-align: top;\n",
       "    }\n",
       "\n",
       "    .dataframe thead th {\n",
       "        text-align: right;\n",
       "    }\n",
       "</style>\n",
       "<table border=\"1\" class=\"dataframe\">\n",
       "  <thead>\n",
       "    <tr style=\"text-align: right;\">\n",
       "      <th></th>\n",
       "      <th>user_id</th>\n",
       "      <th>mb_used</th>\n",
       "      <th>gb_used</th>\n",
       "    </tr>\n",
       "  </thead>\n",
       "  <tbody>\n",
       "    <tr>\n",
       "      <th>count</th>\n",
       "      <td>104825.000000</td>\n",
       "      <td>104825.000000</td>\n",
       "      <td>104825.000000</td>\n",
       "    </tr>\n",
       "    <tr>\n",
       "      <th>mean</th>\n",
       "      <td>1242.496361</td>\n",
       "      <td>366.713701</td>\n",
       "      <td>0.884512</td>\n",
       "    </tr>\n",
       "    <tr>\n",
       "      <th>std</th>\n",
       "      <td>142.053913</td>\n",
       "      <td>277.170542</td>\n",
       "      <td>0.365323</td>\n",
       "    </tr>\n",
       "    <tr>\n",
       "      <th>min</th>\n",
       "      <td>1000.000000</td>\n",
       "      <td>0.000000</td>\n",
       "      <td>0.000000</td>\n",
       "    </tr>\n",
       "    <tr>\n",
       "      <th>25%</th>\n",
       "      <td>1122.000000</td>\n",
       "      <td>136.080000</td>\n",
       "      <td>1.000000</td>\n",
       "    </tr>\n",
       "    <tr>\n",
       "      <th>50%</th>\n",
       "      <td>1236.000000</td>\n",
       "      <td>343.980000</td>\n",
       "      <td>1.000000</td>\n",
       "    </tr>\n",
       "    <tr>\n",
       "      <th>75%</th>\n",
       "      <td>1367.000000</td>\n",
       "      <td>554.610000</td>\n",
       "      <td>1.000000</td>\n",
       "    </tr>\n",
       "    <tr>\n",
       "      <th>max</th>\n",
       "      <td>1499.000000</td>\n",
       "      <td>1693.470000</td>\n",
       "      <td>2.000000</td>\n",
       "    </tr>\n",
       "  </tbody>\n",
       "</table>\n",
       "</div>"
      ],
      "text/plain": [
       "             user_id        mb_used        gb_used\n",
       "count  104825.000000  104825.000000  104825.000000\n",
       "mean     1242.496361     366.713701       0.884512\n",
       "std       142.053913     277.170542       0.365323\n",
       "min      1000.000000       0.000000       0.000000\n",
       "25%      1122.000000     136.080000       1.000000\n",
       "50%      1236.000000     343.980000       1.000000\n",
       "75%      1367.000000     554.610000       1.000000\n",
       "max      1499.000000    1693.470000       2.000000"
      ]
     },
     "execution_count": 208,
     "metadata": {},
     "output_type": "execute_result"
    }
   ],
   "source": [
    "df_internet['month'] = df_internet['session_date'].dt.to_period('M')\n",
    "df_internet['gb_used'] = df_internet['mb_used'] / 1024 # mengonversi dari MB ke GB\n",
    "df_internet['gb_used'] = np.ceil(df_internet['gb_used']) # membulatkan kolom gb_used\n",
    "df_internet.describe()"
   ]
  },
  {
   "cell_type": "markdown",
   "metadata": {},
   "source": [
    "<span style = 'color:green'>\n",
    "Dari data internet berdasarkan deskripsi statistik ditemukan:\n",
    "    \n",
    "1. Pengguna mencakup dari user_id 1000 hingga 1499.\n",
    "2. Pemakaian dalam MB rata-rata sebesar 366.7MB per bulan dengan pemakaian terendah 0MB (ada yang tidak menggunakan data internet dan tertingginya adalah 1693.4MB.\n",
    "3. Pemakaian dalam GB rata-rata sebesar 0.88GB dengan pemakaian terendah adalah 0GB dan tertinggi adalah 2GB.\n",
    "4. Standar deviasi baik dalam pemakaian MB ataupun GB menunjukkan variasi dalam penggunaan internet per bulan\n",
    "\n",
    "</span>"
   ]
  },
  {
   "cell_type": "markdown",
   "metadata": {},
   "source": [
    "## Mempelajari Syarat dan Kondisi Terkait Paket Prabayar"
   ]
  },
  {
   "cell_type": "code",
   "execution_count": 209,
   "metadata": {},
   "outputs": [
    {
     "data": {
      "text/html": [
       "<div>\n",
       "<style scoped>\n",
       "    .dataframe tbody tr th:only-of-type {\n",
       "        vertical-align: middle;\n",
       "    }\n",
       "\n",
       "    .dataframe tbody tr th {\n",
       "        vertical-align: top;\n",
       "    }\n",
       "\n",
       "    .dataframe thead th {\n",
       "        text-align: right;\n",
       "    }\n",
       "</style>\n",
       "<table border=\"1\" class=\"dataframe\">\n",
       "  <thead>\n",
       "    <tr style=\"text-align: right;\">\n",
       "      <th></th>\n",
       "      <th>messages_included</th>\n",
       "      <th>mb_per_month_included</th>\n",
       "      <th>minutes_included</th>\n",
       "      <th>usd_monthly_pay</th>\n",
       "      <th>usd_per_gb</th>\n",
       "      <th>usd_per_message</th>\n",
       "      <th>usd_per_minute</th>\n",
       "      <th>plan_name</th>\n",
       "    </tr>\n",
       "  </thead>\n",
       "  <tbody>\n",
       "    <tr>\n",
       "      <th>0</th>\n",
       "      <td>50</td>\n",
       "      <td>15360</td>\n",
       "      <td>500</td>\n",
       "      <td>20</td>\n",
       "      <td>10</td>\n",
       "      <td>0.03</td>\n",
       "      <td>0.03</td>\n",
       "      <td>surf</td>\n",
       "    </tr>\n",
       "    <tr>\n",
       "      <th>1</th>\n",
       "      <td>1000</td>\n",
       "      <td>30720</td>\n",
       "      <td>3000</td>\n",
       "      <td>70</td>\n",
       "      <td>7</td>\n",
       "      <td>0.01</td>\n",
       "      <td>0.01</td>\n",
       "      <td>ultimate</td>\n",
       "    </tr>\n",
       "  </tbody>\n",
       "</table>\n",
       "</div>"
      ],
      "text/plain": [
       "   messages_included  mb_per_month_included  minutes_included  \\\n",
       "0                 50                  15360               500   \n",
       "1               1000                  30720              3000   \n",
       "\n",
       "   usd_monthly_pay  usd_per_gb  usd_per_message  usd_per_minute plan_name  \n",
       "0               20          10             0.03            0.03      surf  \n",
       "1               70           7             0.01            0.01  ultimate  "
      ]
     },
     "execution_count": 209,
     "metadata": {},
     "output_type": "execute_result"
    }
   ],
   "source": [
    "# Tampilkan persyaratan paket prabayar dan pastikan Anda memahaminya\n",
    "df_plans"
   ]
  },
  {
   "cell_type": "code",
   "execution_count": 210,
   "metadata": {},
   "outputs": [
    {
     "data": {
      "text/html": [
       "<div>\n",
       "<style scoped>\n",
       "    .dataframe tbody tr th:only-of-type {\n",
       "        vertical-align: middle;\n",
       "    }\n",
       "\n",
       "    .dataframe tbody tr th {\n",
       "        vertical-align: top;\n",
       "    }\n",
       "\n",
       "    .dataframe thead th {\n",
       "        text-align: right;\n",
       "    }\n",
       "</style>\n",
       "<table border=\"1\" class=\"dataframe\">\n",
       "  <thead>\n",
       "    <tr style=\"text-align: right;\">\n",
       "      <th></th>\n",
       "      <th>messages_included</th>\n",
       "      <th>minutes_included</th>\n",
       "      <th>usd_monthly_pay</th>\n",
       "      <th>usd_per_gb</th>\n",
       "      <th>usd_per_message</th>\n",
       "      <th>usd_per_minute</th>\n",
       "      <th>plan_name</th>\n",
       "      <th>gb_per_month_included</th>\n",
       "    </tr>\n",
       "  </thead>\n",
       "  <tbody>\n",
       "    <tr>\n",
       "      <th>0</th>\n",
       "      <td>50</td>\n",
       "      <td>500</td>\n",
       "      <td>20</td>\n",
       "      <td>10</td>\n",
       "      <td>0.03</td>\n",
       "      <td>0.03</td>\n",
       "      <td>surf</td>\n",
       "      <td>15.0</td>\n",
       "    </tr>\n",
       "    <tr>\n",
       "      <th>1</th>\n",
       "      <td>1000</td>\n",
       "      <td>3000</td>\n",
       "      <td>70</td>\n",
       "      <td>7</td>\n",
       "      <td>0.01</td>\n",
       "      <td>0.01</td>\n",
       "      <td>ultimate</td>\n",
       "      <td>30.0</td>\n",
       "    </tr>\n",
       "  </tbody>\n",
       "</table>\n",
       "</div>"
      ],
      "text/plain": [
       "   messages_included  minutes_included  usd_monthly_pay  usd_per_gb  \\\n",
       "0                 50               500               20          10   \n",
       "1               1000              3000               70           7   \n",
       "\n",
       "   usd_per_message  usd_per_minute plan_name  gb_per_month_included  \n",
       "0             0.03            0.03      surf                   15.0  \n",
       "1             0.01            0.01  ultimate                   30.0  "
      ]
     },
     "execution_count": 210,
     "metadata": {},
     "output_type": "execute_result"
    }
   ],
   "source": [
    "# Transform mb per month menjadi gb per month\n",
    "df_plans['gb_per_month_included'] = df_plans['mb_per_month_included'] / 1024\n",
    "\n",
    "# Hapus kolom yang tidak dibutuhkan\n",
    "df_plans.drop('mb_per_month_included', axis=1, inplace=True)\n",
    "df_plans"
   ]
  },
  {
   "cell_type": "markdown",
   "metadata": {},
   "source": [
    "## Mengagregasi Data per Pengguna\n"
   ]
  },
  {
   "cell_type": "code",
   "execution_count": 211,
   "metadata": {},
   "outputs": [
    {
     "data": {
      "text/html": [
       "<div>\n",
       "<style scoped>\n",
       "    .dataframe tbody tr th:only-of-type {\n",
       "        vertical-align: middle;\n",
       "    }\n",
       "\n",
       "    .dataframe tbody tr th {\n",
       "        vertical-align: top;\n",
       "    }\n",
       "\n",
       "    .dataframe thead th {\n",
       "        text-align: right;\n",
       "    }\n",
       "</style>\n",
       "<table border=\"1\" class=\"dataframe\">\n",
       "  <thead>\n",
       "    <tr style=\"text-align: right;\">\n",
       "      <th></th>\n",
       "      <th>user_id</th>\n",
       "      <th>month</th>\n",
       "      <th>duration</th>\n",
       "    </tr>\n",
       "  </thead>\n",
       "  <tbody>\n",
       "    <tr>\n",
       "      <th>0</th>\n",
       "      <td>1000</td>\n",
       "      <td>2018-12</td>\n",
       "      <td>124.0</td>\n",
       "    </tr>\n",
       "    <tr>\n",
       "      <th>1</th>\n",
       "      <td>1001</td>\n",
       "      <td>2018-08</td>\n",
       "      <td>182.0</td>\n",
       "    </tr>\n",
       "    <tr>\n",
       "      <th>2</th>\n",
       "      <td>1001</td>\n",
       "      <td>2018-09</td>\n",
       "      <td>315.0</td>\n",
       "    </tr>\n",
       "    <tr>\n",
       "      <th>3</th>\n",
       "      <td>1001</td>\n",
       "      <td>2018-10</td>\n",
       "      <td>393.0</td>\n",
       "    </tr>\n",
       "    <tr>\n",
       "      <th>4</th>\n",
       "      <td>1001</td>\n",
       "      <td>2018-11</td>\n",
       "      <td>426.0</td>\n",
       "    </tr>\n",
       "    <tr>\n",
       "      <th>...</th>\n",
       "      <td>...</td>\n",
       "      <td>...</td>\n",
       "      <td>...</td>\n",
       "    </tr>\n",
       "    <tr>\n",
       "      <th>2253</th>\n",
       "      <td>1498</td>\n",
       "      <td>2018-12</td>\n",
       "      <td>339.0</td>\n",
       "    </tr>\n",
       "    <tr>\n",
       "      <th>2254</th>\n",
       "      <td>1499</td>\n",
       "      <td>2018-09</td>\n",
       "      <td>346.0</td>\n",
       "    </tr>\n",
       "    <tr>\n",
       "      <th>2255</th>\n",
       "      <td>1499</td>\n",
       "      <td>2018-10</td>\n",
       "      <td>385.0</td>\n",
       "    </tr>\n",
       "    <tr>\n",
       "      <th>2256</th>\n",
       "      <td>1499</td>\n",
       "      <td>2018-11</td>\n",
       "      <td>308.0</td>\n",
       "    </tr>\n",
       "    <tr>\n",
       "      <th>2257</th>\n",
       "      <td>1499</td>\n",
       "      <td>2018-12</td>\n",
       "      <td>496.0</td>\n",
       "    </tr>\n",
       "  </tbody>\n",
       "</table>\n",
       "<p>2258 rows × 3 columns</p>\n",
       "</div>"
      ],
      "text/plain": [
       "      user_id    month  duration\n",
       "0        1000  2018-12     124.0\n",
       "1        1001  2018-08     182.0\n",
       "2        1001  2018-09     315.0\n",
       "3        1001  2018-10     393.0\n",
       "4        1001  2018-11     426.0\n",
       "...       ...      ...       ...\n",
       "2253     1498  2018-12     339.0\n",
       "2254     1499  2018-09     346.0\n",
       "2255     1499  2018-10     385.0\n",
       "2256     1499  2018-11     308.0\n",
       "2257     1499  2018-12     496.0\n",
       "\n",
       "[2258 rows x 3 columns]"
      ]
     },
     "execution_count": 211,
     "metadata": {},
     "output_type": "execute_result"
    }
   ],
   "source": [
    "# Hitung jumlah panggilan yang dilakukan oleh setiap pengguna per bulan. Simpan hasilnya.\n",
    "total_calls = pd.pivot_table(df_calls, index=['user_id', 'month'], values='duration', aggfunc='sum').reset_index()\n",
    "total_calls\n"
   ]
  },
  {
   "cell_type": "code",
   "execution_count": 212,
   "metadata": {},
   "outputs": [
    {
     "data": {
      "text/html": [
       "<div>\n",
       "<style scoped>\n",
       "    .dataframe tbody tr th:only-of-type {\n",
       "        vertical-align: middle;\n",
       "    }\n",
       "\n",
       "    .dataframe tbody tr th {\n",
       "        vertical-align: top;\n",
       "    }\n",
       "\n",
       "    .dataframe thead th {\n",
       "        text-align: right;\n",
       "    }\n",
       "</style>\n",
       "<table border=\"1\" class=\"dataframe\">\n",
       "  <thead>\n",
       "    <tr style=\"text-align: right;\">\n",
       "      <th></th>\n",
       "      <th>user_id</th>\n",
       "      <th>month</th>\n",
       "      <th>total_messages</th>\n",
       "    </tr>\n",
       "  </thead>\n",
       "  <tbody>\n",
       "    <tr>\n",
       "      <th>0</th>\n",
       "      <td>1000</td>\n",
       "      <td>2018-12</td>\n",
       "      <td>11</td>\n",
       "    </tr>\n",
       "    <tr>\n",
       "      <th>1</th>\n",
       "      <td>1001</td>\n",
       "      <td>2018-08</td>\n",
       "      <td>30</td>\n",
       "    </tr>\n",
       "    <tr>\n",
       "      <th>2</th>\n",
       "      <td>1001</td>\n",
       "      <td>2018-09</td>\n",
       "      <td>44</td>\n",
       "    </tr>\n",
       "    <tr>\n",
       "      <th>3</th>\n",
       "      <td>1001</td>\n",
       "      <td>2018-10</td>\n",
       "      <td>53</td>\n",
       "    </tr>\n",
       "    <tr>\n",
       "      <th>4</th>\n",
       "      <td>1001</td>\n",
       "      <td>2018-11</td>\n",
       "      <td>36</td>\n",
       "    </tr>\n",
       "  </tbody>\n",
       "</table>\n",
       "</div>"
      ],
      "text/plain": [
       "   user_id    month  total_messages\n",
       "0     1000  2018-12              11\n",
       "1     1001  2018-08              30\n",
       "2     1001  2018-09              44\n",
       "3     1001  2018-10              53\n",
       "4     1001  2018-11              36"
      ]
     },
     "execution_count": 212,
     "metadata": {},
     "output_type": "execute_result"
    }
   ],
   "source": [
    "# Hitung jumlah SMS yang dikirim oleh setiap pengguna per bulan. Simpan hasilnya.\n",
    "total_messages = pd.pivot_table(df_messages, values='id', index=['user_id', 'month'], aggfunc='count').reset_index()\n",
    "total_messages.columns = ['user_id', 'month', 'total_messages']\n",
    "total_messages.head()\n"
   ]
  },
  {
   "cell_type": "code",
   "execution_count": 213,
   "metadata": {},
   "outputs": [
    {
     "data": {
      "text/html": [
       "<div>\n",
       "<style scoped>\n",
       "    .dataframe tbody tr th:only-of-type {\n",
       "        vertical-align: middle;\n",
       "    }\n",
       "\n",
       "    .dataframe tbody tr th {\n",
       "        vertical-align: top;\n",
       "    }\n",
       "\n",
       "    .dataframe thead th {\n",
       "        text-align: right;\n",
       "    }\n",
       "</style>\n",
       "<table border=\"1\" class=\"dataframe\">\n",
       "  <thead>\n",
       "    <tr style=\"text-align: right;\">\n",
       "      <th></th>\n",
       "      <th>user_id</th>\n",
       "      <th>month</th>\n",
       "      <th>mb_used</th>\n",
       "      <th>gb_used</th>\n",
       "    </tr>\n",
       "  </thead>\n",
       "  <tbody>\n",
       "    <tr>\n",
       "      <th>0</th>\n",
       "      <td>1000</td>\n",
       "      <td>2018-12</td>\n",
       "      <td>1901.47</td>\n",
       "      <td>2.0</td>\n",
       "    </tr>\n",
       "    <tr>\n",
       "      <th>1</th>\n",
       "      <td>1001</td>\n",
       "      <td>2018-08</td>\n",
       "      <td>6919.15</td>\n",
       "      <td>7.0</td>\n",
       "    </tr>\n",
       "    <tr>\n",
       "      <th>2</th>\n",
       "      <td>1001</td>\n",
       "      <td>2018-09</td>\n",
       "      <td>13314.82</td>\n",
       "      <td>14.0</td>\n",
       "    </tr>\n",
       "    <tr>\n",
       "      <th>3</th>\n",
       "      <td>1001</td>\n",
       "      <td>2018-10</td>\n",
       "      <td>22330.49</td>\n",
       "      <td>22.0</td>\n",
       "    </tr>\n",
       "    <tr>\n",
       "      <th>4</th>\n",
       "      <td>1001</td>\n",
       "      <td>2018-11</td>\n",
       "      <td>18504.30</td>\n",
       "      <td>19.0</td>\n",
       "    </tr>\n",
       "    <tr>\n",
       "      <th>...</th>\n",
       "      <td>...</td>\n",
       "      <td>...</td>\n",
       "      <td>...</td>\n",
       "      <td>...</td>\n",
       "    </tr>\n",
       "    <tr>\n",
       "      <th>2272</th>\n",
       "      <td>1498</td>\n",
       "      <td>2018-12</td>\n",
       "      <td>23137.69</td>\n",
       "      <td>23.0</td>\n",
       "    </tr>\n",
       "    <tr>\n",
       "      <th>2273</th>\n",
       "      <td>1499</td>\n",
       "      <td>2018-09</td>\n",
       "      <td>12984.76</td>\n",
       "      <td>13.0</td>\n",
       "    </tr>\n",
       "    <tr>\n",
       "      <th>2274</th>\n",
       "      <td>1499</td>\n",
       "      <td>2018-10</td>\n",
       "      <td>19492.43</td>\n",
       "      <td>20.0</td>\n",
       "    </tr>\n",
       "    <tr>\n",
       "      <th>2275</th>\n",
       "      <td>1499</td>\n",
       "      <td>2018-11</td>\n",
       "      <td>16813.83</td>\n",
       "      <td>17.0</td>\n",
       "    </tr>\n",
       "    <tr>\n",
       "      <th>2276</th>\n",
       "      <td>1499</td>\n",
       "      <td>2018-12</td>\n",
       "      <td>22059.21</td>\n",
       "      <td>22.0</td>\n",
       "    </tr>\n",
       "  </tbody>\n",
       "</table>\n",
       "<p>2277 rows × 4 columns</p>\n",
       "</div>"
      ],
      "text/plain": [
       "      user_id    month   mb_used  gb_used\n",
       "0        1000  2018-12   1901.47      2.0\n",
       "1        1001  2018-08   6919.15      7.0\n",
       "2        1001  2018-09  13314.82     14.0\n",
       "3        1001  2018-10  22330.49     22.0\n",
       "4        1001  2018-11  18504.30     19.0\n",
       "...       ...      ...       ...      ...\n",
       "2272     1498  2018-12  23137.69     23.0\n",
       "2273     1499  2018-09  12984.76     13.0\n",
       "2274     1499  2018-10  19492.43     20.0\n",
       "2275     1499  2018-11  16813.83     17.0\n",
       "2276     1499  2018-12  22059.21     22.0\n",
       "\n",
       "[2277 rows x 4 columns]"
      ]
     },
     "execution_count": 213,
     "metadata": {},
     "output_type": "execute_result"
    }
   ],
   "source": [
    "# Hitung volume traffic internet yang digunakan oleh setiap pengguna per bulan. Simpan hasilnya.\n",
    "volume_data_month = pd.pivot_table(df_internet, values='mb_used', index=['user_id', 'month'], aggfunc='sum').reset_index()\n",
    "volume_data_month['gb_used'] = np.ceil(volume_data_month['mb_used'] / 1024)\n",
    "volume_data_month"
   ]
  },
  {
   "cell_type": "code",
   "execution_count": 214,
   "metadata": {},
   "outputs": [
    {
     "data": {
      "text/html": [
       "<div>\n",
       "<style scoped>\n",
       "    .dataframe tbody tr th:only-of-type {\n",
       "        vertical-align: middle;\n",
       "    }\n",
       "\n",
       "    .dataframe tbody tr th {\n",
       "        vertical-align: top;\n",
       "    }\n",
       "\n",
       "    .dataframe thead th {\n",
       "        text-align: right;\n",
       "    }\n",
       "</style>\n",
       "<table border=\"1\" class=\"dataframe\">\n",
       "  <thead>\n",
       "    <tr style=\"text-align: right;\">\n",
       "      <th></th>\n",
       "      <th>user_id</th>\n",
       "      <th>age</th>\n",
       "      <th>reg_date</th>\n",
       "      <th>plan</th>\n",
       "      <th>churn_date</th>\n",
       "      <th>month</th>\n",
       "      <th>new_column_city</th>\n",
       "      <th>category_nynj</th>\n",
       "    </tr>\n",
       "  </thead>\n",
       "  <tbody>\n",
       "    <tr>\n",
       "      <th>74</th>\n",
       "      <td>1074</td>\n",
       "      <td>69</td>\n",
       "      <td>2018-11-26</td>\n",
       "      <td>ultimate</td>\n",
       "      <td>2018-04-18</td>\n",
       "      <td>2018-11</td>\n",
       "      <td>TN</td>\n",
       "      <td>0</td>\n",
       "    </tr>\n",
       "  </tbody>\n",
       "</table>\n",
       "</div>"
      ],
      "text/plain": [
       "    user_id  age   reg_date      plan churn_date    month new_column_city  \\\n",
       "74     1074   69 2018-11-26  ultimate 2018-04-18  2018-11              TN   \n",
       "\n",
       "    category_nynj  \n",
       "74              0  "
      ]
     },
     "execution_count": 214,
     "metadata": {},
     "output_type": "execute_result"
    }
   ],
   "source": [
    "# Membuang kolom yang tidak dibutuhkan pada df_users untuk memudahkan analisa\n",
    "df_users.drop(['first_name', 'last_name', 'city'], axis=1, inplace=True)\n",
    "df_users.sample()"
   ]
  },
  {
   "cell_type": "code",
   "execution_count": 215,
   "metadata": {},
   "outputs": [
    {
     "data": {
      "text/html": [
       "<div>\n",
       "<style scoped>\n",
       "    .dataframe tbody tr th:only-of-type {\n",
       "        vertical-align: middle;\n",
       "    }\n",
       "\n",
       "    .dataframe tbody tr th {\n",
       "        vertical-align: top;\n",
       "    }\n",
       "\n",
       "    .dataframe thead th {\n",
       "        text-align: right;\n",
       "    }\n",
       "</style>\n",
       "<table border=\"1\" class=\"dataframe\">\n",
       "  <thead>\n",
       "    <tr style=\"text-align: right;\">\n",
       "      <th></th>\n",
       "      <th>user_id</th>\n",
       "      <th>month</th>\n",
       "      <th>duration</th>\n",
       "      <th>total_messages</th>\n",
       "      <th>mb_used</th>\n",
       "      <th>gb_used</th>\n",
       "    </tr>\n",
       "  </thead>\n",
       "  <tbody>\n",
       "    <tr>\n",
       "      <th>1036</th>\n",
       "      <td>1223</td>\n",
       "      <td>2018-09</td>\n",
       "      <td>649.0</td>\n",
       "      <td>27.0</td>\n",
       "      <td>20408.31</td>\n",
       "      <td>20.0</td>\n",
       "    </tr>\n",
       "    <tr>\n",
       "      <th>1545</th>\n",
       "      <td>1340</td>\n",
       "      <td>2018-10</td>\n",
       "      <td>441.0</td>\n",
       "      <td>62.0</td>\n",
       "      <td>NaN</td>\n",
       "      <td>NaN</td>\n",
       "    </tr>\n",
       "    <tr>\n",
       "      <th>2247</th>\n",
       "      <td>1498</td>\n",
       "      <td>2018-06</td>\n",
       "      <td>238.0</td>\n",
       "      <td>NaN</td>\n",
       "      <td>14807.18</td>\n",
       "      <td>15.0</td>\n",
       "    </tr>\n",
       "    <tr>\n",
       "      <th>1203</th>\n",
       "      <td>1259</td>\n",
       "      <td>2018-09</td>\n",
       "      <td>147.0</td>\n",
       "      <td>34.0</td>\n",
       "      <td>3282.23</td>\n",
       "      <td>4.0</td>\n",
       "    </tr>\n",
       "    <tr>\n",
       "      <th>186</th>\n",
       "      <td>1046</td>\n",
       "      <td>2018-10</td>\n",
       "      <td>576.0</td>\n",
       "      <td>27.0</td>\n",
       "      <td>25833.19</td>\n",
       "      <td>26.0</td>\n",
       "    </tr>\n",
       "  </tbody>\n",
       "</table>\n",
       "</div>"
      ],
      "text/plain": [
       "      user_id    month  duration  total_messages   mb_used  gb_used\n",
       "1036     1223  2018-09     649.0            27.0  20408.31     20.0\n",
       "1545     1340  2018-10     441.0            62.0       NaN      NaN\n",
       "2247     1498  2018-06     238.0             NaN  14807.18     15.0\n",
       "1203     1259  2018-09     147.0            34.0   3282.23      4.0\n",
       "186      1046  2018-10     576.0            27.0  25833.19     26.0"
      ]
     },
     "execution_count": 215,
     "metadata": {},
     "output_type": "execute_result"
    }
   ],
   "source": [
    "# Gabungkan data panggilan, menit, SMS, dan internet berdasarkan user_id dan month (bulan)\n",
    "grouped = total_calls.merge(total_messages, how='outer', on=['user_id', 'month'])\n",
    "grouped = grouped.merge(volume_data_month, how='outer', on=['user_id', 'month'])\n",
    "grouped.sample(5)\n"
   ]
  },
  {
   "cell_type": "code",
   "execution_count": 216,
   "metadata": {},
   "outputs": [
    {
     "data": {
      "text/html": [
       "<div>\n",
       "<style scoped>\n",
       "    .dataframe tbody tr th:only-of-type {\n",
       "        vertical-align: middle;\n",
       "    }\n",
       "\n",
       "    .dataframe tbody tr th {\n",
       "        vertical-align: top;\n",
       "    }\n",
       "\n",
       "    .dataframe thead th {\n",
       "        text-align: right;\n",
       "    }\n",
       "</style>\n",
       "<table border=\"1\" class=\"dataframe\">\n",
       "  <thead>\n",
       "    <tr style=\"text-align: right;\">\n",
       "      <th></th>\n",
       "      <th>user_id</th>\n",
       "      <th>age</th>\n",
       "      <th>reg_date</th>\n",
       "      <th>plan</th>\n",
       "      <th>churn_date</th>\n",
       "      <th>month</th>\n",
       "      <th>new_column_city</th>\n",
       "      <th>category_nynj</th>\n",
       "      <th>messages_included</th>\n",
       "      <th>minutes_included</th>\n",
       "      <th>usd_monthly_pay</th>\n",
       "      <th>usd_per_gb</th>\n",
       "      <th>usd_per_message</th>\n",
       "      <th>usd_per_minute</th>\n",
       "      <th>gb_per_month_included</th>\n",
       "    </tr>\n",
       "  </thead>\n",
       "  <tbody>\n",
       "    <tr>\n",
       "      <th>148</th>\n",
       "      <td>1148</td>\n",
       "      <td>67</td>\n",
       "      <td>2018-11-04</td>\n",
       "      <td>surf</td>\n",
       "      <td>2018-01-07</td>\n",
       "      <td>2018-11</td>\n",
       "      <td>SC</td>\n",
       "      <td>0</td>\n",
       "      <td>50</td>\n",
       "      <td>500</td>\n",
       "      <td>20</td>\n",
       "      <td>10</td>\n",
       "      <td>0.03</td>\n",
       "      <td>0.03</td>\n",
       "      <td>15.0</td>\n",
       "    </tr>\n",
       "    <tr>\n",
       "      <th>291</th>\n",
       "      <td>1291</td>\n",
       "      <td>65</td>\n",
       "      <td>2018-01-29</td>\n",
       "      <td>surf</td>\n",
       "      <td>2018-07-31</td>\n",
       "      <td>2018-01</td>\n",
       "      <td>IN</td>\n",
       "      <td>0</td>\n",
       "      <td>50</td>\n",
       "      <td>500</td>\n",
       "      <td>20</td>\n",
       "      <td>10</td>\n",
       "      <td>0.03</td>\n",
       "      <td>0.03</td>\n",
       "      <td>15.0</td>\n",
       "    </tr>\n",
       "    <tr>\n",
       "      <th>430</th>\n",
       "      <td>1430</td>\n",
       "      <td>63</td>\n",
       "      <td>2018-12-07</td>\n",
       "      <td>surf</td>\n",
       "      <td>2018-01-06</td>\n",
       "      <td>2018-12</td>\n",
       "      <td>NY-NJ-PA</td>\n",
       "      <td>1</td>\n",
       "      <td>50</td>\n",
       "      <td>500</td>\n",
       "      <td>20</td>\n",
       "      <td>10</td>\n",
       "      <td>0.03</td>\n",
       "      <td>0.03</td>\n",
       "      <td>15.0</td>\n",
       "    </tr>\n",
       "    <tr>\n",
       "      <th>247</th>\n",
       "      <td>1247</td>\n",
       "      <td>75</td>\n",
       "      <td>2018-04-12</td>\n",
       "      <td>ultimate</td>\n",
       "      <td>2018-07-04</td>\n",
       "      <td>2018-04</td>\n",
       "      <td>CA</td>\n",
       "      <td>0</td>\n",
       "      <td>1000</td>\n",
       "      <td>3000</td>\n",
       "      <td>70</td>\n",
       "      <td>7</td>\n",
       "      <td>0.01</td>\n",
       "      <td>0.01</td>\n",
       "      <td>30.0</td>\n",
       "    </tr>\n",
       "    <tr>\n",
       "      <th>188</th>\n",
       "      <td>1188</td>\n",
       "      <td>31</td>\n",
       "      <td>2018-01-10</td>\n",
       "      <td>ultimate</td>\n",
       "      <td>2018-12-14</td>\n",
       "      <td>2018-01</td>\n",
       "      <td>VA</td>\n",
       "      <td>0</td>\n",
       "      <td>1000</td>\n",
       "      <td>3000</td>\n",
       "      <td>70</td>\n",
       "      <td>7</td>\n",
       "      <td>0.01</td>\n",
       "      <td>0.01</td>\n",
       "      <td>30.0</td>\n",
       "    </tr>\n",
       "  </tbody>\n",
       "</table>\n",
       "</div>"
      ],
      "text/plain": [
       "     user_id  age   reg_date      plan churn_date    month new_column_city  \\\n",
       "148     1148   67 2018-11-04      surf 2018-01-07  2018-11              SC   \n",
       "291     1291   65 2018-01-29      surf 2018-07-31  2018-01              IN   \n",
       "430     1430   63 2018-12-07      surf 2018-01-06  2018-12        NY-NJ-PA   \n",
       "247     1247   75 2018-04-12  ultimate 2018-07-04  2018-04              CA   \n",
       "188     1188   31 2018-01-10  ultimate 2018-12-14  2018-01              VA   \n",
       "\n",
       "     category_nynj  messages_included  minutes_included  usd_monthly_pay  \\\n",
       "148              0                 50               500               20   \n",
       "291              0                 50               500               20   \n",
       "430              1                 50               500               20   \n",
       "247              0               1000              3000               70   \n",
       "188              0               1000              3000               70   \n",
       "\n",
       "     usd_per_gb  usd_per_message  usd_per_minute  gb_per_month_included  \n",
       "148          10             0.03            0.03                   15.0  \n",
       "291          10             0.03            0.03                   15.0  \n",
       "430          10             0.03            0.03                   15.0  \n",
       "247           7             0.01            0.01                   30.0  \n",
       "188           7             0.01            0.01                   30.0  "
      ]
     },
     "execution_count": 216,
     "metadata": {},
     "output_type": "execute_result"
    }
   ],
   "source": [
    "# Menggabungkan users dengan plans\n",
    "plans_users = df_users.merge(df_plans, how='left', left_on='plan', right_on='plan_name').drop('plan_name', axis=1)\n",
    "plans_users.sample(5)"
   ]
  },
  {
   "cell_type": "code",
   "execution_count": 217,
   "metadata": {},
   "outputs": [
    {
     "data": {
      "text/html": [
       "<div>\n",
       "<style scoped>\n",
       "    .dataframe tbody tr th:only-of-type {\n",
       "        vertical-align: middle;\n",
       "    }\n",
       "\n",
       "    .dataframe tbody tr th {\n",
       "        vertical-align: top;\n",
       "    }\n",
       "\n",
       "    .dataframe thead th {\n",
       "        text-align: right;\n",
       "    }\n",
       "</style>\n",
       "<table border=\"1\" class=\"dataframe\">\n",
       "  <thead>\n",
       "    <tr style=\"text-align: right;\">\n",
       "      <th></th>\n",
       "      <th>user_id</th>\n",
       "      <th>age</th>\n",
       "      <th>plan</th>\n",
       "      <th>month</th>\n",
       "      <th>new_column_city</th>\n",
       "      <th>category_nynj</th>\n",
       "      <th>messages_included</th>\n",
       "      <th>minutes_included</th>\n",
       "      <th>usd_monthly_pay</th>\n",
       "      <th>usd_per_gb</th>\n",
       "      <th>usd_per_message</th>\n",
       "      <th>usd_per_minute</th>\n",
       "      <th>gb_per_month_included</th>\n",
       "    </tr>\n",
       "  </thead>\n",
       "  <tbody>\n",
       "    <tr>\n",
       "      <th>498</th>\n",
       "      <td>1498</td>\n",
       "      <td>51</td>\n",
       "      <td>surf</td>\n",
       "      <td>2018-02</td>\n",
       "      <td>NY-NJ-PA</td>\n",
       "      <td>1</td>\n",
       "      <td>50</td>\n",
       "      <td>500</td>\n",
       "      <td>20</td>\n",
       "      <td>10</td>\n",
       "      <td>0.03</td>\n",
       "      <td>0.03</td>\n",
       "      <td>15.0</td>\n",
       "    </tr>\n",
       "    <tr>\n",
       "      <th>78</th>\n",
       "      <td>1078</td>\n",
       "      <td>47</td>\n",
       "      <td>surf</td>\n",
       "      <td>2018-02</td>\n",
       "      <td>WA</td>\n",
       "      <td>0</td>\n",
       "      <td>50</td>\n",
       "      <td>500</td>\n",
       "      <td>20</td>\n",
       "      <td>10</td>\n",
       "      <td>0.03</td>\n",
       "      <td>0.03</td>\n",
       "      <td>15.0</td>\n",
       "    </tr>\n",
       "    <tr>\n",
       "      <th>236</th>\n",
       "      <td>1236</td>\n",
       "      <td>74</td>\n",
       "      <td>ultimate</td>\n",
       "      <td>2018-04</td>\n",
       "      <td>MN-WI</td>\n",
       "      <td>0</td>\n",
       "      <td>1000</td>\n",
       "      <td>3000</td>\n",
       "      <td>70</td>\n",
       "      <td>7</td>\n",
       "      <td>0.01</td>\n",
       "      <td>0.01</td>\n",
       "      <td>30.0</td>\n",
       "    </tr>\n",
       "    <tr>\n",
       "      <th>201</th>\n",
       "      <td>1201</td>\n",
       "      <td>61</td>\n",
       "      <td>surf</td>\n",
       "      <td>2018-06</td>\n",
       "      <td>CT</td>\n",
       "      <td>0</td>\n",
       "      <td>50</td>\n",
       "      <td>500</td>\n",
       "      <td>20</td>\n",
       "      <td>10</td>\n",
       "      <td>0.03</td>\n",
       "      <td>0.03</td>\n",
       "      <td>15.0</td>\n",
       "    </tr>\n",
       "    <tr>\n",
       "      <th>86</th>\n",
       "      <td>1086</td>\n",
       "      <td>36</td>\n",
       "      <td>ultimate</td>\n",
       "      <td>2018-01</td>\n",
       "      <td>NY-NJ-PA</td>\n",
       "      <td>1</td>\n",
       "      <td>1000</td>\n",
       "      <td>3000</td>\n",
       "      <td>70</td>\n",
       "      <td>7</td>\n",
       "      <td>0.01</td>\n",
       "      <td>0.01</td>\n",
       "      <td>30.0</td>\n",
       "    </tr>\n",
       "  </tbody>\n",
       "</table>\n",
       "</div>"
      ],
      "text/plain": [
       "     user_id  age      plan    month new_column_city  category_nynj  \\\n",
       "498     1498   51      surf  2018-02        NY-NJ-PA              1   \n",
       "78      1078   47      surf  2018-02              WA              0   \n",
       "236     1236   74  ultimate  2018-04           MN-WI              0   \n",
       "201     1201   61      surf  2018-06              CT              0   \n",
       "86      1086   36  ultimate  2018-01        NY-NJ-PA              1   \n",
       "\n",
       "     messages_included  minutes_included  usd_monthly_pay  usd_per_gb  \\\n",
       "498                 50               500               20          10   \n",
       "78                  50               500               20          10   \n",
       "236               1000              3000               70           7   \n",
       "201                 50               500               20          10   \n",
       "86                1000              3000               70           7   \n",
       "\n",
       "     usd_per_message  usd_per_minute  gb_per_month_included  \n",
       "498             0.03            0.03                   15.0  \n",
       "78              0.03            0.03                   15.0  \n",
       "236             0.01            0.01                   30.0  \n",
       "201             0.03            0.03                   15.0  \n",
       "86              0.01            0.01                   30.0  "
      ]
     },
     "execution_count": 217,
     "metadata": {},
     "output_type": "execute_result"
    }
   ],
   "source": [
    "# Hilangkan kolom yang dtidak diperlukan\n",
    "plans_users.drop(['reg_date', 'churn_date'], axis=1, inplace=True)\n",
    "plans_users.sample(5)"
   ]
  },
  {
   "cell_type": "code",
   "execution_count": 218,
   "metadata": {},
   "outputs": [
    {
     "data": {
      "text/html": [
       "<div>\n",
       "<style scoped>\n",
       "    .dataframe tbody tr th:only-of-type {\n",
       "        vertical-align: middle;\n",
       "    }\n",
       "\n",
       "    .dataframe tbody tr th {\n",
       "        vertical-align: top;\n",
       "    }\n",
       "\n",
       "    .dataframe thead th {\n",
       "        text-align: right;\n",
       "    }\n",
       "</style>\n",
       "<table border=\"1\" class=\"dataframe\">\n",
       "  <thead>\n",
       "    <tr style=\"text-align: right;\">\n",
       "      <th></th>\n",
       "      <th>user_id</th>\n",
       "      <th>month</th>\n",
       "      <th>duration</th>\n",
       "      <th>total_messages</th>\n",
       "      <th>mb_used</th>\n",
       "      <th>gb_used</th>\n",
       "      <th>age</th>\n",
       "      <th>plan</th>\n",
       "      <th>new_column_city</th>\n",
       "      <th>category_nynj</th>\n",
       "      <th>messages_included</th>\n",
       "      <th>minutes_included</th>\n",
       "      <th>usd_monthly_pay</th>\n",
       "      <th>usd_per_gb</th>\n",
       "      <th>usd_per_message</th>\n",
       "      <th>usd_per_minute</th>\n",
       "      <th>gb_per_month_included</th>\n",
       "    </tr>\n",
       "  </thead>\n",
       "  <tbody>\n",
       "    <tr>\n",
       "      <th>1302</th>\n",
       "      <td>1284</td>\n",
       "      <td>2018-12</td>\n",
       "      <td>965.0</td>\n",
       "      <td>NaN</td>\n",
       "      <td>21317.66</td>\n",
       "      <td>21.0</td>\n",
       "      <td>NaN</td>\n",
       "      <td>NaN</td>\n",
       "      <td>NaN</td>\n",
       "      <td>NaN</td>\n",
       "      <td>NaN</td>\n",
       "      <td>NaN</td>\n",
       "      <td>NaN</td>\n",
       "      <td>NaN</td>\n",
       "      <td>NaN</td>\n",
       "      <td>NaN</td>\n",
       "      <td>NaN</td>\n",
       "    </tr>\n",
       "    <tr>\n",
       "      <th>1484</th>\n",
       "      <td>1329</td>\n",
       "      <td>2018-09</td>\n",
       "      <td>1219.0</td>\n",
       "      <td>91.0</td>\n",
       "      <td>26519.82</td>\n",
       "      <td>26.0</td>\n",
       "      <td>NaN</td>\n",
       "      <td>NaN</td>\n",
       "      <td>NaN</td>\n",
       "      <td>NaN</td>\n",
       "      <td>NaN</td>\n",
       "      <td>NaN</td>\n",
       "      <td>NaN</td>\n",
       "      <td>NaN</td>\n",
       "      <td>NaN</td>\n",
       "      <td>NaN</td>\n",
       "      <td>NaN</td>\n",
       "    </tr>\n",
       "    <tr>\n",
       "      <th>1390</th>\n",
       "      <td>1311</td>\n",
       "      <td>2018-07</td>\n",
       "      <td>299.0</td>\n",
       "      <td>NaN</td>\n",
       "      <td>24800.73</td>\n",
       "      <td>25.0</td>\n",
       "      <td>NaN</td>\n",
       "      <td>NaN</td>\n",
       "      <td>NaN</td>\n",
       "      <td>NaN</td>\n",
       "      <td>NaN</td>\n",
       "      <td>NaN</td>\n",
       "      <td>NaN</td>\n",
       "      <td>NaN</td>\n",
       "      <td>NaN</td>\n",
       "      <td>NaN</td>\n",
       "      <td>NaN</td>\n",
       "    </tr>\n",
       "    <tr>\n",
       "      <th>850</th>\n",
       "      <td>1182</td>\n",
       "      <td>2018-06</td>\n",
       "      <td>301.0</td>\n",
       "      <td>4.0</td>\n",
       "      <td>18311.61</td>\n",
       "      <td>18.0</td>\n",
       "      <td>NaN</td>\n",
       "      <td>NaN</td>\n",
       "      <td>NaN</td>\n",
       "      <td>NaN</td>\n",
       "      <td>NaN</td>\n",
       "      <td>NaN</td>\n",
       "      <td>NaN</td>\n",
       "      <td>NaN</td>\n",
       "      <td>NaN</td>\n",
       "      <td>NaN</td>\n",
       "      <td>NaN</td>\n",
       "    </tr>\n",
       "    <tr>\n",
       "      <th>790</th>\n",
       "      <td>1170</td>\n",
       "      <td>2018-09</td>\n",
       "      <td>90.0</td>\n",
       "      <td>3.0</td>\n",
       "      <td>7189.24</td>\n",
       "      <td>8.0</td>\n",
       "      <td>18.0</td>\n",
       "      <td>surf</td>\n",
       "      <td>PA</td>\n",
       "      <td>0.0</td>\n",
       "      <td>50.0</td>\n",
       "      <td>500.0</td>\n",
       "      <td>20.0</td>\n",
       "      <td>10.0</td>\n",
       "      <td>0.03</td>\n",
       "      <td>0.03</td>\n",
       "      <td>15.0</td>\n",
       "    </tr>\n",
       "  </tbody>\n",
       "</table>\n",
       "</div>"
      ],
      "text/plain": [
       "      user_id    month  duration  total_messages   mb_used  gb_used   age  \\\n",
       "1302     1284  2018-12     965.0             NaN  21317.66     21.0   NaN   \n",
       "1484     1329  2018-09    1219.0            91.0  26519.82     26.0   NaN   \n",
       "1390     1311  2018-07     299.0             NaN  24800.73     25.0   NaN   \n",
       "850      1182  2018-06     301.0             4.0  18311.61     18.0   NaN   \n",
       "790      1170  2018-09      90.0             3.0   7189.24      8.0  18.0   \n",
       "\n",
       "      plan new_column_city  category_nynj  messages_included  \\\n",
       "1302   NaN             NaN            NaN                NaN   \n",
       "1484   NaN             NaN            NaN                NaN   \n",
       "1390   NaN             NaN            NaN                NaN   \n",
       "850    NaN             NaN            NaN                NaN   \n",
       "790   surf              PA            0.0               50.0   \n",
       "\n",
       "      minutes_included  usd_monthly_pay  usd_per_gb  usd_per_message  \\\n",
       "1302               NaN              NaN         NaN              NaN   \n",
       "1484               NaN              NaN         NaN              NaN   \n",
       "1390               NaN              NaN         NaN              NaN   \n",
       "850                NaN              NaN         NaN              NaN   \n",
       "790              500.0             20.0        10.0             0.03   \n",
       "\n",
       "      usd_per_minute  gb_per_month_included  \n",
       "1302             NaN                    NaN  \n",
       "1484             NaN                    NaN  \n",
       "1390             NaN                    NaN  \n",
       "850              NaN                    NaN  \n",
       "790             0.03                   15.0  "
      ]
     },
     "execution_count": 218,
     "metadata": {},
     "output_type": "execute_result"
    }
   ],
   "source": [
    "# Menggabungkan semua data\n",
    "df_new = grouped.merge(plans_users, how='outer', on=['user_id', 'month'])\n",
    "df_new.sample(5)"
   ]
  },
  {
   "cell_type": "code",
   "execution_count": 219,
   "metadata": {},
   "outputs": [
    {
     "data": {
      "text/html": [
       "<div>\n",
       "<style scoped>\n",
       "    .dataframe tbody tr th:only-of-type {\n",
       "        vertical-align: middle;\n",
       "    }\n",
       "\n",
       "    .dataframe tbody tr th {\n",
       "        vertical-align: top;\n",
       "    }\n",
       "\n",
       "    .dataframe thead th {\n",
       "        text-align: right;\n",
       "    }\n",
       "</style>\n",
       "<table border=\"1\" class=\"dataframe\">\n",
       "  <thead>\n",
       "    <tr style=\"text-align: right;\">\n",
       "      <th></th>\n",
       "      <th>missing_values</th>\n",
       "      <th>% of total</th>\n",
       "    </tr>\n",
       "  </thead>\n",
       "  <tbody>\n",
       "    <tr>\n",
       "      <th>new_column_city</th>\n",
       "      <td>2046</td>\n",
       "      <td>0.80</td>\n",
       "    </tr>\n",
       "    <tr>\n",
       "      <th>category_nynj</th>\n",
       "      <td>2046</td>\n",
       "      <td>0.80</td>\n",
       "    </tr>\n",
       "    <tr>\n",
       "      <th>usd_per_minute</th>\n",
       "      <td>2046</td>\n",
       "      <td>0.80</td>\n",
       "    </tr>\n",
       "    <tr>\n",
       "      <th>usd_per_message</th>\n",
       "      <td>2046</td>\n",
       "      <td>0.80</td>\n",
       "    </tr>\n",
       "    <tr>\n",
       "      <th>usd_per_gb</th>\n",
       "      <td>2046</td>\n",
       "      <td>0.80</td>\n",
       "    </tr>\n",
       "    <tr>\n",
       "      <th>usd_monthly_pay</th>\n",
       "      <td>2046</td>\n",
       "      <td>0.80</td>\n",
       "    </tr>\n",
       "    <tr>\n",
       "      <th>minutes_included</th>\n",
       "      <td>2046</td>\n",
       "      <td>0.80</td>\n",
       "    </tr>\n",
       "    <tr>\n",
       "      <th>messages_included</th>\n",
       "      <td>2046</td>\n",
       "      <td>0.80</td>\n",
       "    </tr>\n",
       "    <tr>\n",
       "      <th>gb_per_month_included</th>\n",
       "      <td>2046</td>\n",
       "      <td>0.80</td>\n",
       "    </tr>\n",
       "    <tr>\n",
       "      <th>plan</th>\n",
       "      <td>2046</td>\n",
       "      <td>0.80</td>\n",
       "    </tr>\n",
       "    <tr>\n",
       "      <th>age</th>\n",
       "      <td>2046</td>\n",
       "      <td>0.80</td>\n",
       "    </tr>\n",
       "    <tr>\n",
       "      <th>total_messages</th>\n",
       "      <td>740</td>\n",
       "      <td>0.29</td>\n",
       "    </tr>\n",
       "    <tr>\n",
       "      <th>duration</th>\n",
       "      <td>288</td>\n",
       "      <td>0.11</td>\n",
       "    </tr>\n",
       "    <tr>\n",
       "      <th>gb_used</th>\n",
       "      <td>269</td>\n",
       "      <td>0.11</td>\n",
       "    </tr>\n",
       "    <tr>\n",
       "      <th>mb_used</th>\n",
       "      <td>269</td>\n",
       "      <td>0.11</td>\n",
       "    </tr>\n",
       "    <tr>\n",
       "      <th>month</th>\n",
       "      <td>0</td>\n",
       "      <td>0.00</td>\n",
       "    </tr>\n",
       "    <tr>\n",
       "      <th>user_id</th>\n",
       "      <td>0</td>\n",
       "      <td>0.00</td>\n",
       "    </tr>\n",
       "  </tbody>\n",
       "</table>\n",
       "</div>"
      ],
      "text/plain": [
       "                       missing_values  % of total\n",
       "new_column_city                  2046        0.80\n",
       "category_nynj                    2046        0.80\n",
       "usd_per_minute                   2046        0.80\n",
       "usd_per_message                  2046        0.80\n",
       "usd_per_gb                       2046        0.80\n",
       "usd_monthly_pay                  2046        0.80\n",
       "minutes_included                 2046        0.80\n",
       "messages_included                2046        0.80\n",
       "gb_per_month_included            2046        0.80\n",
       "plan                             2046        0.80\n",
       "age                              2046        0.80\n",
       "total_messages                    740        0.29\n",
       "duration                          288        0.11\n",
       "gb_used                           269        0.11\n",
       "mb_used                           269        0.11\n",
       "month                               0        0.00\n",
       "user_id                             0        0.00"
      ]
     },
     "execution_count": 219,
     "metadata": {},
     "output_type": "execute_result"
    }
   ],
   "source": [
    "report = df_new.isna().sum().to_frame()\n",
    "report = report.rename(columns = {0: 'missing_values'})\n",
    "report['% of total'] = (report['missing_values'] / df_new.shape[0]).round(2)\n",
    "report.sort_values(by = 'missing_values', ascending = False)"
   ]
  },
  {
   "cell_type": "code",
   "execution_count": 220,
   "metadata": {},
   "outputs": [
    {
     "name": "stdout",
     "output_type": "stream",
     "text": [
      "<class 'pandas.core.frame.DataFrame'>\n",
      "Int64Index: 2546 entries, 0 to 2545\n",
      "Data columns (total 17 columns):\n",
      " #   Column                 Non-Null Count  Dtype    \n",
      "---  ------                 --------------  -----    \n",
      " 0   user_id                2546 non-null   int64    \n",
      " 1   month                  2546 non-null   period[M]\n",
      " 2   duration               2258 non-null   float64  \n",
      " 3   total_messages         1806 non-null   float64  \n",
      " 4   mb_used                2277 non-null   float64  \n",
      " 5   gb_used                2277 non-null   float64  \n",
      " 6   age                    500 non-null    float64  \n",
      " 7   plan                   500 non-null    object   \n",
      " 8   new_column_city        500 non-null    object   \n",
      " 9   category_nynj          500 non-null    float64  \n",
      " 10  messages_included      500 non-null    float64  \n",
      " 11  minutes_included       500 non-null    float64  \n",
      " 12  usd_monthly_pay        500 non-null    float64  \n",
      " 13  usd_per_gb             500 non-null    float64  \n",
      " 14  usd_per_message        500 non-null    float64  \n",
      " 15  usd_per_minute         500 non-null    float64  \n",
      " 16  gb_per_month_included  500 non-null    float64  \n",
      "dtypes: float64(13), int64(1), object(2), period[M](1)\n",
      "memory usage: 358.0+ KB\n"
     ]
    }
   ],
   "source": [
    "df_new.info()"
   ]
  },
  {
   "cell_type": "code",
   "execution_count": 221,
   "metadata": {},
   "outputs": [],
   "source": [
    "# Isi missing value di kolom numerikal dengan 0\n",
    "df_new[['duration', 'gb_used', 'total_messages']] = df_new[['duration', 'gb_used', 'total_messages']].fillna(0)\n"
   ]
  },
  {
   "cell_type": "code",
   "execution_count": 222,
   "metadata": {},
   "outputs": [
    {
     "data": {
      "text/html": [
       "<div>\n",
       "<style scoped>\n",
       "    .dataframe tbody tr th:only-of-type {\n",
       "        vertical-align: middle;\n",
       "    }\n",
       "\n",
       "    .dataframe tbody tr th {\n",
       "        vertical-align: top;\n",
       "    }\n",
       "\n",
       "    .dataframe thead th {\n",
       "        text-align: right;\n",
       "    }\n",
       "</style>\n",
       "<table border=\"1\" class=\"dataframe\">\n",
       "  <thead>\n",
       "    <tr style=\"text-align: right;\">\n",
       "      <th></th>\n",
       "      <th>user_id</th>\n",
       "      <th>month</th>\n",
       "      <th>duration</th>\n",
       "      <th>total_messages</th>\n",
       "      <th>mb_used</th>\n",
       "      <th>gb_used</th>\n",
       "      <th>age</th>\n",
       "      <th>plan</th>\n",
       "      <th>new_column_city</th>\n",
       "      <th>category_nynj</th>\n",
       "      <th>...</th>\n",
       "      <th>minutes_included</th>\n",
       "      <th>usd_monthly_pay</th>\n",
       "      <th>usd_per_gb</th>\n",
       "      <th>usd_per_message</th>\n",
       "      <th>usd_per_minute</th>\n",
       "      <th>gb_per_month_included</th>\n",
       "      <th>minutes_excess</th>\n",
       "      <th>messages_excess</th>\n",
       "      <th>data_excess</th>\n",
       "      <th>monthly_revenue</th>\n",
       "    </tr>\n",
       "  </thead>\n",
       "  <tbody>\n",
       "    <tr>\n",
       "      <th>1149</th>\n",
       "      <td>1251</td>\n",
       "      <td>2018-05</td>\n",
       "      <td>567.0</td>\n",
       "      <td>39.0</td>\n",
       "      <td>21218.65</td>\n",
       "      <td>21.0</td>\n",
       "      <td>NaN</td>\n",
       "      <td>NaN</td>\n",
       "      <td>NaN</td>\n",
       "      <td>NaN</td>\n",
       "      <td>...</td>\n",
       "      <td>NaN</td>\n",
       "      <td>NaN</td>\n",
       "      <td>NaN</td>\n",
       "      <td>NaN</td>\n",
       "      <td>NaN</td>\n",
       "      <td>NaN</td>\n",
       "      <td>NaN</td>\n",
       "      <td>NaN</td>\n",
       "      <td>NaN</td>\n",
       "      <td>NaN</td>\n",
       "    </tr>\n",
       "    <tr>\n",
       "      <th>1332</th>\n",
       "      <td>1292</td>\n",
       "      <td>2018-12</td>\n",
       "      <td>144.0</td>\n",
       "      <td>0.0</td>\n",
       "      <td>52034.66</td>\n",
       "      <td>51.0</td>\n",
       "      <td>NaN</td>\n",
       "      <td>NaN</td>\n",
       "      <td>NaN</td>\n",
       "      <td>NaN</td>\n",
       "      <td>...</td>\n",
       "      <td>NaN</td>\n",
       "      <td>NaN</td>\n",
       "      <td>NaN</td>\n",
       "      <td>NaN</td>\n",
       "      <td>NaN</td>\n",
       "      <td>NaN</td>\n",
       "      <td>NaN</td>\n",
       "      <td>NaN</td>\n",
       "      <td>NaN</td>\n",
       "      <td>NaN</td>\n",
       "    </tr>\n",
       "    <tr>\n",
       "      <th>2168</th>\n",
       "      <td>1478</td>\n",
       "      <td>2018-09</td>\n",
       "      <td>445.0</td>\n",
       "      <td>17.0</td>\n",
       "      <td>19428.57</td>\n",
       "      <td>19.0</td>\n",
       "      <td>NaN</td>\n",
       "      <td>NaN</td>\n",
       "      <td>NaN</td>\n",
       "      <td>NaN</td>\n",
       "      <td>...</td>\n",
       "      <td>NaN</td>\n",
       "      <td>NaN</td>\n",
       "      <td>NaN</td>\n",
       "      <td>NaN</td>\n",
       "      <td>NaN</td>\n",
       "      <td>NaN</td>\n",
       "      <td>NaN</td>\n",
       "      <td>NaN</td>\n",
       "      <td>NaN</td>\n",
       "      <td>NaN</td>\n",
       "    </tr>\n",
       "    <tr>\n",
       "      <th>69</th>\n",
       "      <td>1018</td>\n",
       "      <td>2018-12</td>\n",
       "      <td>476.0</td>\n",
       "      <td>8.0</td>\n",
       "      <td>17390.55</td>\n",
       "      <td>17.0</td>\n",
       "      <td>NaN</td>\n",
       "      <td>NaN</td>\n",
       "      <td>NaN</td>\n",
       "      <td>NaN</td>\n",
       "      <td>...</td>\n",
       "      <td>NaN</td>\n",
       "      <td>NaN</td>\n",
       "      <td>NaN</td>\n",
       "      <td>NaN</td>\n",
       "      <td>NaN</td>\n",
       "      <td>NaN</td>\n",
       "      <td>NaN</td>\n",
       "      <td>NaN</td>\n",
       "      <td>NaN</td>\n",
       "      <td>NaN</td>\n",
       "    </tr>\n",
       "    <tr>\n",
       "      <th>1853</th>\n",
       "      <td>1404</td>\n",
       "      <td>2018-10</td>\n",
       "      <td>668.0</td>\n",
       "      <td>16.0</td>\n",
       "      <td>23884.22</td>\n",
       "      <td>24.0</td>\n",
       "      <td>NaN</td>\n",
       "      <td>NaN</td>\n",
       "      <td>NaN</td>\n",
       "      <td>NaN</td>\n",
       "      <td>...</td>\n",
       "      <td>NaN</td>\n",
       "      <td>NaN</td>\n",
       "      <td>NaN</td>\n",
       "      <td>NaN</td>\n",
       "      <td>NaN</td>\n",
       "      <td>NaN</td>\n",
       "      <td>NaN</td>\n",
       "      <td>NaN</td>\n",
       "      <td>NaN</td>\n",
       "      <td>NaN</td>\n",
       "    </tr>\n",
       "  </tbody>\n",
       "</table>\n",
       "<p>5 rows × 21 columns</p>\n",
       "</div>"
      ],
      "text/plain": [
       "      user_id    month  duration  total_messages   mb_used  gb_used  age plan  \\\n",
       "1149     1251  2018-05     567.0            39.0  21218.65     21.0  NaN  NaN   \n",
       "1332     1292  2018-12     144.0             0.0  52034.66     51.0  NaN  NaN   \n",
       "2168     1478  2018-09     445.0            17.0  19428.57     19.0  NaN  NaN   \n",
       "69       1018  2018-12     476.0             8.0  17390.55     17.0  NaN  NaN   \n",
       "1853     1404  2018-10     668.0            16.0  23884.22     24.0  NaN  NaN   \n",
       "\n",
       "     new_column_city  category_nynj  ...  minutes_included  usd_monthly_pay  \\\n",
       "1149             NaN            NaN  ...               NaN              NaN   \n",
       "1332             NaN            NaN  ...               NaN              NaN   \n",
       "2168             NaN            NaN  ...               NaN              NaN   \n",
       "69               NaN            NaN  ...               NaN              NaN   \n",
       "1853             NaN            NaN  ...               NaN              NaN   \n",
       "\n",
       "      usd_per_gb  usd_per_message  usd_per_minute  gb_per_month_included  \\\n",
       "1149         NaN              NaN             NaN                    NaN   \n",
       "1332         NaN              NaN             NaN                    NaN   \n",
       "2168         NaN              NaN             NaN                    NaN   \n",
       "69           NaN              NaN             NaN                    NaN   \n",
       "1853         NaN              NaN             NaN                    NaN   \n",
       "\n",
       "      minutes_excess  messages_excess  data_excess  monthly_revenue  \n",
       "1149             NaN              NaN          NaN              NaN  \n",
       "1332             NaN              NaN          NaN              NaN  \n",
       "2168             NaN              NaN          NaN              NaN  \n",
       "69               NaN              NaN          NaN              NaN  \n",
       "1853             NaN              NaN          NaN              NaN  \n",
       "\n",
       "[5 rows x 21 columns]"
      ]
     },
     "execution_count": 222,
     "metadata": {},
     "output_type": "execute_result"
    }
   ],
   "source": [
    "\n",
    "# Menghitung penggunaan yang melebihi batas paket gratis untuk panggilan, pesan teks, dan data\n",
    "df_new['minutes_excess'] = (df_new['duration'] - df_new['minutes_included'])* df_new['usd_per_minute']\n",
    "df_new['messages_excess'] = (df_new['total_messages'] - df_new['messages_included'])* df_new['usd_per_message']\n",
    "df_new['data_excess'] = ((df_new['gb_used']) - df_new['gb_per_month_included'])* df_new['usd_per_gb']\n",
    "\n",
    "# Harga minus artinya adalah tidak berlebihan dan harus diganti 0\n",
    "df_new.loc[df_new['minutes_excess'] < 0, 'minutes_excess'] = 0\n",
    "df_new.loc[df_new['messages_excess'] < 0, 'messages_excess'] = 0\n",
    "df_new.loc[df_new['data_excess'] < 0, 'data_excess'] = 0\n",
    "\n",
    "# Menjumlahkan biaya dari data di atas dengan biaya bulanan yang sesuai dengan jenis paket panggilan\n",
    "df_new['monthly_revenue'] = df_new['usd_monthly_pay'] + df_new['minutes_excess'] + df_new['messages_excess'] + df_new['data_excess']\n",
    "df_new.sample(5)\n"
   ]
  },
  {
   "cell_type": "markdown",
   "metadata": {},
   "source": [
    "<span style = 'color:green'>\n",
    "Dari data internet berdasarkan deskripsi statistik ditemukan:\n",
    "    \n",
    "1. Rata-rata menit panggilan yang melebihi kuota adalah sekitar 1.26 menit.\n",
    "2. Rata-rata pesan teks yang melebihi kuota adalah sekitar 0.14 pesan, kondisi ini memungkinkan pengguna tidak menggunakan layanan teks.\n",
    "3. Rata-rata data yang melebihi pemakaian data adalah sekitar 27,895.85 MB (atau sekitar 27.23 GB).\n",
    "4. Rata-rata pendapatan bulanan yang diperoleh dari pengguna adalah sekitar $27,932.96.\n",
    "   \n",
    "</span>"
   ]
  },
  {
   "cell_type": "markdown",
   "metadata": {},
   "source": [
    "## Mempelajari Perilaku Pengguna"
   ]
  },
  {
   "cell_type": "markdown",
   "metadata": {},
   "source": [
    "### Panggilan"
   ]
  },
  {
   "cell_type": "code",
   "execution_count": 223,
   "metadata": {
    "scrolled": true
   },
   "outputs": [
    {
     "data": {
      "image/png": "[encoded data removed]",
      "text/plain": [
       "<Figure size 864x360 with 1 Axes>"
      ]
     },
     "metadata": {
      "needs_background": "light"
     },
     "output_type": "display_data"
    }
   ],
   "source": [
    "# Bandingkan durasi rata-rata panggilan setiap paket per bulannya. Buatlah sebuah diagram batang untuk memvisualisasikannya.\n",
    "avg_call_per_plan = pd.pivot_table(df_new, columns='plan', values='duration', index='month', aggfunc='mean').reset_index()\n",
    "avg_call_per_plan['month'] = avg_call_per_plan['month'].astype(str)\n",
    "\n",
    "plt.figure(figsize=(12, 5))\n",
    "plt.title('Durasi Rata-rata Panggilan Setiap Paket per Bulan')\n",
    "sns.lineplot(data=avg_call_per_plan, x=\"month\", y=\"surf\", color='green')\n",
    "sns.lineplot(data=avg_call_per_plan, x=\"month\", y=\"ultimate\", color='blue')\n",
    "plt.show()\n",
    "\n"
   ]
  },
  {
   "cell_type": "markdown",
   "metadata": {},
   "source": [
    "<span style = 'color:green'>\n",
    "\n",
    "Pada grafik durasi rata-rata panggilan pada kedua paket cukup beragam dan nilainya berdekatan.\n",
    "   \n",
    "</span>"
   ]
  },
  {
   "cell_type": "code",
   "execution_count": 224,
   "metadata": {
    "scrolled": true
   },
   "outputs": [
    {
     "data": {
      "image/png": "[encoded data removed]",
      "text/plain": [
       "<Figure size 864x360 with 1 Axes>"
      ]
     },
     "metadata": {
      "needs_background": "light"
     },
     "output_type": "display_data"
    }
   ],
   "source": [
    "# Bandingkan jumlah menit yang dibutuhkan pengguna tiap paket per bulannya. Buatlah sebuah histogram.\n",
    "minutes_per_plan = pd.pivot_table(df_new, columns='plan', values='duration', index='month', aggfunc='sum').reset_index()\n",
    "minutes_per_plan['month'] = minutes_per_plan['month'].astype(str)\n",
    "\n",
    "plt.figure(figsize=(12, 5))\n",
    "plt.title('Jumlah Menit Setiap Paket per Bulan')\n",
    "sns.lineplot(data=minutes_per_plan, x=\"month\", y=\"surf\", color='green')\n",
    "sns.lineplot(data=minutes_per_plan, x=\"month\", y=\"ultimate\", color='blue')\n",
    "plt.show()"
   ]
  },
  {
   "cell_type": "markdown",
   "metadata": {},
   "source": [
    "<span style = 'color:green'>\n",
    "\n",
    "Dari grafik, pengguna paket Surf lebih banyak dibandingkan dengan Ultimate.\n",
    "   \n",
    "</span>"
   ]
  },
  {
   "cell_type": "code",
   "execution_count": 225,
   "metadata": {},
   "outputs": [
    {
     "data": {
      "text/html": [
       "<div>\n",
       "<style scoped>\n",
       "    .dataframe tbody tr th:only-of-type {\n",
       "        vertical-align: middle;\n",
       "    }\n",
       "\n",
       "    .dataframe tbody tr th {\n",
       "        vertical-align: top;\n",
       "    }\n",
       "\n",
       "    .dataframe thead th {\n",
       "        text-align: right;\n",
       "    }\n",
       "</style>\n",
       "<table border=\"1\" class=\"dataframe\">\n",
       "  <thead>\n",
       "    <tr style=\"text-align: right;\">\n",
       "      <th>plan</th>\n",
       "      <th>user_id</th>\n",
       "      <th>surf</th>\n",
       "    </tr>\n",
       "  </thead>\n",
       "  <tbody>\n",
       "    <tr>\n",
       "      <th>1</th>\n",
       "      <td>1001</td>\n",
       "      <td>182.0</td>\n",
       "    </tr>\n",
       "    <tr>\n",
       "      <th>2</th>\n",
       "      <td>1002</td>\n",
       "      <td>59.0</td>\n",
       "    </tr>\n",
       "    <tr>\n",
       "      <th>3</th>\n",
       "      <td>1003</td>\n",
       "      <td>0.0</td>\n",
       "    </tr>\n",
       "    <tr>\n",
       "      <th>4</th>\n",
       "      <td>1004</td>\n",
       "      <td>193.0</td>\n",
       "    </tr>\n",
       "    <tr>\n",
       "      <th>5</th>\n",
       "      <td>1005</td>\n",
       "      <td>0.0</td>\n",
       "    </tr>\n",
       "  </tbody>\n",
       "</table>\n",
       "</div>"
      ],
      "text/plain": [
       "plan  user_id   surf\n",
       "1        1001  182.0\n",
       "2        1002   59.0\n",
       "3        1003    0.0\n",
       "4        1004  193.0\n",
       "5        1005    0.0"
      ]
     },
     "execution_count": 225,
     "metadata": {},
     "output_type": "execute_result"
    }
   ],
   "source": [
    "# Hitung rata-rata dan varians dari durasi panggilan bulanan\n",
    "avg_call_per_plan = pd.pivot_table(df_new, columns='plan', values='duration', index='user_id', aggfunc='mean').reset_index()\n",
    "\n",
    "# Dapatkan user yang surf\n",
    "avg_surf = avg_call_per_plan.loc[:, ['user_id', 'surf']].dropna()\n",
    "avg_surf.head()\n"
   ]
  },
  {
   "cell_type": "code",
   "execution_count": 226,
   "metadata": {},
   "outputs": [
    {
     "data": {
      "text/html": [
       "<div>\n",
       "<style scoped>\n",
       "    .dataframe tbody tr th:only-of-type {\n",
       "        vertical-align: middle;\n",
       "    }\n",
       "\n",
       "    .dataframe tbody tr th {\n",
       "        vertical-align: top;\n",
       "    }\n",
       "\n",
       "    .dataframe thead th {\n",
       "        text-align: right;\n",
       "    }\n",
       "</style>\n",
       "<table border=\"1\" class=\"dataframe\">\n",
       "  <thead>\n",
       "    <tr style=\"text-align: right;\">\n",
       "      <th>plan</th>\n",
       "      <th>user_id</th>\n",
       "      <th>ultimate</th>\n",
       "    </tr>\n",
       "  </thead>\n",
       "  <tbody>\n",
       "    <tr>\n",
       "      <th>0</th>\n",
       "      <td>1000</td>\n",
       "      <td>124.0</td>\n",
       "    </tr>\n",
       "    <tr>\n",
       "      <th>6</th>\n",
       "      <td>1006</td>\n",
       "      <td>10.0</td>\n",
       "    </tr>\n",
       "    <tr>\n",
       "      <th>8</th>\n",
       "      <td>1008</td>\n",
       "      <td>0.0</td>\n",
       "    </tr>\n",
       "    <tr>\n",
       "      <th>11</th>\n",
       "      <td>1011</td>\n",
       "      <td>0.0</td>\n",
       "    </tr>\n",
       "    <tr>\n",
       "      <th>13</th>\n",
       "      <td>1013</td>\n",
       "      <td>219.0</td>\n",
       "    </tr>\n",
       "  </tbody>\n",
       "</table>\n",
       "</div>"
      ],
      "text/plain": [
       "plan  user_id  ultimate\n",
       "0        1000     124.0\n",
       "6        1006      10.0\n",
       "8        1008       0.0\n",
       "11       1011       0.0\n",
       "13       1013     219.0"
      ]
     },
     "execution_count": 226,
     "metadata": {},
     "output_type": "execute_result"
    }
   ],
   "source": [
    "# Dapatkan user yang Ultimate\n",
    "avg_ulti = avg_call_per_plan.loc[:, ['user_id', 'ultimate']].dropna()\n",
    "avg_ulti.head()"
   ]
  },
  {
   "cell_type": "code",
   "execution_count": 227,
   "metadata": {},
   "outputs": [
    {
     "name": "stdout",
     "output_type": "stream",
     "text": [
      "Surf:\n",
      "Standar Deviasinya 187.0\n",
      "Varians nya 34971.8\n",
      "\n",
      "Ultimate:\n",
      "Standar Deviasinya 167.1\n",
      "Varians nya 27937.1\n"
     ]
    }
   ],
   "source": [
    "# Varians dan Standar deviasi\n",
    "# Surf\n",
    "surf_std = round(avg_surf['surf'].std(), 1)\n",
    "surf_var = round(avg_surf['surf'].var(), 1)\n",
    "print('Surf:')\n",
    "print(f'Standar Deviasinya {surf_std}')\n",
    "print(f'Varians nya {surf_var}')\n",
    "print()\n",
    "ulti_std = round(avg_ulti['ultimate'].std(), 1)\n",
    "ulti_var = round(avg_ulti['ultimate'].var(), 1)\n",
    "# ultimate\n",
    "print('Ultimate:')\n",
    "print(f'Standar Deviasinya {ulti_std}')\n",
    "print(f'Varians nya {ulti_var}')"
   ]
  },
  {
   "cell_type": "code",
   "execution_count": 228,
   "metadata": {},
   "outputs": [
    {
     "data": {
      "image/png": "[encoded data removed]",
      "text/plain": [
       "<Figure size 1440x1080 with 2 Axes>"
      ]
     },
     "metadata": {
      "needs_background": "light"
     },
     "output_type": "display_data"
    }
   ],
   "source": [
    "# Grafik untuk memvisualisasikan distribusi durasi panggilan bulanan\n",
    "plt.figure(figsize=(20, 15))\n",
    "plt.subplot(1, 2, 1)\n",
    "plt.title('Surf')\n",
    "sns.histplot(avg_call_per_plan['surf'], binwidth=5, color='red')\n",
    "\n",
    "plt.subplot(1, 2, 2)\n",
    "plt.title('Ultimate')\n",
    "sns.histplot(avg_call_per_plan['ultimate'], binwidth=5, color='blue')\n",
    "plt.show()"
   ]
  },
  {
   "cell_type": "markdown",
   "metadata": {},
   "source": [
    " <span style = 'color:green'>\n",
    "\n",
    "Durasi panggilan bulanan pengguna Surf memiliki variasi yang sedikit lebih besar dibandingkan dengan pengguna Ultimate. Perbedaannya tidak terlalu besar, kondisi ini bisa menggambarkan pengguna Surf memiliki tingkat variasi yang lebih besar dalam durasi panggilan bulanan dibandingkan dengan pengguna Ultimate.\n",
    "   \n",
    "</span>"
   ]
  },
  {
   "cell_type": "markdown",
   "metadata": {},
   "source": [
    "### Pesan/SMS"
   ]
  },
  {
   "cell_type": "code",
   "execution_count": 229,
   "metadata": {},
   "outputs": [
    {
     "data": {
      "image/png": "[encoded data removed]",
      "text/plain": [
       "<Figure size 864x360 with 1 Axes>"
      ]
     },
     "metadata": {
      "needs_background": "light"
     },
     "output_type": "display_data"
    }
   ],
   "source": [
    "# Bandingkan jumlah SMS yang cenderung dikirim pengguna tiap paket per bulannya\n",
    "total_messages_per_plan = pd.pivot_table(df_new, columns='plan', values='total_messages', index='month', aggfunc='sum').reset_index()\n",
    "total_messages_per_plan['month'] = total_messages_per_plan['month'].astype(str)\n",
    "\n",
    "plt.figure(figsize=(12, 5))\n",
    "plt.title('Jumlah SMS Setiap Paket per Bulan')\n",
    "sns.lineplot(data=total_messages_per_plan, x=\"month\", y=\"surf\", color='green')\n",
    "sns.lineplot(data=total_messages_per_plan, x=\"month\", y=\"ultimate\", color='blue')\n",
    "plt.show()"
   ]
  },
  {
   "cell_type": "markdown",
   "metadata": {},
   "source": [
    "<span style = 'color:green'>\n",
    "\n",
    "Pada grafik jumlah SMS paket Surf lebih banyak dibandingkan dengan jumlah SMS dari pengguna paket Ultimate .\n",
    "   \n",
    "</span>"
   ]
  },
  {
   "cell_type": "code",
   "execution_count": 230,
   "metadata": {},
   "outputs": [
    {
     "data": {
      "image/png": "[encoded data removed]",
      "text/plain": [
       "<Figure size 864x360 with 1 Axes>"
      ]
     },
     "metadata": {
      "needs_background": "light"
     },
     "output_type": "display_data"
    }
   ],
   "source": [
    "# Bandingkan rata-rata SMS yang dibutuhkan pengguna tiap paket per bulannya. Buatlah sebuah histogram.\n",
    "avg_messages_per_plan = pd.pivot_table(df_new, index='month', columns='plan', values='total_messages', aggfunc='mean').reset_index()\n",
    "avg_messages_per_plan['month'] = avg_messages_per_plan['month'].astype(str)\n",
    "\n",
    "plt.figure(figsize=(12, 5))\n",
    "plt.title('Rata-rata SMS Setiap Paket per Bulan')\n",
    "sns.lineplot(data=avg_messages_per_plan, x=\"month\", y=\"surf\", color='green')\n",
    "sns.lineplot(data=avg_messages_per_plan, x=\"month\", y=\"ultimate\", color='blue')\n",
    "plt.show()"
   ]
  },
  {
   "cell_type": "markdown",
   "metadata": {},
   "source": [
    "<span style = 'color:green'>\n",
    "\n",
    "Pada grafik secara rata-rata jumlah SMS paket Ultimate lebih banyak dibandingkan dengan jumlah SMS dari pengguna paket Surf meskipun pengguna paket Ultimate lebih rendah dari pengguna paket Surf.\n",
    "   \n",
    "</span>"
   ]
  },
  {
   "cell_type": "code",
   "execution_count": 231,
   "metadata": {},
   "outputs": [
    {
     "data": {
      "text/html": [
       "<div>\n",
       "<style scoped>\n",
       "    .dataframe tbody tr th:only-of-type {\n",
       "        vertical-align: middle;\n",
       "    }\n",
       "\n",
       "    .dataframe tbody tr th {\n",
       "        vertical-align: top;\n",
       "    }\n",
       "\n",
       "    .dataframe thead th {\n",
       "        text-align: right;\n",
       "    }\n",
       "</style>\n",
       "<table border=\"1\" class=\"dataframe\">\n",
       "  <thead>\n",
       "    <tr style=\"text-align: right;\">\n",
       "      <th>plan</th>\n",
       "      <th>user_id</th>\n",
       "      <th>surf</th>\n",
       "    </tr>\n",
       "  </thead>\n",
       "  <tbody>\n",
       "    <tr>\n",
       "      <th>1</th>\n",
       "      <td>1001</td>\n",
       "      <td>30.0</td>\n",
       "    </tr>\n",
       "    <tr>\n",
       "      <th>2</th>\n",
       "      <td>1002</td>\n",
       "      <td>15.0</td>\n",
       "    </tr>\n",
       "    <tr>\n",
       "      <th>3</th>\n",
       "      <td>1003</td>\n",
       "      <td>0.0</td>\n",
       "    </tr>\n",
       "    <tr>\n",
       "      <th>4</th>\n",
       "      <td>1004</td>\n",
       "      <td>7.0</td>\n",
       "    </tr>\n",
       "    <tr>\n",
       "      <th>5</th>\n",
       "      <td>1005</td>\n",
       "      <td>0.0</td>\n",
       "    </tr>\n",
       "  </tbody>\n",
       "</table>\n",
       "</div>"
      ],
      "text/plain": [
       "plan  user_id  surf\n",
       "1        1001  30.0\n",
       "2        1002  15.0\n",
       "3        1003   0.0\n",
       "4        1004   7.0\n",
       "5        1005   0.0"
      ]
     },
     "execution_count": 231,
     "metadata": {},
     "output_type": "execute_result"
    }
   ],
   "source": [
    "# Hitung rata-rata dan varians dari jumlah SMS bulanan\n",
    "avg_user_messages = pd.pivot_table(df_new, index='user_id', columns='plan', values='total_messages', aggfunc='mean').reset_index()\n",
    "\n",
    "# Dapatkan user yang surf\n",
    "avg_surf_messages = avg_user_messages.loc[:, ['user_id', 'surf']].dropna()\n",
    "avg_surf_messages.head()\n"
   ]
  },
  {
   "cell_type": "code",
   "execution_count": 232,
   "metadata": {},
   "outputs": [
    {
     "data": {
      "text/html": [
       "<div>\n",
       "<style scoped>\n",
       "    .dataframe tbody tr th:only-of-type {\n",
       "        vertical-align: middle;\n",
       "    }\n",
       "\n",
       "    .dataframe tbody tr th {\n",
       "        vertical-align: top;\n",
       "    }\n",
       "\n",
       "    .dataframe thead th {\n",
       "        text-align: right;\n",
       "    }\n",
       "</style>\n",
       "<table border=\"1\" class=\"dataframe\">\n",
       "  <thead>\n",
       "    <tr style=\"text-align: right;\">\n",
       "      <th>plan</th>\n",
       "      <th>user_id</th>\n",
       "      <th>ultimate</th>\n",
       "    </tr>\n",
       "  </thead>\n",
       "  <tbody>\n",
       "    <tr>\n",
       "      <th>0</th>\n",
       "      <td>1000</td>\n",
       "      <td>11.0</td>\n",
       "    </tr>\n",
       "    <tr>\n",
       "      <th>6</th>\n",
       "      <td>1006</td>\n",
       "      <td>15.0</td>\n",
       "    </tr>\n",
       "    <tr>\n",
       "      <th>8</th>\n",
       "      <td>1008</td>\n",
       "      <td>0.0</td>\n",
       "    </tr>\n",
       "    <tr>\n",
       "      <th>11</th>\n",
       "      <td>1011</td>\n",
       "      <td>0.0</td>\n",
       "    </tr>\n",
       "    <tr>\n",
       "      <th>13</th>\n",
       "      <td>1013</td>\n",
       "      <td>16.0</td>\n",
       "    </tr>\n",
       "  </tbody>\n",
       "</table>\n",
       "</div>"
      ],
      "text/plain": [
       "plan  user_id  ultimate\n",
       "0        1000      11.0\n",
       "6        1006      15.0\n",
       "8        1008       0.0\n",
       "11       1011       0.0\n",
       "13       1013      16.0"
      ]
     },
     "execution_count": 232,
     "metadata": {},
     "output_type": "execute_result"
    }
   ],
   "source": [
    "# Dapatkan user yang Ultimate\n",
    "avg_ulti_messages = avg_user_messages.loc[:, ['user_id', 'ultimate']].dropna()\n",
    "avg_ulti_messages.head()\n"
   ]
  },
  {
   "cell_type": "code",
   "execution_count": 233,
   "metadata": {},
   "outputs": [
    {
     "name": "stdout",
     "output_type": "stream",
     "text": [
      "Surf:\n",
      "Standar Deviasinya 19.8\n",
      "Varians nya 392.2\n",
      "\n",
      "Ultimate:\n",
      "Standar Deviasinya 19.2\n",
      "Varians nya 367.3\n"
     ]
    }
   ],
   "source": [
    "# Varians dan Standar deviasi\n",
    "# Surf\n",
    "std_surf_messages = round(avg_surf_messages['surf'].std(), 1)\n",
    "var_surf_messages = round(avg_surf_messages['surf'].var(), 1)\n",
    "print('Surf:')\n",
    "print(f'Standar Deviasinya {std_surf_messages}')\n",
    "print(f'Varians nya {var_surf_messages}')\n",
    "print()\n",
    "std_ulti_messages = round(avg_ulti_messages['ultimate'].std(), 1)\n",
    "var_ulti_messages = round(avg_ulti_messages['ultimate'].var(), 1)\n",
    "# ultimate\n",
    "print('Ultimate:')\n",
    "print(f'Standar Deviasinya {std_ulti_messages}')\n",
    "print(f'Varians nya {var_ulti_messages}')"
   ]
  },
  {
   "cell_type": "code",
   "execution_count": 234,
   "metadata": {},
   "outputs": [
    {
     "data": {
      "image/png": "[encoded data removed]",
      "text/plain": [
       "<Figure size 864x360 with 1 Axes>"
      ]
     },
     "metadata": {
      "needs_background": "light"
     },
     "output_type": "display_data"
    }
   ],
   "source": [
    "# Membuat grafik boxplot untuk memvisualisasikan distribusi sms bulanan\n",
    "\n",
    "plt.figure(figsize=(12, 5))\n",
    "plt.title('Total SMS of Surf and Ultimate plan per Month')\n",
    "\n",
    "# membuat boxplot untuk plan \"surf\" dengan warna hijau\n",
    "plt.boxplot(total_messages_per_plan['surf'], positions=[1], widths=0.6, patch_artist=True, boxprops=dict(facecolor='green'), labels=['Surf'])\n",
    "\n",
    "# membuat boxplot untuk plan \"ultimate\" dengan warna biru\n",
    "plt.boxplot(total_messages_per_plan['ultimate'], positions=[2], widths=0.6, patch_artist=True, boxprops=dict(facecolor='blue'), labels=['Ultimate'])\n",
    "plt.xlabel('Month')\n",
    "plt.ylabel('Total SMS')\n",
    "plt.show()"
   ]
  },
  {
   "cell_type": "code",
   "execution_count": 235,
   "metadata": {},
   "outputs": [
    {
     "data": {
      "image/png": "[encoded data removed]",
      "text/plain": [
       "<Figure size 864x360 with 1 Axes>"
      ]
     },
     "metadata": {
      "needs_background": "light"
     },
     "output_type": "display_data"
    }
   ],
   "source": [
    "# Buatlah grafik boxplot untuk memvisualisasikan distribusi rata-rata sms bulanan\n",
    "\n",
    "plt.figure(figsize=(12, 5))\n",
    "plt.title('Average SMS of Surf and Ultimate plan per Month')\n",
    "\n",
    "# membuat boxplot untuk plan \"surf\" dengan warna hijau\n",
    "plt.boxplot(avg_messages_per_plan['surf'], positions=[1], widths=0.6, patch_artist=True, boxprops=dict(facecolor='green'), labels=['Surf'])\n",
    "\n",
    "# membuat boxplot untuk plan \"ultimate\" dengan warna biru\n",
    "plt.boxplot(avg_messages_per_plan['ultimate'], positions=[2], widths=0.6, patch_artist=True, boxprops=dict(facecolor='blue'), labels=['Ultimate'])\n",
    "plt.xlabel('Month')\n",
    "plt.ylabel('Total SMS')\n",
    "plt.show()"
   ]
  },
  {
   "cell_type": "markdown",
   "metadata": {},
   "source": [
    "<span style = 'color:green'>\n",
    "\n",
    "Dari visualisasi boxplot di atas, secara total SMS paket Surf lebih banyak penggunanya, dan bila dilihat rata-rata, nilai paket Ultimate lebih tinggi, ini disebabkan pembagi dari pengguna Ultimate lebih sedikit.\n",
    "   \n",
    "</span>"
   ]
  },
  {
   "cell_type": "markdown",
   "metadata": {},
   "source": [
    "### Internet"
   ]
  },
  {
   "cell_type": "code",
   "execution_count": 236,
   "metadata": {},
   "outputs": [
    {
     "data": {
      "image/png": "[encoded data removed]",
      "text/plain": [
       "<Figure size 864x360 with 1 Axes>"
      ]
     },
     "metadata": {
      "needs_background": "light"
     },
     "output_type": "display_data"
    }
   ],
   "source": [
    "# Bandingkan jumlah traffic internet yang dihabiskan oleh pengguna per paket\n",
    "total_internet_per_plan = pd.pivot_table(df_new, columns='plan', values='gb_used', index='month', aggfunc='sum').reset_index()\n",
    "total_internet_per_plan['month'] = total_internet_per_plan['month'].astype(str)\n",
    "\n",
    "plt.figure(figsize=(12, 5))\n",
    "plt.title('Jumlah Internet Setiap Paket per Bulan')\n",
    "sns.lineplot(data=total_internet_per_plan, x=\"month\", y=\"surf\", color='green')\n",
    "sns.lineplot(data=total_internet_per_plan, x=\"month\", y=\"ultimate\", color='blue')\n",
    "plt.show()"
   ]
  },
  {
   "cell_type": "code",
   "execution_count": 237,
   "metadata": {},
   "outputs": [
    {
     "data": {
      "image/png": "[encoded data removed]",
      "text/plain": [
       "<Figure size 864x360 with 1 Axes>"
      ]
     },
     "metadata": {
      "needs_background": "light"
     },
     "output_type": "display_data"
    }
   ],
   "source": [
    "# Bandingkan rata-rata internet yang dibutuhkan pengguna tiap paket per bulannya. Buatlah sebuah histogram.\n",
    "avg_internet_per_plan = pd.pivot_table(df_new, columns='plan', values='gb_used', index='month', aggfunc='mean').reset_index()\n",
    "avg_internet_per_plan['month'] = avg_internet_per_plan['month'].astype(str)\n",
    "\n",
    "plt.figure(figsize=(12, 5))\n",
    "plt.title('Rata-rata Internet Setiap Paket per Bulan')\n",
    "sns.lineplot(data=avg_internet_per_plan, x=\"month\", y=\"surf\", color='green')\n",
    "sns.lineplot(data=avg_internet_per_plan, x=\"month\", y=\"ultimate\", color='blue')\n",
    "plt.show()"
   ]
  },
  {
   "cell_type": "code",
   "execution_count": 238,
   "metadata": {},
   "outputs": [
    {
     "data": {
      "text/html": [
       "<div>\n",
       "<style scoped>\n",
       "    .dataframe tbody tr th:only-of-type {\n",
       "        vertical-align: middle;\n",
       "    }\n",
       "\n",
       "    .dataframe tbody tr th {\n",
       "        vertical-align: top;\n",
       "    }\n",
       "\n",
       "    .dataframe thead th {\n",
       "        text-align: right;\n",
       "    }\n",
       "</style>\n",
       "<table border=\"1\" class=\"dataframe\">\n",
       "  <thead>\n",
       "    <tr style=\"text-align: right;\">\n",
       "      <th>plan</th>\n",
       "      <th>user_id</th>\n",
       "      <th>surf</th>\n",
       "    </tr>\n",
       "  </thead>\n",
       "  <tbody>\n",
       "    <tr>\n",
       "      <th>1</th>\n",
       "      <td>1001</td>\n",
       "      <td>7.0</td>\n",
       "    </tr>\n",
       "    <tr>\n",
       "      <th>2</th>\n",
       "      <td>1002</td>\n",
       "      <td>7.0</td>\n",
       "    </tr>\n",
       "    <tr>\n",
       "      <th>3</th>\n",
       "      <td>1003</td>\n",
       "      <td>0.0</td>\n",
       "    </tr>\n",
       "    <tr>\n",
       "      <th>4</th>\n",
       "      <td>1004</td>\n",
       "      <td>7.0</td>\n",
       "    </tr>\n",
       "    <tr>\n",
       "      <th>5</th>\n",
       "      <td>1005</td>\n",
       "      <td>0.0</td>\n",
       "    </tr>\n",
       "  </tbody>\n",
       "</table>\n",
       "</div>"
      ],
      "text/plain": [
       "plan  user_id  surf\n",
       "1        1001   7.0\n",
       "2        1002   7.0\n",
       "3        1003   0.0\n",
       "4        1004   7.0\n",
       "5        1005   0.0"
      ]
     },
     "execution_count": 238,
     "metadata": {},
     "output_type": "execute_result"
    }
   ],
   "source": [
    "# Hitung rata-rata dan varians dari jumlah internet bulanan\n",
    "avg_internet_per_plan = pd.pivot_table(df_new, columns='plan', values='gb_used', index='user_id', aggfunc='mean').reset_index()\n",
    "\n",
    "# Dapatkan user yang surf\n",
    "avg_internet_surf = avg_internet_per_plan.loc[:, ['user_id', 'surf']].dropna()\n",
    "avg_internet_surf.head()"
   ]
  },
  {
   "cell_type": "code",
   "execution_count": 239,
   "metadata": {},
   "outputs": [
    {
     "data": {
      "text/html": [
       "<div>\n",
       "<style scoped>\n",
       "    .dataframe tbody tr th:only-of-type {\n",
       "        vertical-align: middle;\n",
       "    }\n",
       "\n",
       "    .dataframe tbody tr th {\n",
       "        vertical-align: top;\n",
       "    }\n",
       "\n",
       "    .dataframe thead th {\n",
       "        text-align: right;\n",
       "    }\n",
       "</style>\n",
       "<table border=\"1\" class=\"dataframe\">\n",
       "  <thead>\n",
       "    <tr style=\"text-align: right;\">\n",
       "      <th>plan</th>\n",
       "      <th>user_id</th>\n",
       "      <th>ultimate</th>\n",
       "    </tr>\n",
       "  </thead>\n",
       "  <tbody>\n",
       "    <tr>\n",
       "      <th>0</th>\n",
       "      <td>1000</td>\n",
       "      <td>2.0</td>\n",
       "    </tr>\n",
       "    <tr>\n",
       "      <th>6</th>\n",
       "      <td>1006</td>\n",
       "      <td>3.0</td>\n",
       "    </tr>\n",
       "    <tr>\n",
       "      <th>8</th>\n",
       "      <td>1008</td>\n",
       "      <td>0.0</td>\n",
       "    </tr>\n",
       "    <tr>\n",
       "      <th>11</th>\n",
       "      <td>1011</td>\n",
       "      <td>0.0</td>\n",
       "    </tr>\n",
       "    <tr>\n",
       "      <th>13</th>\n",
       "      <td>1013</td>\n",
       "      <td>20.0</td>\n",
       "    </tr>\n",
       "  </tbody>\n",
       "</table>\n",
       "</div>"
      ],
      "text/plain": [
       "plan  user_id  ultimate\n",
       "0        1000       2.0\n",
       "6        1006       3.0\n",
       "8        1008       0.0\n",
       "11       1011       0.0\n",
       "13       1013      20.0"
      ]
     },
     "execution_count": 239,
     "metadata": {},
     "output_type": "execute_result"
    }
   ],
   "source": [
    "# Dapatkan user yang surf\n",
    "avg_internet_ulti = avg_internet_per_plan.loc[:, ['user_id', 'ultimate']].dropna()\n",
    "avg_internet_ulti.head()"
   ]
  },
  {
   "cell_type": "code",
   "execution_count": 240,
   "metadata": {},
   "outputs": [
    {
     "name": "stdout",
     "output_type": "stream",
     "text": [
      "Surf:\n",
      "Standar Deviasinya 6.5\n",
      "Varians nya 42.2\n",
      "\n",
      "Ultimate:\n",
      "Standar Deviasinya 5.6\n",
      "Varians nya 31.2\n"
     ]
    }
   ],
   "source": [
    "# varians dan standar deviasi\n",
    "# surf\n",
    "surf_std_internet = round(avg_internet_surf['surf'].std(), 1)\n",
    "surf_var_internet = round(avg_internet_surf['surf'].var(), 1)\n",
    "print('Surf:')\n",
    "print(f'Standar Deviasinya {surf_std_internet}')\n",
    "print(f'Varians nya {surf_var_internet}')\n",
    "print()\n",
    "ulti_std_internet = round(avg_internet_ulti['ultimate'].std(), 1)\n",
    "ulti_var_internet = round(avg_internet_ulti['ultimate'].var(), 1)\n",
    "# ultimate\n",
    "print('Ultimate:')\n",
    "print(f'Standar Deviasinya {ulti_std_internet}')\n",
    "print(f'Varians nya {ulti_var_internet}')"
   ]
  },
  {
   "cell_type": "code",
   "execution_count": 241,
   "metadata": {},
   "outputs": [
    {
     "data": {
      "image/png": "[encoded data removed]",
      "text/plain": [
       "<Figure size 864x360 with 1 Axes>"
      ]
     },
     "metadata": {
      "needs_background": "light"
     },
     "output_type": "display_data"
    }
   ],
   "source": [
    "# Buatlah grafik boxplot untuk memvisualisasikan distribusi internet bulanan\n",
    "\n",
    "plt.figure(figsize=(12, 5))\n",
    "plt.title('Total Internet of Surf and Ultimate plan per Month')\n",
    "\n",
    "# membuat boxplot untuk plan \"surf\" dengan warna hijau\n",
    "plt.boxplot(total_internet_per_plan['surf'], positions=[1], widths=0.6, patch_artist=True, boxprops=dict(facecolor='green'), labels=['Surf'])\n",
    "\n",
    "# membuat boxplot untuk plan \"ultimate\" dengan warna biru\n",
    "plt.boxplot(total_internet_per_plan['ultimate'], positions=[2], widths=0.6, patch_artist=True, boxprops=dict(facecolor='blue'), labels=['Ultimate'])\n",
    "plt.xlabel('Month')\n",
    "plt.ylabel('Total Internet')\n",
    "plt.show()"
   ]
  },
  {
   "cell_type": "code",
   "execution_count": 242,
   "metadata": {},
   "outputs": [
    {
     "data": {
      "image/png": "[encoded data removed]",
      "text/plain": [
       "<Figure size 864x360 with 2 Axes>"
      ]
     },
     "metadata": {
      "needs_background": "light"
     },
     "output_type": "display_data"
    }
   ],
   "source": [
    "# Grafik untuk memvisualisasikan distribusi rata-rata internet bulanan\n",
    "plt.figure(figsize=(12, 5))\n",
    "plt.subplot(1, 2, 1)\n",
    "plt.title('Surf')\n",
    "sns.histplot(avg_internet_surf['surf'], binwidth=5, color='red')\n",
    "\n",
    "plt.subplot(1, 2, 2)\n",
    "plt.title('Ultimate')\n",
    "sns.histplot(avg_internet_ulti['ultimate'], binwidth=5, color='blue')\n",
    "plt.show()"
   ]
  },
  {
   "cell_type": "markdown",
   "metadata": {},
   "source": [
    "<span style = 'color:green'>\n",
    "\n",
    "Memiliki kemiripan dengan perilaku pengguna terhadap SMS, pengguna Internet dari paket Ultimate yang jumlahnya lebih rendah dibandingkan paket Surf, pada data rata-rata internet yang digunakan kedua paket, Ultimate memiliki nilai di atas paket Surf.\n",
    "   \n",
    "</span>"
   ]
  },
  {
   "cell_type": "markdown",
   "metadata": {},
   "source": [
    "## Pendapatan"
   ]
  },
  {
   "cell_type": "code",
   "execution_count": 243,
   "metadata": {},
   "outputs": [
    {
     "data": {
      "text/html": [
       "<div>\n",
       "<style scoped>\n",
       "    .dataframe tbody tr th:only-of-type {\n",
       "        vertical-align: middle;\n",
       "    }\n",
       "\n",
       "    .dataframe tbody tr th {\n",
       "        vertical-align: top;\n",
       "    }\n",
       "\n",
       "    .dataframe thead th {\n",
       "        text-align: right;\n",
       "    }\n",
       "</style>\n",
       "<table border=\"1\" class=\"dataframe\">\n",
       "  <thead>\n",
       "    <tr style=\"text-align: right;\">\n",
       "      <th>plan</th>\n",
       "      <th>month</th>\n",
       "      <th>surf</th>\n",
       "      <th>ultimate</th>\n",
       "    </tr>\n",
       "  </thead>\n",
       "  <tbody>\n",
       "    <tr>\n",
       "      <th>0</th>\n",
       "      <td>2018-01</td>\n",
       "      <td>600.00</td>\n",
       "      <td>1330.0</td>\n",
       "    </tr>\n",
       "    <tr>\n",
       "      <th>1</th>\n",
       "      <td>2018-02</td>\n",
       "      <td>710.00</td>\n",
       "      <td>840.0</td>\n",
       "    </tr>\n",
       "    <tr>\n",
       "      <th>2</th>\n",
       "      <td>2018-03</td>\n",
       "      <td>610.00</td>\n",
       "      <td>700.0</td>\n",
       "    </tr>\n",
       "    <tr>\n",
       "      <th>3</th>\n",
       "      <td>2018-04</td>\n",
       "      <td>789.86</td>\n",
       "      <td>770.0</td>\n",
       "    </tr>\n",
       "    <tr>\n",
       "      <th>4</th>\n",
       "      <td>2018-05</td>\n",
       "      <td>500.00</td>\n",
       "      <td>910.0</td>\n",
       "    </tr>\n",
       "    <tr>\n",
       "      <th>5</th>\n",
       "      <td>2018-06</td>\n",
       "      <td>810.86</td>\n",
       "      <td>1540.0</td>\n",
       "    </tr>\n",
       "    <tr>\n",
       "      <th>6</th>\n",
       "      <td>2018-07</td>\n",
       "      <td>634.08</td>\n",
       "      <td>840.0</td>\n",
       "    </tr>\n",
       "    <tr>\n",
       "      <th>7</th>\n",
       "      <td>2018-08</td>\n",
       "      <td>782.94</td>\n",
       "      <td>1190.0</td>\n",
       "    </tr>\n",
       "    <tr>\n",
       "      <th>8</th>\n",
       "      <td>2018-09</td>\n",
       "      <td>561.83</td>\n",
       "      <td>840.0</td>\n",
       "    </tr>\n",
       "    <tr>\n",
       "      <th>9</th>\n",
       "      <td>2018-10</td>\n",
       "      <td>754.56</td>\n",
       "      <td>630.0</td>\n",
       "    </tr>\n",
       "    <tr>\n",
       "      <th>10</th>\n",
       "      <td>2018-11</td>\n",
       "      <td>492.36</td>\n",
       "      <td>1050.0</td>\n",
       "    </tr>\n",
       "    <tr>\n",
       "      <th>11</th>\n",
       "      <td>2018-12</td>\n",
       "      <td>942.39</td>\n",
       "      <td>630.0</td>\n",
       "    </tr>\n",
       "  </tbody>\n",
       "</table>\n",
       "</div>"
      ],
      "text/plain": [
       "plan    month    surf  ultimate\n",
       "0     2018-01  600.00    1330.0\n",
       "1     2018-02  710.00     840.0\n",
       "2     2018-03  610.00     700.0\n",
       "3     2018-04  789.86     770.0\n",
       "4     2018-05  500.00     910.0\n",
       "5     2018-06  810.86    1540.0\n",
       "6     2018-07  634.08     840.0\n",
       "7     2018-08  782.94    1190.0\n",
       "8     2018-09  561.83     840.0\n",
       "9     2018-10  754.56     630.0\n",
       "10    2018-11  492.36    1050.0\n",
       "11    2018-12  942.39     630.0"
      ]
     },
     "execution_count": 243,
     "metadata": {},
     "output_type": "execute_result"
    }
   ],
   "source": [
    "# Membandingkan pendapatan oleh pengguna per paket\n",
    "income_users = pd.pivot_table(df_new, index='month', columns='plan', values='monthly_revenue', aggfunc='sum').reset_index()\n",
    "income_users['month'] = income_users['month'].astype(str)\n",
    "income_users"
   ]
  },
  {
   "cell_type": "code",
   "execution_count": 244,
   "metadata": {},
   "outputs": [
    {
     "data": {
      "image/png": "[encoded data removed]",
      "text/plain": [
       "<Figure size 864x360 with 1 Axes>"
      ]
     },
     "metadata": {
      "needs_background": "light"
     },
     "output_type": "display_data"
    }
   ],
   "source": [
    "plt.figure(figsize=(12, 5))\n",
    "plt.title('Total Income of Surf and Ultimate plan per Month')\n",
    "sns.lineplot(data=income_users, x=\"month\", y=\"surf\", color='green')\n",
    "sns.lineplot(data=income_users, x=\"month\", y=\"ultimate\", color='blue')\n",
    "plt.show()"
   ]
  },
  {
   "cell_type": "code",
   "execution_count": 245,
   "metadata": {},
   "outputs": [
    {
     "data": {
      "text/html": [
       "<div>\n",
       "<style scoped>\n",
       "    .dataframe tbody tr th:only-of-type {\n",
       "        vertical-align: middle;\n",
       "    }\n",
       "\n",
       "    .dataframe tbody tr th {\n",
       "        vertical-align: top;\n",
       "    }\n",
       "\n",
       "    .dataframe thead th {\n",
       "        text-align: right;\n",
       "    }\n",
       "</style>\n",
       "<table border=\"1\" class=\"dataframe\">\n",
       "  <thead>\n",
       "    <tr style=\"text-align: right;\">\n",
       "      <th>plan</th>\n",
       "      <th>month</th>\n",
       "      <th>surf</th>\n",
       "      <th>ultimate</th>\n",
       "    </tr>\n",
       "  </thead>\n",
       "  <tbody>\n",
       "    <tr>\n",
       "      <th>0</th>\n",
       "      <td>2018-01</td>\n",
       "      <td>20.000000</td>\n",
       "      <td>70.0</td>\n",
       "    </tr>\n",
       "    <tr>\n",
       "      <th>1</th>\n",
       "      <td>2018-02</td>\n",
       "      <td>23.666667</td>\n",
       "      <td>70.0</td>\n",
       "    </tr>\n",
       "    <tr>\n",
       "      <th>2</th>\n",
       "      <td>2018-03</td>\n",
       "      <td>20.333333</td>\n",
       "      <td>70.0</td>\n",
       "    </tr>\n",
       "    <tr>\n",
       "      <th>3</th>\n",
       "      <td>2018-04</td>\n",
       "      <td>23.231176</td>\n",
       "      <td>70.0</td>\n",
       "    </tr>\n",
       "    <tr>\n",
       "      <th>4</th>\n",
       "      <td>2018-05</td>\n",
       "      <td>20.000000</td>\n",
       "      <td>70.0</td>\n",
       "    </tr>\n",
       "    <tr>\n",
       "      <th>5</th>\n",
       "      <td>2018-06</td>\n",
       "      <td>25.339375</td>\n",
       "      <td>70.0</td>\n",
       "    </tr>\n",
       "    <tr>\n",
       "      <th>6</th>\n",
       "      <td>2018-07</td>\n",
       "      <td>26.420000</td>\n",
       "      <td>70.0</td>\n",
       "    </tr>\n",
       "    <tr>\n",
       "      <th>7</th>\n",
       "      <td>2018-08</td>\n",
       "      <td>26.098000</td>\n",
       "      <td>70.0</td>\n",
       "    </tr>\n",
       "    <tr>\n",
       "      <th>8</th>\n",
       "      <td>2018-09</td>\n",
       "      <td>28.091500</td>\n",
       "      <td>70.0</td>\n",
       "    </tr>\n",
       "    <tr>\n",
       "      <th>9</th>\n",
       "      <td>2018-10</td>\n",
       "      <td>22.865455</td>\n",
       "      <td>70.0</td>\n",
       "    </tr>\n",
       "    <tr>\n",
       "      <th>10</th>\n",
       "      <td>2018-11</td>\n",
       "      <td>21.406957</td>\n",
       "      <td>70.0</td>\n",
       "    </tr>\n",
       "    <tr>\n",
       "      <th>11</th>\n",
       "      <td>2018-12</td>\n",
       "      <td>33.656786</td>\n",
       "      <td>70.0</td>\n",
       "    </tr>\n",
       "  </tbody>\n",
       "</table>\n",
       "</div>"
      ],
      "text/plain": [
       "plan    month       surf  ultimate\n",
       "0     2018-01  20.000000      70.0\n",
       "1     2018-02  23.666667      70.0\n",
       "2     2018-03  20.333333      70.0\n",
       "3     2018-04  23.231176      70.0\n",
       "4     2018-05  20.000000      70.0\n",
       "5     2018-06  25.339375      70.0\n",
       "6     2018-07  26.420000      70.0\n",
       "7     2018-08  26.098000      70.0\n",
       "8     2018-09  28.091500      70.0\n",
       "9     2018-10  22.865455      70.0\n",
       "10    2018-11  21.406957      70.0\n",
       "11    2018-12  33.656786      70.0"
      ]
     },
     "execution_count": 245,
     "metadata": {},
     "output_type": "execute_result"
    }
   ],
   "source": [
    "# Bandingkan rata-rata pendapatan oleh pengguna per paket (total_income)\n",
    "income_avg_users = pd.pivot_table(df_new, index='month', columns='plan', values='monthly_revenue', aggfunc='mean').reset_index()\n",
    "income_avg_users['month'] = income_avg_users['month'].astype(str)\n",
    "income_avg_users"
   ]
  },
  {
   "cell_type": "code",
   "execution_count": 246,
   "metadata": {},
   "outputs": [
    {
     "data": {
      "image/png": "[encoded data removed]",
      "text/plain": [
       "<Figure size 864x360 with 1 Axes>"
      ]
     },
     "metadata": {
      "needs_background": "light"
     },
     "output_type": "display_data"
    }
   ],
   "source": [
    "plt.figure(figsize=(12, 5))\n",
    "plt.title('Average Total Income of Surf and Ultimate plan per Month')\n",
    "sns.lineplot(data=income_avg_users, x=\"month\", y=\"surf\", color='green')\n",
    "sns.lineplot(data=income_avg_users, x=\"month\", y=\"ultimate\", color='blue')\n",
    "plt.show()"
   ]
  },
  {
   "cell_type": "markdown",
   "metadata": {},
   "source": [
    "<span style = 'color:green'>\n",
    "\n",
    "Dari pendapatan pengguna, paket Surf lebih tinggi peminatnya, mungkin karena harga paket lebih murah dibandingkan dengan paket Ultimate.\n",
    "   \n",
    "</span>"
   ]
  },
  {
   "cell_type": "code",
   "execution_count": 247,
   "metadata": {},
   "outputs": [
    {
     "data": {
      "text/html": [
       "<div>\n",
       "<style scoped>\n",
       "    .dataframe tbody tr th:only-of-type {\n",
       "        vertical-align: middle;\n",
       "    }\n",
       "\n",
       "    .dataframe tbody tr th {\n",
       "        vertical-align: top;\n",
       "    }\n",
       "\n",
       "    .dataframe thead th {\n",
       "        text-align: right;\n",
       "    }\n",
       "</style>\n",
       "<table border=\"1\" class=\"dataframe\">\n",
       "  <thead>\n",
       "    <tr style=\"text-align: right;\">\n",
       "      <th>plan</th>\n",
       "      <th>user_id</th>\n",
       "      <th>surf</th>\n",
       "    </tr>\n",
       "  </thead>\n",
       "  <tbody>\n",
       "    <tr>\n",
       "      <th>1</th>\n",
       "      <td>1001</td>\n",
       "      <td>20.0</td>\n",
       "    </tr>\n",
       "    <tr>\n",
       "      <th>2</th>\n",
       "      <td>1002</td>\n",
       "      <td>20.0</td>\n",
       "    </tr>\n",
       "    <tr>\n",
       "      <th>3</th>\n",
       "      <td>1003</td>\n",
       "      <td>20.0</td>\n",
       "    </tr>\n",
       "    <tr>\n",
       "      <th>4</th>\n",
       "      <td>1004</td>\n",
       "      <td>20.0</td>\n",
       "    </tr>\n",
       "    <tr>\n",
       "      <th>5</th>\n",
       "      <td>1005</td>\n",
       "      <td>20.0</td>\n",
       "    </tr>\n",
       "  </tbody>\n",
       "</table>\n",
       "</div>"
      ],
      "text/plain": [
       "plan  user_id  surf\n",
       "1        1001  20.0\n",
       "2        1002  20.0\n",
       "3        1003  20.0\n",
       "4        1004  20.0\n",
       "5        1005  20.0"
      ]
     },
     "execution_count": 247,
     "metadata": {},
     "output_type": "execute_result"
    }
   ],
   "source": [
    "# menghitung data varians\n",
    "# hitung rata-rata dan varians dari pendapatan bulanan\n",
    "income_avg_users = pd.pivot_table(df_new, index='user_id', columns='plan', values='monthly_revenue', aggfunc='mean').reset_index()\n",
    "# dapatkan user surf\n",
    "avg_surf_income = income_avg_users.loc[:, ['user_id', 'surf']].dropna()\n",
    "avg_surf_income.head()"
   ]
  },
  {
   "cell_type": "code",
   "execution_count": 248,
   "metadata": {},
   "outputs": [
    {
     "data": {
      "text/html": [
       "<div>\n",
       "<style scoped>\n",
       "    .dataframe tbody tr th:only-of-type {\n",
       "        vertical-align: middle;\n",
       "    }\n",
       "\n",
       "    .dataframe tbody tr th {\n",
       "        vertical-align: top;\n",
       "    }\n",
       "\n",
       "    .dataframe thead th {\n",
       "        text-align: right;\n",
       "    }\n",
       "</style>\n",
       "<table border=\"1\" class=\"dataframe\">\n",
       "  <thead>\n",
       "    <tr style=\"text-align: right;\">\n",
       "      <th>plan</th>\n",
       "      <th>user_id</th>\n",
       "      <th>ultimate</th>\n",
       "    </tr>\n",
       "  </thead>\n",
       "  <tbody>\n",
       "    <tr>\n",
       "      <th>0</th>\n",
       "      <td>1000</td>\n",
       "      <td>70.0</td>\n",
       "    </tr>\n",
       "    <tr>\n",
       "      <th>6</th>\n",
       "      <td>1006</td>\n",
       "      <td>70.0</td>\n",
       "    </tr>\n",
       "    <tr>\n",
       "      <th>8</th>\n",
       "      <td>1008</td>\n",
       "      <td>70.0</td>\n",
       "    </tr>\n",
       "    <tr>\n",
       "      <th>11</th>\n",
       "      <td>1011</td>\n",
       "      <td>70.0</td>\n",
       "    </tr>\n",
       "    <tr>\n",
       "      <th>13</th>\n",
       "      <td>1013</td>\n",
       "      <td>70.0</td>\n",
       "    </tr>\n",
       "  </tbody>\n",
       "</table>\n",
       "</div>"
      ],
      "text/plain": [
       "plan  user_id  ultimate\n",
       "0        1000      70.0\n",
       "6        1006      70.0\n",
       "8        1008      70.0\n",
       "11       1011      70.0\n",
       "13       1013      70.0"
      ]
     },
     "execution_count": 248,
     "metadata": {},
     "output_type": "execute_result"
    }
   ],
   "source": [
    "# dapatkan user ultimate\n",
    "avg_ulti_income = income_avg_users.loc[:, ['user_id', 'ultimate']].dropna()\n",
    "avg_ulti_income.head()"
   ]
  },
  {
   "cell_type": "code",
   "execution_count": 249,
   "metadata": {},
   "outputs": [
    {
     "name": "stdout",
     "output_type": "stream",
     "text": [
      "Surf:\n",
      "Standar Deviasinya 14.6\n",
      "Varians nya 212.6\n",
      "\n",
      "Ultimate:\n",
      "Standar Deviasinya 0.0\n",
      "Varians nya 0.0\n"
     ]
    }
   ],
   "source": [
    "# varians dan standar deviasi\n",
    "# surf\n",
    "surf_std_income = round(avg_surf_income['surf'].std(), 1)\n",
    "surf_var_income = round(avg_surf_income['surf'].var(), 1)\n",
    "print('Surf:')\n",
    "print(f'Standar Deviasinya {surf_std_income}')\n",
    "print(f'Varians nya {surf_var_income}')\n",
    "print()\n",
    "ulti_std_income = round(avg_ulti_income['ultimate'].std(), 1)\n",
    "ulti_var_income = round(avg_ulti_income['ultimate'].var(), 1)\n",
    "# ultimate\n",
    "print('Ultimate:')\n",
    "print(f'Standar Deviasinya {ulti_std_income}')\n",
    "print(f'Varians nya {ulti_var_income}')"
   ]
  },
  {
   "cell_type": "markdown",
   "metadata": {},
   "source": [
    "<span style = 'color:green'>\n",
    "\n",
    "Income dari pengguna Surf memiliki variasi yang lebih besar daripada pengguna Ultimate, yang mengindikasikan tingkat konsistensi yang lebih tinggi dalam income dari pengguna Ultimate per bulan.\n",
    "   \n",
    "</span>"
   ]
  },
  {
   "cell_type": "code",
   "execution_count": 250,
   "metadata": {},
   "outputs": [
    {
     "data": {
      "image/png": "[encoded data removed]",
      "text/plain": [
       "<Figure size 864x360 with 1 Axes>"
      ]
     },
     "metadata": {
      "needs_background": "light"
     },
     "output_type": "display_data"
    }
   ],
   "source": [
    "# Buatlah grafik boxplot untuk memvisualisasikan distribusi income bulanan\n",
    "# dataframe income_sum berisi data yang akan digunakan dalam boxplot\n",
    "plt.figure(figsize=(12, 5))\n",
    "plt.title('Total Income of Surf and Ultimate plan per Month')\n",
    "\n",
    "# membuat boxplot untuk plan \"surf\" dengan warna merah\n",
    "plt.boxplot(income_users['surf'], positions=[1], widths=0.6, patch_artist=True, boxprops=dict(facecolor='red'), labels=['Surf'])\n",
    "\n",
    "# membuat boxplot untuk plan \"ultimate\" dengan warna biru\n",
    "plt.boxplot(income_users['ultimate'], positions=[2], widths=0.6, patch_artist=True, boxprops=dict(facecolor='blue'), labels=['Ultimate'])\n",
    "plt.xlabel('Month')\n",
    "plt.ylabel('Total Internet Data(Gb)')\n",
    "plt.show()"
   ]
  },
  {
   "cell_type": "code",
   "execution_count": 251,
   "metadata": {},
   "outputs": [
    {
     "data": {
      "image/png": "[encoded data removed]",
      "text/plain": [
       "<Figure size 864x360 with 2 Axes>"
      ]
     },
     "metadata": {
      "needs_background": "light"
     },
     "output_type": "display_data"
    }
   ],
   "source": [
    "# Grafik untuk memvisualisasikan distribusi rata-rata income bulanan\n",
    "plt.figure(figsize=(12, 5))\n",
    "plt.subplot(1, 2, 1)\n",
    "plt.title('Surf')\n",
    "sns.histplot(income_avg_users['surf'], binwidth=5, color='red')\n",
    "\n",
    "plt.subplot(1, 2, 2)\n",
    "plt.title('Ultimate')\n",
    "sns.histplot(income_avg_users['ultimate'], binwidth=5, color='blue')\n",
    "plt.show()"
   ]
  },
  {
   "cell_type": "markdown",
   "metadata": {},
   "source": [
    "<span style = 'color:green'>\n",
    "\n",
    "Nilai Varians cukup tinggi, persebaran jumlah pengguna mempengaruhi pendapatan yang dihasilkan.\n",
    "   \n",
    "</span>"
   ]
  },
  {
   "cell_type": "markdown",
   "metadata": {},
   "source": [
    "## Menguji Hipotesis Statistik"
   ]
  },
  {
   "cell_type": "markdown",
   "metadata": {},
   "source": [
    "<span style = 'color:green'>\n",
    "\n",
    "Uji Hipotesis Pendapatan Murni\n",
    "    \n",
    "H0: Pendapatan rata-rata dari pengguna paket prabayar ultimate dan surf SAMA\n",
    "\n",
    "H1: Pendapatan rata-rata dari pengguna paket prabayar ultimate dan surf BERBEDA\n",
    "\n",
    "Alpha: 5% = 0.05\n",
    "    \n",
    "</span>"
   ]
  },
  {
   "cell_type": "code",
   "execution_count": 252,
   "metadata": {},
   "outputs": [
    {
     "data": {
      "text/plain": [
       "1       20.0\n",
       "6       20.0\n",
       "10      20.0\n",
       "37      20.0\n",
       "56      20.0\n",
       "        ... \n",
       "2539    20.0\n",
       "2541    20.0\n",
       "2543    20.0\n",
       "2544    20.0\n",
       "2545    20.0\n",
       "Name: monthly_revenue, Length: 339, dtype: float64"
      ]
     },
     "execution_count": 252,
     "metadata": {},
     "output_type": "execute_result"
    }
   ],
   "source": [
    "# Uji hipotesisnya\n",
    "surf_income = df_new.loc[df_new['plan']=='surf', 'monthly_revenue']\n",
    "surf_income"
   ]
  },
  {
   "cell_type": "code",
   "execution_count": 253,
   "metadata": {},
   "outputs": [
    {
     "data": {
      "text/plain": [
       "0       70.0\n",
       "19      70.0\n",
       "55      70.0\n",
       "86      70.0\n",
       "112     70.0\n",
       "        ... \n",
       "2535    70.0\n",
       "2536    70.0\n",
       "2538    70.0\n",
       "2540    70.0\n",
       "2542    70.0\n",
       "Name: monthly_revenue, Length: 161, dtype: float64"
      ]
     },
     "execution_count": 253,
     "metadata": {},
     "output_type": "execute_result"
    }
   ],
   "source": [
    "ultimate_income = df_new.loc[df_new['plan']=='ultimate', 'monthly_revenue']\n",
    "ultimate_income"
   ]
  },
  {
   "cell_type": "code",
   "execution_count": 254,
   "metadata": {},
   "outputs": [],
   "source": [
    "pvalue = st.ttest_ind(ultimate_income, surf_income, nan_policy = 'omit').pvalue"
   ]
  },
  {
   "cell_type": "code",
   "execution_count": 255,
   "metadata": {},
   "outputs": [
    {
     "name": "stdout",
     "output_type": "stream",
     "text": [
      "Menerima H1\n"
     ]
    }
   ],
   "source": [
    "# Uji hipotesisnya\n",
    "# H0: Pendapatan rata-rata dari pengguna paket prabayar ultimate dan surf SAMA\n",
    "\n",
    "# H1: Pendapatan rata-rata dari pengguna paket prabayar ultimate dan surf BERBEDA\n",
    "alpha = 0.05\n",
    "\n",
    "if pvalue < alpha:\n",
    "    print('Menerima H1')\n",
    "else:\n",
    "    print('Menerima H0')"
   ]
  },
  {
   "cell_type": "code",
   "execution_count": 256,
   "metadata": {},
   "outputs": [
    {
     "name": "stdout",
     "output_type": "stream",
     "text": [
      "70.0 24.15598820058997\n"
     ]
    }
   ],
   "source": [
    "mean_ultimate_income = ultimate_income.mean()\n",
    "mean_surf_income = surf_income.mean()\n",
    "\n",
    "print(mean_ultimate_income, mean_surf_income)"
   ]
  },
  {
   "cell_type": "markdown",
   "metadata": {},
   "source": [
    "<span style = 'color:green'>\n",
    "\n",
    "Uji Hipotesis Pendapatan di Wilayah NY-NJ\n",
    "    \n",
    "H0: Pendapatan rata-rata dari pengguna paket prabayar di wilayah NY-NJ untuk ultimate dan surf SAMA\n",
    "\n",
    "H1: Pendapatan rata-rata dari pengguna paket prabayar di wilayah NY-NJ untuk ultimate dan surf BERBEDA\n",
    "\n",
    "Alpha: 5% = 0.05\n",
    "    \n",
    "</span>"
   ]
  },
  {
   "cell_type": "code",
   "execution_count": 257,
   "metadata": {},
   "outputs": [
    {
     "data": {
      "text/plain": [
       "1614    20.0\n",
       "2453    20.0\n",
       "287     20.0\n",
       "1966    20.0\n",
       "2371    20.0\n",
       "Name: monthly_revenue, dtype: float64"
      ]
     },
     "execution_count": 257,
     "metadata": {},
     "output_type": "execute_result"
    }
   ],
   "source": [
    "# Uji hipotesisnya\n",
    "surf_nynj_income = df_new.loc[(df_new['plan']=='surf') & (df_new['new_column_city'].str.contains('NY-NJ')), 'monthly_revenue']\n",
    "surf_nynj_income.sample(5)\n"
   ]
  },
  {
   "cell_type": "code",
   "execution_count": 258,
   "metadata": {},
   "outputs": [
    {
     "data": {
      "text/plain": [
       "2402    70.0\n",
       "2489    70.0\n",
       "659     70.0\n",
       "112     70.0\n",
       "2514    70.0\n",
       "Name: monthly_revenue, dtype: float64"
      ]
     },
     "execution_count": 258,
     "metadata": {},
     "output_type": "execute_result"
    }
   ],
   "source": [
    "ulti_nynj_income = df_new.loc[(df_new['plan']=='ultimate') & (df_new['new_column_city'].str.contains('NY-NJ')), 'monthly_revenue']\n",
    "ulti_nynj_income.sample(5)"
   ]
  },
  {
   "cell_type": "code",
   "execution_count": 259,
   "metadata": {},
   "outputs": [],
   "source": [
    "p_value = st.ttest_ind(ulti_nynj_income, surf_nynj_income, nan_policy = 'omit').pvalue"
   ]
  },
  {
   "cell_type": "code",
   "execution_count": 260,
   "metadata": {},
   "outputs": [
    {
     "name": "stdout",
     "output_type": "stream",
     "text": [
      "Menerima H1\n"
     ]
    }
   ],
   "source": [
    "# H0: Pendapatan rata-rata dari pengguna paket di wilayah NY-NJ ultimate dan surf SAMA\n",
    "\n",
    "# H1: Pendapatan rata-rata dari pengguna paket di wilayah NY-NJ ultimate dan surf BERBEDA\n",
    "\n",
    "alpha = 0.05\n",
    "\n",
    "if p_value < alpha:\n",
    "    print('Menerima H1')\n",
    "else:\n",
    "    print('Menerima H0')"
   ]
  },
  {
   "cell_type": "code",
   "execution_count": 261,
   "metadata": {},
   "outputs": [
    {
     "name": "stdout",
     "output_type": "stream",
     "text": [
      "70.0 26.690333333333335\n"
     ]
    }
   ],
   "source": [
    "mean_ulti_nynj_income = ulti_nynj_income.mean()\n",
    "mean_surf_nynj_income = surf_nynj_income.mean()\n",
    "\n",
    "print(mean_ulti_nynj_income, mean_surf_nynj_income)"
   ]
  },
  {
   "cell_type": "markdown",
   "metadata": {},
   "source": [
    "<span style = 'color:green'>\n",
    "\n",
    "Paket Ultimate memiliki income yang lebih besar dibandingkan Surf, namun perbedaannya tidak terlalu besar, jumlah pengguna Surf lebih banyak dapat mempengaruhi nilai income.\n",
    "    \n",
    "</span>"
   ]
  },
  {
   "cell_type": "markdown",
   "metadata": {},
   "source": [
    "## Kesimpulan Umum\n"
   ]
  },
  {
   "cell_type": "markdown",
   "metadata": {},
   "source": [
    "<span style = 'color:green'>\n",
    "\n",
    "**Pendapatan:**\n",
    "\n",
    "Pendapatan rata-rata dari paket Ultimate sebesar $70 lebih tinggi dibandingkan dengan paket Surf dengan besaran sekitar $24 dalam tahun 2018, untuk income rata-rata di wilayah NY-NJ paket Ultimate juga lebih tinggi dibandingkan dengan paket Surf\n",
    "    \n",
    "**Perilaku pengguna:**\n",
    "\n",
    "Pengguna Surf lebih banyak aktifitas di SMS dan Internet, namun perbedaaan dari 3 layanan yang ditawarkan yaitu call, text, dan internet dari paket Ultimate tidak terlalu signifikan. Ultimate sedikit cenderung lebih banyak menggunakan layanan panggilan, namun di akhir tahun 2018 datanya menurun dari jumlah panggilan yang dilakukan.\n",
    "    \n",
    "**Insight:**\n",
    "\n",
    "Pendapatan: Ultimate lebih menguntungkan Megaline dari sisi rata-rata pendapatan yang diperoleh.\n",
    "\n",
    "Perilaku pengguna: Megaline dapat mengembangkan strategi pemasaran yang lebih menekankan manfaat dari paket Ultimate, termasuk panggilan, SMS, dan akses internet yang lebih cepat.\n",
    "Wilayah NY-NJ dapat menjadi potensi bagus untuk pengguna kedua paket.\n",
    "\n",
    "**Rekomendasi:**\n",
    "Megaline dapat mengidentifikasi pelanggan yang cenderung beralih dari satu paket ke paket lain. Ini dapat membantu dalam mengembangkan strategi kebertahanan pelanggan dalam menggunakan paket yang dipilih.\n",
    "    \n",
    "</span>"
   ]
  }
 ],
 "metadata": {
  "ExecuteTimeLog": [
   {
    "duration": 828,
    "start_time": "2021-11-16T09:21:11.304Z"
   },
   {
    "duration": 893,
    "start_time": "2021-11-16T09:21:17.728Z"
   },
   {
    "duration": 1150,
    "start_time": "2021-11-16T09:21:29.568Z"
   },
   {
    "duration": 3,
    "start_time": "2021-11-16T09:24:14.495Z"
   },
   {
    "duration": 120,
    "start_time": "2021-11-16T09:24:46.630Z"
   },
   {
    "duration": 3,
    "start_time": "2021-11-16T09:28:27.882Z"
   },
   {
    "duration": 4,
    "start_time": "2021-11-16T09:29:54.281Z"
   },
   {
    "duration": 3,
    "start_time": "2021-11-16T09:30:45.936Z"
   },
   {
    "duration": 4,
    "start_time": "2021-11-16T09:31:06.300Z"
   },
   {
    "duration": 113,
    "start_time": "2021-11-16T09:31:37.208Z"
   },
   {
    "duration": 143,
    "start_time": "2021-11-16T09:31:48.656Z"
   },
   {
    "duration": 98,
    "start_time": "2021-11-16T09:31:55.678Z"
   },
   {
    "duration": 3,
    "start_time": "2021-11-16T09:32:08.535Z"
   },
   {
    "duration": 111,
    "start_time": "2021-11-16T09:32:10.120Z"
   },
   {
    "duration": 3,
    "start_time": "2021-11-16T09:32:15.732Z"
   },
   {
    "duration": 4,
    "start_time": "2021-11-16T09:32:29.423Z"
   },
   {
    "duration": 3,
    "start_time": "2021-11-16T10:03:03.074Z"
   },
   {
    "duration": 3,
    "start_time": "2021-11-16T10:10:01.288Z"
   },
   {
    "duration": 3,
    "start_time": "2021-11-16T10:10:46.923Z"
   },
   {
    "duration": 121,
    "start_time": "2021-11-16T10:37:46.494Z"
   },
   {
    "duration": 125,
    "start_time": "2021-11-16T10:38:20.632Z"
   },
   {
    "duration": 112,
    "start_time": "2021-11-16T10:46:53.001Z"
   },
   {
    "duration": 110,
    "start_time": "2021-11-16T10:48:25.775Z"
   },
   {
    "duration": 3,
    "start_time": "2021-11-16T10:50:18.720Z"
   },
   {
    "duration": 4,
    "start_time": "2021-11-16T10:50:37.649Z"
   },
   {
    "duration": 2,
    "start_time": "2021-11-16T10:50:51.884Z"
   },
   {
    "duration": 3,
    "start_time": "2021-11-16T10:51:56.237Z"
   },
   {
    "duration": 101,
    "start_time": "2021-11-16T10:53:13.791Z"
   },
   {
    "duration": 3,
    "start_time": "2021-11-16T10:55:59.186Z"
   },
   {
    "duration": 3,
    "start_time": "2021-11-16T10:56:10.751Z"
   },
   {
    "duration": 3,
    "start_time": "2021-11-16T10:56:49.038Z"
   },
   {
    "duration": 3,
    "start_time": "2021-11-16T10:56:49.174Z"
   },
   {
    "duration": 4,
    "start_time": "2021-11-16T10:56:49.414Z"
   },
   {
    "duration": 3,
    "start_time": "2021-11-16T10:56:49.680Z"
   },
   {
    "duration": 3,
    "start_time": "2021-11-16T10:56:50.370Z"
   },
   {
    "duration": 114,
    "start_time": "2021-11-16T10:59:34.518Z"
   },
   {
    "duration": 3,
    "start_time": "2021-11-16T11:01:41.201Z"
   },
   {
    "duration": 116,
    "start_time": "2021-11-16T11:01:48.754Z"
   },
   {
    "duration": 3,
    "start_time": "2021-11-16T11:02:16.685Z"
   },
   {
    "duration": 3,
    "start_time": "2021-11-16T11:02:19.479Z"
   },
   {
    "duration": 3,
    "start_time": "2021-11-16T11:02:47.067Z"
   },
   {
    "duration": 3,
    "start_time": "2021-11-16T11:02:49.353Z"
   },
   {
    "duration": 3,
    "start_time": "2021-11-16T11:03:07.835Z"
   },
   {
    "duration": 3,
    "start_time": "2021-11-16T11:03:07.953Z"
   },
   {
    "duration": 112,
    "start_time": "2021-11-16T11:07:52.072Z"
   },
   {
    "duration": 187,
    "start_time": "2021-11-16T11:09:23.468Z"
   },
   {
    "duration": 4,
    "start_time": "2021-11-16T11:10:01.455Z"
   },
   {
    "duration": 3,
    "start_time": "2021-11-16T11:10:05.069Z"
   },
   {
    "duration": 4,
    "start_time": "2021-11-16T11:10:13.376Z"
   },
   {
    "duration": 3,
    "start_time": "2021-11-16T11:10:14.434Z"
   },
   {
    "duration": 3,
    "start_time": "2021-11-16T11:10:22.853Z"
   },
   {
    "duration": 4,
    "start_time": "2021-11-16T11:27:29.279Z"
   },
   {
    "duration": 4,
    "start_time": "2021-11-16T11:29:08.919Z"
   },
   {
    "duration": 118,
    "start_time": "2021-11-16T11:29:46.703Z"
   },
   {
    "duration": 437,
    "start_time": "2021-11-16T11:36:02.181Z"
   },
   {
    "duration": 157,
    "start_time": "2021-11-16T11:36:14.388Z"
   },
   {
    "duration": 207,
    "start_time": "2021-11-16T11:47:15.898Z"
   },
   {
    "duration": 3,
    "start_time": "2021-11-16T11:53:52.092Z"
   },
   {
    "duration": 3,
    "start_time": "2021-11-16T11:53:52.236Z"
   },
   {
    "duration": 3,
    "start_time": "2021-11-16T11:59:12.005Z"
   },
   {
    "duration": 112,
    "start_time": "2021-11-16T12:00:33.446Z"
   },
   {
    "duration": 3,
    "start_time": "2021-11-16T12:02:14.453Z"
   },
   {
    "duration": 3,
    "start_time": "2021-11-16T12:02:39.512Z"
   },
   {
    "duration": 106,
    "start_time": "2021-11-16T12:03:03.460Z"
   },
   {
    "duration": 3,
    "start_time": "2021-11-17T20:37:21.139Z"
   },
   {
    "duration": 3,
    "start_time": "2021-11-17T20:37:22.229Z"
   },
   {
    "duration": 3,
    "start_time": "2021-11-17T20:38:38.806Z"
   },
   {
    "duration": 3,
    "start_time": "2021-11-17T20:38:41.958Z"
   },
   {
    "duration": 3,
    "start_time": "2021-11-17T20:43:46.551Z"
   },
   {
    "duration": 4,
    "start_time": "2021-11-17T20:58:21.835Z"
   },
   {
    "duration": 3,
    "start_time": "2021-11-17T20:59:21.872Z"
   },
   {
    "duration": 4,
    "start_time": "2021-11-17T20:59:45.352Z"
   },
   {
    "duration": 4,
    "start_time": "2021-11-17T20:59:49.646Z"
   },
   {
    "duration": 159,
    "start_time": "2021-11-17T21:02:26.949Z"
   },
   {
    "duration": 3,
    "start_time": "2021-11-17T21:03:53.461Z"
   },
   {
    "duration": 3,
    "start_time": "2021-11-17T21:03:53.694Z"
   },
   {
    "duration": 3,
    "start_time": "2021-11-17T21:05:28.145Z"
   },
   {
    "duration": 116,
    "start_time": "2021-11-17T21:05:57.787Z"
   },
   {
    "duration": 3,
    "start_time": "2021-11-17T21:06:37.993Z"
   },
   {
    "duration": 3,
    "start_time": "2021-11-17T21:06:38.261Z"
   },
   {
    "duration": 3,
    "start_time": "2021-11-17T21:11:54.358Z"
   },
   {
    "duration": 3,
    "start_time": "2021-11-17T21:12:43.846Z"
   },
   {
    "duration": 4,
    "start_time": "2021-11-17T21:13:08.773Z"
   },
   {
    "duration": 3,
    "start_time": "2021-11-17T21:14:44.441Z"
   },
   {
    "duration": 3,
    "start_time": "2021-11-17T21:15:42.059Z"
   },
   {
    "duration": 4,
    "start_time": "2021-11-17T21:15:51.995Z"
   },
   {
    "duration": 3,
    "start_time": "2021-11-17T21:15:53.923Z"
   },
   {
    "duration": 3,
    "start_time": "2021-11-17T21:15:55.282Z"
   },
   {
    "duration": 3,
    "start_time": "2021-11-17T21:16:28.492Z"
   },
   {
    "duration": 3,
    "start_time": "2021-11-17T21:16:32.603Z"
   },
   {
    "duration": 3,
    "start_time": "2021-11-17T21:17:06.941Z"
   },
   {
    "duration": 98,
    "start_time": "2021-11-17T21:18:05.733Z"
   },
   {
    "duration": 4,
    "start_time": "2021-11-17T21:21:35.255Z"
   },
   {
    "duration": 3,
    "start_time": "2021-11-17T21:21:37.804Z"
   },
   {
    "duration": 4,
    "start_time": "2021-11-17T21:23:06.071Z"
   },
   {
    "duration": 3,
    "start_time": "2021-11-17T21:23:24.799Z"
   },
   {
    "duration": 3,
    "start_time": "2021-11-17T21:23:32.591Z"
   },
   {
    "duration": 98,
    "start_time": "2021-11-17T21:28:31.559Z"
   },
   {
    "duration": 3,
    "start_time": "2021-11-17T21:28:45.448Z"
   },
   {
    "duration": 3,
    "start_time": "2021-11-17T21:29:17.303Z"
   },
   {
    "duration": 3,
    "start_time": "2021-11-17T21:29:29.617Z"
   },
   {
    "duration": 3,
    "start_time": "2021-11-17T21:29:32.681Z"
   },
   {
    "duration": 3,
    "start_time": "2021-11-17T21:36:11.474Z"
   },
   {
    "duration": 3,
    "start_time": "2021-11-17T21:36:14.791Z"
   },
   {
    "duration": 3,
    "start_time": "2021-11-17T21:36:53.943Z"
   },
   {
    "duration": 3,
    "start_time": "2021-11-17T21:36:56.165Z"
   },
   {
    "duration": 4,
    "start_time": "2021-11-17T21:37:16.590Z"
   },
   {
    "duration": 3,
    "start_time": "2021-11-17T21:37:22.702Z"
   },
   {
    "duration": 4,
    "start_time": "2021-11-17T21:38:03.479Z"
   },
   {
    "duration": 3,
    "start_time": "2021-11-17T21:38:08.601Z"
   },
   {
    "duration": 3,
    "start_time": "2021-11-17T21:38:12.928Z"
   },
   {
    "duration": 3,
    "start_time": "2021-11-17T21:38:48.896Z"
   },
   {
    "duration": 2,
    "start_time": "2021-11-17T21:38:49.171Z"
   },
   {
    "duration": 4,
    "start_time": "2021-11-17T21:39:57.889Z"
   },
   {
    "duration": 3,
    "start_time": "2021-11-17T21:39:58.057Z"
   },
   {
    "duration": 3,
    "start_time": "2021-11-17T21:41:20.108Z"
   },
   {
    "duration": 3,
    "start_time": "2021-11-17T21:41:20.629Z"
   },
   {
    "duration": 3,
    "start_time": "2021-11-17T21:42:49.136Z"
   },
   {
    "duration": 3,
    "start_time": "2021-11-17T21:43:15.137Z"
   },
   {
    "duration": 4,
    "start_time": "2021-11-17T21:43:16.766Z"
   },
   {
    "duration": 4,
    "start_time": "2021-11-17T21:43:31.711Z"
   },
   {
    "duration": 3,
    "start_time": "2021-11-17T21:43:36.312Z"
   },
   {
    "duration": 4,
    "start_time": "2021-11-17T21:45:08.825Z"
   },
   {
    "duration": 4,
    "start_time": "2021-11-17T21:45:10.119Z"
   },
   {
    "duration": 4,
    "start_time": "2021-11-17T21:45:13.748Z"
   },
   {
    "duration": 3,
    "start_time": "2021-11-17T21:45:22.219Z"
   },
   {
    "duration": 3,
    "start_time": "2021-11-17T21:45:33.412Z"
   },
   {
    "duration": 2,
    "start_time": "2021-11-17T21:46:01.885Z"
   },
   {
    "duration": 3,
    "start_time": "2021-11-17T21:46:03.628Z"
   },
   {
    "duration": 107,
    "start_time": "2021-11-17T21:47:32.512Z"
   },
   {
    "duration": 103,
    "start_time": "2021-11-17T21:50:36.243Z"
   },
   {
    "duration": 3,
    "start_time": "2021-11-18T06:28:31.440Z"
   },
   {
    "duration": 3,
    "start_time": "2021-11-18T06:29:00.168Z"
   },
   {
    "duration": 3,
    "start_time": "2021-11-18T06:31:27.008Z"
   },
   {
    "duration": 2,
    "start_time": "2021-11-18T06:35:34.288Z"
   },
   {
    "duration": 2,
    "start_time": "2021-11-18T06:38:04.527Z"
   }
  ],
  "kernelspec": {
   "display_name": "Python 3 (ipykernel)",
   "language": "python",
   "name": "python3"
  },
  "language_info": {
   "codemirror_mode": {
    "name": "ipython",
    "version": 3
   },
   "file_extension": ".py",
   "mimetype": "text/x-python",
   "name": "python",
   "nbconvert_exporter": "python",
   "pygments_lexer": "ipython3",
   "version": "3.11.4"
  },
  "toc": {
   "base_numbering": 1,
   "nav_menu": {},
   "number_sections": true,
   "sideBar": true,
   "skip_h1_title": false,
   "title_cell": "Table of Contents",
   "title_sidebar": "Contents",
   "toc_cell": false,
   "toc_position": {
    "height": "calc(100% - 180px)",
    "left": "10px",
    "top": "150px",
    "width": "241px"
   },
   "toc_section_display": true,
   "toc_window_display": false
  }
 },
 "nbformat": 4,
 "nbformat_minor": 2
}
